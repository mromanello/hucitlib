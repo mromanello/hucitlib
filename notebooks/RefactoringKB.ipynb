{
 "cells": [
  {
   "cell_type": "markdown",
   "metadata": {},
   "source": [
    "## Imports"
   ]
  },
  {
   "cell_type": "code",
   "execution_count": 2,
   "metadata": {
    "init_cell": true
   },
   "outputs": [],
   "source": [
    "import pprint\n",
    "import pandas as pd\n",
    "import codecs\n",
    "import pickle\n",
    "import surf\n",
    "from tqdm import tqdm\n",
    "import requests\n",
    "from rdflib.term import URIRef\n",
    "import knowledge_base\n",
    "from knowledge_base import KnowledgeBase\n",
    "from tabulate import tabulate"
   ]
  },
  {
   "cell_type": "code",
   "execution_count": 3,
   "metadata": {},
   "outputs": [
    {
     "data": {
      "text/plain": [
       "u'0.20.3'"
      ]
     },
     "execution_count": 3,
     "metadata": {},
     "output_type": "execute_result"
    }
   ],
   "source": [
    "pd.__version__"
   ]
  },
  {
   "cell_type": "code",
   "execution_count": 4,
   "metadata": {
    "collapsed": true
   },
   "outputs": [],
   "source": [
    "# experimenting with dask\n",
    "import dask\n",
    "from dask import compute, delayed\n",
    "from dask.diagnostics import ProgressBar\n",
    "from dask.multiprocessing import get as mp_get"
   ]
  },
  {
   "cell_type": "code",
   "execution_count": 6,
   "metadata": {
    "init_cell": true
   },
   "outputs": [],
   "source": [
    "kb = KnowledgeBase(\"/Users/rromanello/Documents/ClassicsCitations/hucit_kb/knowledge_base/config/virtuoso.ini\")"
   ]
  },
  {
   "cell_type": "code",
   "execution_count": 7,
   "metadata": {
    "init_cell": true
   },
   "outputs": [
    {
     "data": {
      "text/plain": [
       "1548"
      ]
     },
     "execution_count": 7,
     "metadata": {},
     "output_type": "execute_result"
    }
   ],
   "source": [
    "len(kb.get_authors())"
   ]
  },
  {
   "cell_type": "code",
   "execution_count": 8,
   "metadata": {},
   "outputs": [
    {
     "data": {
      "text/plain": [
       "HucitWork (title=[De ventis (@la)],urn=urn:cts:cwkb:711.1448)"
      ]
     },
     "execution_count": 8,
     "metadata": {},
     "output_type": "execute_result"
    }
   ],
   "source": [
    "kb.get_resource_by_urn(\"urn:cts:cwkb:711.1448\")"
   ]
  },
  {
   "cell_type": "code",
   "execution_count": 5,
   "metadata": {},
   "outputs": [
    {
     "name": "stdout",
     "output_type": "stream",
     "text": [
      "CPU times: user 33.5 s, sys: 16.3 s, total: 49.8 s\n",
      "Wall time: 4min 27s\n"
     ]
    }
   ],
   "source": [
    "%%time\n",
    "stats = kb.get_statistics()"
   ]
  },
  {
   "cell_type": "code",
   "execution_count": 6,
   "metadata": {},
   "outputs": [
    {
     "name": "stdout",
     "output_type": "stream",
     "text": [
      "{'number_author_abbreviations': 774,\n",
      " 'number_author_names': 4842,\n",
      " 'number_authors': 1548,\n",
      " 'number_title_abbreviations': 2377,\n",
      " 'number_work_titles': 10354,\n",
      " 'number_works': 5199}\n"
     ]
    }
   ],
   "source": [
    "pprint.pprint(stats)"
   ]
  },
  {
   "cell_type": "code",
   "execution_count": 8,
   "metadata": {
    "collapsed": true
   },
   "outputs": [],
   "source": [
    "kb.author_names?"
   ]
  },
  {
   "cell_type": "code",
   "execution_count": 20,
   "metadata": {},
   "outputs": [],
   "source": [
    "search_results = kb.search(\"Homer\")"
   ]
  },
  {
   "cell_type": "code",
   "execution_count": 26,
   "metadata": {},
   "outputs": [],
   "source": [
    "homer = search_results[1][1]"
   ]
  },
  {
   "cell_type": "code",
   "execution_count": 28,
   "metadata": {},
   "outputs": [
    {
     "name": "stdout",
     "output_type": "stream",
     "text": [
      "{\n",
      "  \"name_abbreviations\": [\n",
      "    \"Hom.\"\n",
      "  ], \n",
      "  \"urn\": \"urn:cts:greekLit:tlg0012\", \n",
      "  \"works\": [\n",
      "    {\n",
      "      \"urn\": \"urn:cts:cwkb:927.2814\", \n",
      "      \"titles\": [\n",
      "        {\n",
      "          \"language\": \"la\", \n",
      "          \"label\": \"Epigrammata\"\n",
      "        }\n",
      "      ], \n",
      "      \"uri\": \"http://purl.org/hucit/kb/works/2814\", \n",
      "      \"title_abbreviations\": [\n",
      "        \"epigr.\"\n",
      "      ]\n",
      "    }, \n",
      "    {\n",
      "      \"urn\": \"urn:cts:greekLit:tlg0012.tlg001\", \n",
      "      \"titles\": [\n",
      "        {\n",
      "          \"language\": \"it\", \n",
      "          \"label\": \"Iliade\"\n",
      "        }, \n",
      "        {\n",
      "          \"language\": \"la\", \n",
      "          \"label\": \"Ilias\"\n",
      "        }, \n",
      "        {\n",
      "          \"language\": \"en\", \n",
      "          \"label\": \"Iliad\"\n",
      "        }, \n",
      "        {\n",
      "          \"language\": \"de\", \n",
      "          \"label\": \"Ilias\"\n",
      "        }, \n",
      "        {\n",
      "          \"language\": \"fr\", \n",
      "          \"label\": \"L'Iliade\"\n",
      "        }\n",
      "      ], \n",
      "      \"uri\": \"http://purl.org/hucit/kb/works/2815\", \n",
      "      \"title_abbreviations\": [\n",
      "        \"Il.\"\n",
      "      ]\n",
      "    }, \n",
      "    {\n",
      "      \"urn\": \"urn:cts:greekLit:tlg0012.tlg002\", \n",
      "      \"titles\": [\n",
      "        {\n",
      "          \"language\": \"en\", \n",
      "          \"label\": \"Odyssey\"\n",
      "        }, \n",
      "        {\n",
      "          \"language\": \"de\", \n",
      "          \"label\": \"Odyssee\"\n",
      "        }, \n",
      "        {\n",
      "          \"language\": \"la\", \n",
      "          \"label\": \"Odyssea\"\n",
      "        }, \n",
      "        {\n",
      "          \"language\": \"fr\", \n",
      "          \"label\": \"l'Odyss\\u00e9e\"\n",
      "        }, \n",
      "        {\n",
      "          \"language\": \"it\", \n",
      "          \"label\": \"Odissea\"\n",
      "        }\n",
      "      ], \n",
      "      \"uri\": \"http://purl.org/hucit/kb/works/2816\", \n",
      "      \"title_abbreviations\": [\n",
      "        \"Od.\", \n",
      "        \"Odyss.\"\n",
      "      ]\n",
      "    }\n",
      "  ], \n",
      "  \"uri\": \"http://purl.org/hucit/kb/authors/927\", \n",
      "  \"names\": [\n",
      "    {\n",
      "      \"language\": \"fr\", \n",
      "      \"label\": \"Hom\\u00e8re\"\n",
      "    }, \n",
      "    {\n",
      "      \"language\": \"la\", \n",
      "      \"label\": \"Homerus\"\n",
      "    }, \n",
      "    {\n",
      "      \"language\": null, \n",
      "      \"label\": \"Homeros\"\n",
      "    }, \n",
      "    {\n",
      "      \"language\": \"en\", \n",
      "      \"label\": \"Homer\"\n",
      "    }, \n",
      "    {\n",
      "      \"language\": \"it\", \n",
      "      \"label\": \"Omero\"\n",
      "    }\n",
      "  ]\n",
      "}\n"
     ]
    }
   ],
   "source": [
    "print homer.to_json()"
   ]
  },
  {
   "cell_type": "markdown",
   "metadata": {
    "collapsed": true
   },
   "source": [
    "## TODO\n",
    "\n",
    "### fetch `sameAs` for the works\n",
    "\n",
    "- for each author\n",
    "    - for each work\n",
    "        - get the cwkb URL\n",
    "        - parse the turtle and extract the sameAs pointing to the catalog\n",
    "        - return\n",
    "        \n",
    "then do the same for the authors"
   ]
  },
  {
   "cell_type": "markdown",
   "metadata": {},
   "source": [
    "## Gather basic stats"
   ]
  },
  {
   "cell_type": "code",
   "execution_count": 40,
   "metadata": {
    "collapsed": true
   },
   "outputs": [],
   "source": [
    "author_abbreviations = [(len(author.get_abbreviations())) for author in kb.get_authors()]"
   ]
  },
  {
   "cell_type": "code",
   "execution_count": 41,
   "metadata": {
    "collapsed": true
   },
   "outputs": [],
   "source": [
    "author_names = [(len(author.get_names())) for author in kb.get_authors()]"
   ]
  },
  {
   "cell_type": "code",
   "execution_count": 42,
   "metadata": {
    "collapsed": true
   },
   "outputs": [],
   "source": [
    "work_abbreviations = [(len(work.get_abbreviations())) for author in kb.get_authors() for work in author.get_works()]"
   ]
  },
  {
   "cell_type": "code",
   "execution_count": 36,
   "metadata": {},
   "outputs": [],
   "source": [
    "work_titles = [(len(work.get_titles())) for author in kb.get_authors() for work in author.get_works()]"
   ]
  },
  {
   "cell_type": "code",
   "execution_count": 43,
   "metadata": {
    "code_folding": [
     11
    ],
    "collapsed": true
   },
   "outputs": [],
   "source": [
    "stats = []\n",
    "\n",
    "stats.append({\n",
    "        \"label\" : \"Author names\", \n",
    "        \"total\" : pd.Series(author_names).sum(),\n",
    "        \"min\" : pd.Series(author_names).min(),\n",
    "        \"max\" : pd.Series(author_names).max(),\n",
    "        \"variance\" : pd.Series(author_names).var(),\n",
    "        \"mean\" : pd.Series(author_names).mean()\n",
    "})\n",
    "\n",
    "stats.append({\n",
    "        \"label\" : \"Author abbreviations\", \n",
    "        \"total\" :  pd.Series(author_abbreviations).sum(),\n",
    "        \"min\" : pd.Series(author_abbreviations).min(),\n",
    "        \"max\" : pd.Series(author_abbreviations).max(),\n",
    "        \"variance\" : pd.Series(author_abbreviations).var(),\n",
    "        \"mean\" : pd.Series(author_abbreviations).mean()\n",
    "})\n",
    "\n",
    "stats.append({\n",
    "        \"label\" : \"Work titles\", \n",
    "        \"total\" : pd.Series(work_titles).sum(),\n",
    "        \"min\" : pd.Series(work_titles).min(),\n",
    "        \"max\" : pd.Series(work_titles).max(),\n",
    "        \"variance\" : pd.Series(work_titles).var(),\n",
    "        \"mean\" : pd.Series(work_titles).mean()\n",
    "})\n",
    "\n",
    "\n",
    "stats.append({\n",
    "        \"label\" : \"Work abbreviations\", \n",
    "        \"total\" : pd.Series(work_abbreviations).sum(),\n",
    "        \"min\" : pd.Series(work_abbreviations).min(),\n",
    "        \"max\" : pd.Series(work_abbreviations).max(),\n",
    "        \"variance\" : pd.Series(work_abbreviations).var(),\n",
    "        \"mean\" : pd.Series(work_abbreviations).mean()\n",
    "})\n",
    "\n",
    "df_stats = pd.DataFrame(stats, index=[stat[\"label\"] for stat in stats])"
   ]
  },
  {
   "cell_type": "code",
   "execution_count": 44,
   "metadata": {},
   "outputs": [
    {
     "data": {
      "text/html": [
       "<div style=\"max-height:1000px;max-width:1500px;overflow:auto;\">\n",
       "<table border=\"1\" class=\"dataframe\">\n",
       "  <thead>\n",
       "    <tr style=\"text-align: right;\">\n",
       "      <th></th>\n",
       "      <th>total</th>\n",
       "      <th>min</th>\n",
       "      <th>max</th>\n",
       "      <th>mean</th>\n",
       "      <th>variance</th>\n",
       "    </tr>\n",
       "  </thead>\n",
       "  <tbody>\n",
       "    <tr>\n",
       "      <th>Author names</th>\n",
       "      <td>  4842</td>\n",
       "      <td> 1</td>\n",
       "      <td> 27</td>\n",
       "      <td> 3.127907</td>\n",
       "      <td> 9.812976</td>\n",
       "    </tr>\n",
       "    <tr>\n",
       "      <th>Author abbreviations</th>\n",
       "      <td>   774</td>\n",
       "      <td> 0</td>\n",
       "      <td>  2</td>\n",
       "      <td> 0.500000</td>\n",
       "      <td> 0.263090</td>\n",
       "    </tr>\n",
       "    <tr>\n",
       "      <th>Work titles</th>\n",
       "      <td> 10354</td>\n",
       "      <td> 1</td>\n",
       "      <td> 31</td>\n",
       "      <td> 1.991537</td>\n",
       "      <td> 6.417397</td>\n",
       "    </tr>\n",
       "    <tr>\n",
       "      <th>Work abbreviations</th>\n",
       "      <td>  2377</td>\n",
       "      <td> 0</td>\n",
       "      <td>  3</td>\n",
       "      <td> 0.457203</td>\n",
       "      <td> 0.574496</td>\n",
       "    </tr>\n",
       "  </tbody>\n",
       "</table>\n",
       "</div>"
      ],
      "text/plain": [
       "                      total  min  max      mean  variance\n",
       "Author names           4842    1   27  3.127907  9.812976\n",
       "Author abbreviations    774    0    2  0.500000  0.263090\n",
       "Work titles           10354    1   31  1.991537  6.417397\n",
       "Work abbreviations     2377    0    3  0.457203  0.574496"
      ]
     },
     "execution_count": 44,
     "metadata": {},
     "output_type": "execute_result"
    }
   ],
   "source": [
    "df_stats[[\"total\", \"min\", \"max\", \"mean\", \"variance\"]]"
   ]
  },
  {
   "cell_type": "code",
   "execution_count": 45,
   "metadata": {},
   "outputs": [
    {
     "data": {
      "text/plain": [
       "u'\\\\begin{tabular}{llrrrrr}\\n\\\\toprule\\n{} &                 label &  max &      mean &  min &  total &  variance \\\\\\\\\\n\\\\midrule\\nAuthor names         &          Author names &   27 &  3.127907 &    1 &   4842 &  9.812976 \\\\\\\\\\nAuthor abbreviations &  Author abbreviations &    2 &  0.500000 &    0 &    774 &  0.263090 \\\\\\\\\\nWork titles          &           Work titles &   31 &  1.991537 &    1 &  10354 &  6.417397 \\\\\\\\\\nWork abbreviations   &    Work abbreviations &    3 &  0.457203 &    0 &   2377 &  0.574496 \\\\\\\\\\n\\\\bottomrule\\n\\\\end{tabular}\\n'"
      ]
     },
     "execution_count": 45,
     "metadata": {},
     "output_type": "execute_result"
    }
   ],
   "source": [
    "df_stats.to_latex()"
   ]
  },
  {
   "cell_type": "code",
   "execution_count": 9,
   "metadata": {},
   "outputs": [
    {
     "name": "stdout",
     "output_type": "stream",
     "text": [
      "|                      |   Total |   Min |   Max |     Mean |   Variance |\n",
      "|:---------------------|--------:|------:|------:|---------:|-----------:|\n",
      "| Author names         |    4842 |     1 |    27 | 3.12791  |   9.81298  |\n",
      "| Author abbreviations |     774 |     0 |     2 | 0.5      |   0.26309  |\n",
      "| Work titles          |   10354 |     1 |    31 | 1.99154  |   6.4174   |\n",
      "| Work abbreviations   |    2377 |     0 |     3 | 0.457203 |   0.574496 |\n"
     ]
    }
   ],
   "source": [
    "print tabulate(df_stats[[\"total\", \"min\", \"max\", \"mean\", \"variance\"]]\n",
    "               , [\"\", \"Total\", \"Min\", \"Max\", \"Mean\", \"Variance\"], tablefmt=\"pipe\")"
   ]
  },
  {
   "cell_type": "code",
   "execution_count": 7,
   "metadata": {},
   "outputs": [
    {
     "name": "stdout",
     "output_type": "stream",
     "text": [
      "\\begin{tabular}{lrrrrr}\n",
      "\\hline\n",
      "                      &    Total &   Min &   Max &   Mean &   Variance \\\\\n",
      "\\hline\n",
      " Author names         &  4842.00 &  1.00 & 27.00 &   3.13 &       9.81 \\\\\n",
      " Author abbreviations &   774.00 &  0.00 &  2.00 &   0.50 &       0.26 \\\\\n",
      " Work titles          & 10354.00 &  1.00 & 31.00 &   1.99 &       6.42 \\\\\n",
      " Work abbreviations   &  2377.00 &  0.00 &  3.00 &   0.46 &       0.57 \\\\\n",
      "\\hline\n",
      "\\end{tabular}\n"
     ]
    }
   ],
   "source": [
    "print tabulate(df_stats[[\"total\", \"min\", \"max\", \"mean\", \"variance\"]]\n",
    "               , [\"\", \"Total\", \"Min\", \"Max\", \"Mean\", \"Variance\"], tablefmt=\"latex\", floatfmt=\".2f\")"
   ]
  },
  {
   "cell_type": "code",
   "execution_count": 48,
   "metadata": {},
   "outputs": [],
   "source": [
    "df_stats.to_csv(\"./kb_stats.csv\")"
   ]
  },
  {
   "cell_type": "code",
   "execution_count": 5,
   "metadata": {
    "collapsed": true
   },
   "outputs": [],
   "source": [
    "df_stats = pd.read_csv(\"./kb_stats.csv\", index_col=\"label\")"
   ]
  },
  {
   "cell_type": "code",
   "execution_count": 11,
   "metadata": {},
   "outputs": [
    {
     "name": "stdout",
     "output_type": "stream",
     "text": [
      "<class 'pandas.core.frame.DataFrame'>\n",
      "Index: 4 entries, Author names to Work abbreviations\n",
      "Data columns (total 6 columns):\n",
      "Unnamed: 0    4 non-null object\n",
      "max           4 non-null int64\n",
      "mean          4 non-null float64\n",
      "min           4 non-null int64\n",
      "total         4 non-null int64\n",
      "variance      4 non-null float64\n",
      "dtypes: float64(2), int64(3), object(1)\n",
      "memory usage: 224.0 bytes\n"
     ]
    }
   ],
   "source": [
    "df_stats.info()"
   ]
  },
  {
   "cell_type": "markdown",
   "metadata": {},
   "source": [
    "## Add `owl:sameAs` for CWKB.org"
   ]
  },
  {
   "cell_type": "code",
   "execution_count": 7,
   "metadata": {
    "collapsed": true
   },
   "outputs": [],
   "source": [
    "cwkb_uri_author_template = \"http://cwkb.org/author/id/%i/turtle\"\n",
    "cwkb_uri_work_template = \"http://cwkb.org/work/id/%i/turtle\"\n",
    "\n",
    "def to_cwkb_uri(author, template=\"http://cwkb.org/author/id/%i/turtle\"):\n",
    "    return template % int(str(author.subject).split(\"/\")[-1])"
   ]
  },
  {
   "cell_type": "code",
   "execution_count": 8,
   "metadata": {
    "collapsed": true
   },
   "outputs": [],
   "source": [
    "cwkb_author_uris = {a.subject:to_cwkb_uri(a) for a in kb.get_authors()}\n",
    "cwkb_work_uris = {w.subject:to_cwkb_uri(w, cwkb_uri_work_template) for w in kb.get_works()}"
   ]
  },
  {
   "cell_type": "code",
   "execution_count": 9,
   "metadata": {
    "collapsed": true
   },
   "outputs": [
    {
     "name": "stderr",
     "output_type": "stream",
     "text": [
      "  1%|          | 77/6747 [00:25<36:20,  3.06it/s]"
     ]
    },
    {
     "ename": "KeyboardInterrupt",
     "evalue": "",
     "output_type": "error",
     "traceback": [
      "\u001b[0;31m---------------------------------------------------------------------------\u001b[0m",
      "\u001b[0;31mKeyboardInterrupt\u001b[0m                         Traceback (most recent call last)",
      "\u001b[0;32m<ipython-input-9-587279050a1a>\u001b[0m in \u001b[0;36m<module>\u001b[0;34m()\u001b[0m\n\u001b[1;32m      1\u001b[0m \u001b[0;31m# check that the CWKB URIs actually exist: they should, but you never know...\u001b[0m\u001b[0;34m\u001b[0m\u001b[0;34m\u001b[0m\u001b[0m\n\u001b[1;32m      2\u001b[0m \u001b[0;32mfor\u001b[0m \u001b[0muri\u001b[0m \u001b[0;32min\u001b[0m \u001b[0mtqdm\u001b[0m\u001b[0;34m(\u001b[0m\u001b[0mcwkb_author_uris\u001b[0m\u001b[0;34m.\u001b[0m\u001b[0mvalues\u001b[0m\u001b[0;34m(\u001b[0m\u001b[0;34m)\u001b[0m \u001b[0;34m+\u001b[0m \u001b[0mcwkb_work_uris\u001b[0m\u001b[0;34m.\u001b[0m\u001b[0mvalues\u001b[0m\u001b[0;34m(\u001b[0m\u001b[0;34m)\u001b[0m\u001b[0;34m)\u001b[0m\u001b[0;34m:\u001b[0m\u001b[0;34m\u001b[0m\u001b[0m\n\u001b[0;32m----> 3\u001b[0;31m     \u001b[0;32massert\u001b[0m \u001b[0mrequests\u001b[0m\u001b[0;34m.\u001b[0m\u001b[0mget\u001b[0m\u001b[0;34m(\u001b[0m\u001b[0muri\u001b[0m\u001b[0;34m)\u001b[0m\u001b[0;34m.\u001b[0m\u001b[0mstatus_code\u001b[0m \u001b[0;34m==\u001b[0m \u001b[0;36m200\u001b[0m\u001b[0;34m\u001b[0m\u001b[0m\n\u001b[0m",
      "\u001b[0;32m/Users/rromanello/.pyenv/versions/2.7.13/envs/kb-dev/lib/python2.7/site-packages/requests/api.pyc\u001b[0m in \u001b[0;36mget\u001b[0;34m(url, params, **kwargs)\u001b[0m\n\u001b[1;32m     70\u001b[0m \u001b[0;34m\u001b[0m\u001b[0m\n\u001b[1;32m     71\u001b[0m     \u001b[0mkwargs\u001b[0m\u001b[0;34m.\u001b[0m\u001b[0msetdefault\u001b[0m\u001b[0;34m(\u001b[0m\u001b[0;34m'allow_redirects'\u001b[0m\u001b[0;34m,\u001b[0m \u001b[0mTrue\u001b[0m\u001b[0;34m)\u001b[0m\u001b[0;34m\u001b[0m\u001b[0m\n\u001b[0;32m---> 72\u001b[0;31m     \u001b[0;32mreturn\u001b[0m \u001b[0mrequest\u001b[0m\u001b[0;34m(\u001b[0m\u001b[0;34m'get'\u001b[0m\u001b[0;34m,\u001b[0m \u001b[0murl\u001b[0m\u001b[0;34m,\u001b[0m \u001b[0mparams\u001b[0m\u001b[0;34m=\u001b[0m\u001b[0mparams\u001b[0m\u001b[0;34m,\u001b[0m \u001b[0;34m**\u001b[0m\u001b[0mkwargs\u001b[0m\u001b[0;34m)\u001b[0m\u001b[0;34m\u001b[0m\u001b[0m\n\u001b[0m\u001b[1;32m     73\u001b[0m \u001b[0;34m\u001b[0m\u001b[0m\n\u001b[1;32m     74\u001b[0m \u001b[0;34m\u001b[0m\u001b[0m\n",
      "\u001b[0;32m/Users/rromanello/.pyenv/versions/2.7.13/envs/kb-dev/lib/python2.7/site-packages/requests/api.pyc\u001b[0m in \u001b[0;36mrequest\u001b[0;34m(method, url, **kwargs)\u001b[0m\n\u001b[1;32m     56\u001b[0m     \u001b[0;31m# cases, and look like a memory leak in others.\u001b[0m\u001b[0;34m\u001b[0m\u001b[0;34m\u001b[0m\u001b[0m\n\u001b[1;32m     57\u001b[0m     \u001b[0;32mwith\u001b[0m \u001b[0msessions\u001b[0m\u001b[0;34m.\u001b[0m\u001b[0mSession\u001b[0m\u001b[0;34m(\u001b[0m\u001b[0;34m)\u001b[0m \u001b[0;32mas\u001b[0m \u001b[0msession\u001b[0m\u001b[0;34m:\u001b[0m\u001b[0;34m\u001b[0m\u001b[0m\n\u001b[0;32m---> 58\u001b[0;31m         \u001b[0;32mreturn\u001b[0m \u001b[0msession\u001b[0m\u001b[0;34m.\u001b[0m\u001b[0mrequest\u001b[0m\u001b[0;34m(\u001b[0m\u001b[0mmethod\u001b[0m\u001b[0;34m=\u001b[0m\u001b[0mmethod\u001b[0m\u001b[0;34m,\u001b[0m \u001b[0murl\u001b[0m\u001b[0;34m=\u001b[0m\u001b[0murl\u001b[0m\u001b[0;34m,\u001b[0m \u001b[0;34m**\u001b[0m\u001b[0mkwargs\u001b[0m\u001b[0;34m)\u001b[0m\u001b[0;34m\u001b[0m\u001b[0m\n\u001b[0m\u001b[1;32m     59\u001b[0m \u001b[0;34m\u001b[0m\u001b[0m\n\u001b[1;32m     60\u001b[0m \u001b[0;34m\u001b[0m\u001b[0m\n",
      "\u001b[0;32m/Users/rromanello/.pyenv/versions/2.7.13/envs/kb-dev/lib/python2.7/site-packages/requests/sessions.pyc\u001b[0m in \u001b[0;36mrequest\u001b[0;34m(self, method, url, params, data, headers, cookies, files, auth, timeout, allow_redirects, proxies, hooks, stream, verify, cert, json)\u001b[0m\n\u001b[1;32m    506\u001b[0m         }\n\u001b[1;32m    507\u001b[0m         \u001b[0msend_kwargs\u001b[0m\u001b[0;34m.\u001b[0m\u001b[0mupdate\u001b[0m\u001b[0;34m(\u001b[0m\u001b[0msettings\u001b[0m\u001b[0;34m)\u001b[0m\u001b[0;34m\u001b[0m\u001b[0m\n\u001b[0;32m--> 508\u001b[0;31m         \u001b[0mresp\u001b[0m \u001b[0;34m=\u001b[0m \u001b[0mself\u001b[0m\u001b[0;34m.\u001b[0m\u001b[0msend\u001b[0m\u001b[0;34m(\u001b[0m\u001b[0mprep\u001b[0m\u001b[0;34m,\u001b[0m \u001b[0;34m**\u001b[0m\u001b[0msend_kwargs\u001b[0m\u001b[0;34m)\u001b[0m\u001b[0;34m\u001b[0m\u001b[0m\n\u001b[0m\u001b[1;32m    509\u001b[0m \u001b[0;34m\u001b[0m\u001b[0m\n\u001b[1;32m    510\u001b[0m         \u001b[0;32mreturn\u001b[0m \u001b[0mresp\u001b[0m\u001b[0;34m\u001b[0m\u001b[0m\n",
      "\u001b[0;32m/Users/rromanello/.pyenv/versions/2.7.13/envs/kb-dev/lib/python2.7/site-packages/requests/sessions.pyc\u001b[0m in \u001b[0;36msend\u001b[0;34m(self, request, **kwargs)\u001b[0m\n\u001b[1;32m    616\u001b[0m \u001b[0;34m\u001b[0m\u001b[0m\n\u001b[1;32m    617\u001b[0m         \u001b[0;31m# Send the request\u001b[0m\u001b[0;34m\u001b[0m\u001b[0;34m\u001b[0m\u001b[0m\n\u001b[0;32m--> 618\u001b[0;31m         \u001b[0mr\u001b[0m \u001b[0;34m=\u001b[0m \u001b[0madapter\u001b[0m\u001b[0;34m.\u001b[0m\u001b[0msend\u001b[0m\u001b[0;34m(\u001b[0m\u001b[0mrequest\u001b[0m\u001b[0;34m,\u001b[0m \u001b[0;34m**\u001b[0m\u001b[0mkwargs\u001b[0m\u001b[0;34m)\u001b[0m\u001b[0;34m\u001b[0m\u001b[0m\n\u001b[0m\u001b[1;32m    619\u001b[0m \u001b[0;34m\u001b[0m\u001b[0m\n\u001b[1;32m    620\u001b[0m         \u001b[0;31m# Total elapsed time of the request (approximately)\u001b[0m\u001b[0;34m\u001b[0m\u001b[0;34m\u001b[0m\u001b[0m\n",
      "\u001b[0;32m/Users/rromanello/.pyenv/versions/2.7.13/envs/kb-dev/lib/python2.7/site-packages/requests/adapters.pyc\u001b[0m in \u001b[0;36msend\u001b[0;34m(self, request, stream, timeout, verify, cert, proxies)\u001b[0m\n\u001b[1;32m    438\u001b[0m                     \u001b[0mdecode_content\u001b[0m\u001b[0;34m=\u001b[0m\u001b[0mFalse\u001b[0m\u001b[0;34m,\u001b[0m\u001b[0;34m\u001b[0m\u001b[0m\n\u001b[1;32m    439\u001b[0m                     \u001b[0mretries\u001b[0m\u001b[0;34m=\u001b[0m\u001b[0mself\u001b[0m\u001b[0;34m.\u001b[0m\u001b[0mmax_retries\u001b[0m\u001b[0;34m,\u001b[0m\u001b[0;34m\u001b[0m\u001b[0m\n\u001b[0;32m--> 440\u001b[0;31m                     \u001b[0mtimeout\u001b[0m\u001b[0;34m=\u001b[0m\u001b[0mtimeout\u001b[0m\u001b[0;34m\u001b[0m\u001b[0m\n\u001b[0m\u001b[1;32m    441\u001b[0m                 )\n\u001b[1;32m    442\u001b[0m \u001b[0;34m\u001b[0m\u001b[0m\n",
      "\u001b[0;32m/Users/rromanello/.pyenv/versions/2.7.13/envs/kb-dev/lib/python2.7/site-packages/urllib3/connectionpool.pyc\u001b[0m in \u001b[0;36murlopen\u001b[0;34m(self, method, url, body, headers, retries, redirect, assert_same_host, timeout, pool_timeout, release_conn, chunked, body_pos, **response_kw)\u001b[0m\n\u001b[1;32m    599\u001b[0m                                                   \u001b[0mtimeout\u001b[0m\u001b[0;34m=\u001b[0m\u001b[0mtimeout_obj\u001b[0m\u001b[0;34m,\u001b[0m\u001b[0;34m\u001b[0m\u001b[0m\n\u001b[1;32m    600\u001b[0m                                                   \u001b[0mbody\u001b[0m\u001b[0;34m=\u001b[0m\u001b[0mbody\u001b[0m\u001b[0;34m,\u001b[0m \u001b[0mheaders\u001b[0m\u001b[0;34m=\u001b[0m\u001b[0mheaders\u001b[0m\u001b[0;34m,\u001b[0m\u001b[0;34m\u001b[0m\u001b[0m\n\u001b[0;32m--> 601\u001b[0;31m                                                   chunked=chunked)\n\u001b[0m\u001b[1;32m    602\u001b[0m \u001b[0;34m\u001b[0m\u001b[0m\n\u001b[1;32m    603\u001b[0m             \u001b[0;31m# If we're going to release the connection in ``finally:``, then\u001b[0m\u001b[0;34m\u001b[0m\u001b[0;34m\u001b[0m\u001b[0m\n",
      "\u001b[0;32m/Users/rromanello/.pyenv/versions/2.7.13/envs/kb-dev/lib/python2.7/site-packages/urllib3/connectionpool.pyc\u001b[0m in \u001b[0;36m_make_request\u001b[0;34m(self, conn, method, url, timeout, chunked, **httplib_request_kw)\u001b[0m\n\u001b[1;32m    378\u001b[0m         \u001b[0;32mtry\u001b[0m\u001b[0;34m:\u001b[0m\u001b[0;34m\u001b[0m\u001b[0m\n\u001b[1;32m    379\u001b[0m             \u001b[0;32mtry\u001b[0m\u001b[0;34m:\u001b[0m  \u001b[0;31m# Python 2.7, use buffering of HTTP responses\u001b[0m\u001b[0;34m\u001b[0m\u001b[0m\n\u001b[0;32m--> 380\u001b[0;31m                 \u001b[0mhttplib_response\u001b[0m \u001b[0;34m=\u001b[0m \u001b[0mconn\u001b[0m\u001b[0;34m.\u001b[0m\u001b[0mgetresponse\u001b[0m\u001b[0;34m(\u001b[0m\u001b[0mbuffering\u001b[0m\u001b[0;34m=\u001b[0m\u001b[0mTrue\u001b[0m\u001b[0;34m)\u001b[0m\u001b[0;34m\u001b[0m\u001b[0m\n\u001b[0m\u001b[1;32m    381\u001b[0m             \u001b[0;32mexcept\u001b[0m \u001b[0mTypeError\u001b[0m\u001b[0;34m:\u001b[0m  \u001b[0;31m# Python 2.6 and older, Python 3\u001b[0m\u001b[0;34m\u001b[0m\u001b[0m\n\u001b[1;32m    382\u001b[0m                 \u001b[0;32mtry\u001b[0m\u001b[0;34m:\u001b[0m\u001b[0;34m\u001b[0m\u001b[0m\n",
      "\u001b[0;32m/System/Library/Frameworks/Python.framework/Versions/2.7/lib/python2.7/httplib.pyc\u001b[0m in \u001b[0;36mgetresponse\u001b[0;34m(self, buffering)\u001b[0m\n\u001b[1;32m   1130\u001b[0m \u001b[0;34m\u001b[0m\u001b[0m\n\u001b[1;32m   1131\u001b[0m         \u001b[0;32mtry\u001b[0m\u001b[0;34m:\u001b[0m\u001b[0;34m\u001b[0m\u001b[0m\n\u001b[0;32m-> 1132\u001b[0;31m             \u001b[0mresponse\u001b[0m\u001b[0;34m.\u001b[0m\u001b[0mbegin\u001b[0m\u001b[0;34m(\u001b[0m\u001b[0;34m)\u001b[0m\u001b[0;34m\u001b[0m\u001b[0m\n\u001b[0m\u001b[1;32m   1133\u001b[0m             \u001b[0;32massert\u001b[0m \u001b[0mresponse\u001b[0m\u001b[0;34m.\u001b[0m\u001b[0mwill_close\u001b[0m \u001b[0;34m!=\u001b[0m \u001b[0m_UNKNOWN\u001b[0m\u001b[0;34m\u001b[0m\u001b[0m\n\u001b[1;32m   1134\u001b[0m             \u001b[0mself\u001b[0m\u001b[0;34m.\u001b[0m\u001b[0m__state\u001b[0m \u001b[0;34m=\u001b[0m \u001b[0m_CS_IDLE\u001b[0m\u001b[0;34m\u001b[0m\u001b[0m\n",
      "\u001b[0;32m/System/Library/Frameworks/Python.framework/Versions/2.7/lib/python2.7/httplib.pyc\u001b[0m in \u001b[0;36mbegin\u001b[0;34m(self)\u001b[0m\n\u001b[1;32m    451\u001b[0m         \u001b[0;31m# read until we get a non-100 response\u001b[0m\u001b[0;34m\u001b[0m\u001b[0;34m\u001b[0m\u001b[0m\n\u001b[1;32m    452\u001b[0m         \u001b[0;32mwhile\u001b[0m \u001b[0mTrue\u001b[0m\u001b[0;34m:\u001b[0m\u001b[0;34m\u001b[0m\u001b[0m\n\u001b[0;32m--> 453\u001b[0;31m             \u001b[0mversion\u001b[0m\u001b[0;34m,\u001b[0m \u001b[0mstatus\u001b[0m\u001b[0;34m,\u001b[0m \u001b[0mreason\u001b[0m \u001b[0;34m=\u001b[0m \u001b[0mself\u001b[0m\u001b[0;34m.\u001b[0m\u001b[0m_read_status\u001b[0m\u001b[0;34m(\u001b[0m\u001b[0;34m)\u001b[0m\u001b[0;34m\u001b[0m\u001b[0m\n\u001b[0m\u001b[1;32m    454\u001b[0m             \u001b[0;32mif\u001b[0m \u001b[0mstatus\u001b[0m \u001b[0;34m!=\u001b[0m \u001b[0mCONTINUE\u001b[0m\u001b[0;34m:\u001b[0m\u001b[0;34m\u001b[0m\u001b[0m\n\u001b[1;32m    455\u001b[0m                 \u001b[0;32mbreak\u001b[0m\u001b[0;34m\u001b[0m\u001b[0m\n",
      "\u001b[0;32m/System/Library/Frameworks/Python.framework/Versions/2.7/lib/python2.7/httplib.pyc\u001b[0m in \u001b[0;36m_read_status\u001b[0;34m(self)\u001b[0m\n\u001b[1;32m    407\u001b[0m     \u001b[0;32mdef\u001b[0m \u001b[0m_read_status\u001b[0m\u001b[0;34m(\u001b[0m\u001b[0mself\u001b[0m\u001b[0;34m)\u001b[0m\u001b[0;34m:\u001b[0m\u001b[0;34m\u001b[0m\u001b[0m\n\u001b[1;32m    408\u001b[0m         \u001b[0;31m# Initialize with Simple-Response defaults\u001b[0m\u001b[0;34m\u001b[0m\u001b[0;34m\u001b[0m\u001b[0m\n\u001b[0;32m--> 409\u001b[0;31m         \u001b[0mline\u001b[0m \u001b[0;34m=\u001b[0m \u001b[0mself\u001b[0m\u001b[0;34m.\u001b[0m\u001b[0mfp\u001b[0m\u001b[0;34m.\u001b[0m\u001b[0mreadline\u001b[0m\u001b[0;34m(\u001b[0m\u001b[0m_MAXLINE\u001b[0m \u001b[0;34m+\u001b[0m \u001b[0;36m1\u001b[0m\u001b[0;34m)\u001b[0m\u001b[0;34m\u001b[0m\u001b[0m\n\u001b[0m\u001b[1;32m    410\u001b[0m         \u001b[0;32mif\u001b[0m \u001b[0mlen\u001b[0m\u001b[0;34m(\u001b[0m\u001b[0mline\u001b[0m\u001b[0;34m)\u001b[0m \u001b[0;34m>\u001b[0m \u001b[0m_MAXLINE\u001b[0m\u001b[0;34m:\u001b[0m\u001b[0;34m\u001b[0m\u001b[0m\n\u001b[1;32m    411\u001b[0m             \u001b[0;32mraise\u001b[0m \u001b[0mLineTooLong\u001b[0m\u001b[0;34m(\u001b[0m\u001b[0;34m\"header line\"\u001b[0m\u001b[0;34m)\u001b[0m\u001b[0;34m\u001b[0m\u001b[0m\n",
      "\u001b[0;32m/System/Library/Frameworks/Python.framework/Versions/2.7/lib/python2.7/socket.pyc\u001b[0m in \u001b[0;36mreadline\u001b[0;34m(self, size)\u001b[0m\n\u001b[1;32m    478\u001b[0m             \u001b[0;32mwhile\u001b[0m \u001b[0mTrue\u001b[0m\u001b[0;34m:\u001b[0m\u001b[0;34m\u001b[0m\u001b[0m\n\u001b[1;32m    479\u001b[0m                 \u001b[0;32mtry\u001b[0m\u001b[0;34m:\u001b[0m\u001b[0;34m\u001b[0m\u001b[0m\n\u001b[0;32m--> 480\u001b[0;31m                     \u001b[0mdata\u001b[0m \u001b[0;34m=\u001b[0m \u001b[0mself\u001b[0m\u001b[0;34m.\u001b[0m\u001b[0m_sock\u001b[0m\u001b[0;34m.\u001b[0m\u001b[0mrecv\u001b[0m\u001b[0;34m(\u001b[0m\u001b[0mself\u001b[0m\u001b[0;34m.\u001b[0m\u001b[0m_rbufsize\u001b[0m\u001b[0;34m)\u001b[0m\u001b[0;34m\u001b[0m\u001b[0m\n\u001b[0m\u001b[1;32m    481\u001b[0m                 \u001b[0;32mexcept\u001b[0m \u001b[0merror\u001b[0m\u001b[0;34m,\u001b[0m \u001b[0me\u001b[0m\u001b[0;34m:\u001b[0m\u001b[0;34m\u001b[0m\u001b[0m\n\u001b[1;32m    482\u001b[0m                     \u001b[0;32mif\u001b[0m \u001b[0me\u001b[0m\u001b[0;34m.\u001b[0m\u001b[0margs\u001b[0m\u001b[0;34m[\u001b[0m\u001b[0;36m0\u001b[0m\u001b[0;34m]\u001b[0m \u001b[0;34m==\u001b[0m \u001b[0mEINTR\u001b[0m\u001b[0;34m:\u001b[0m\u001b[0;34m\u001b[0m\u001b[0m\n",
      "\u001b[0;31mKeyboardInterrupt\u001b[0m: "
     ]
    }
   ],
   "source": [
    "# check that the CWKB URIs actually exist: they should, but you never know...\n",
    "for uri in tqdm(cwkb_author_uris.values() + cwkb_work_uris.values()):\n",
    "    assert requests.get(uri).status_code == 200"
   ]
  },
  {
   "cell_type": "code",
   "execution_count": 11,
   "metadata": {
    "collapsed": true
   },
   "outputs": [],
   "source": [
    "#cwkb_author_uris.keys()[:100]"
   ]
  },
  {
   "cell_type": "code",
   "execution_count": 12,
   "metadata": {},
   "outputs": [
    {
     "name": "stderr",
     "output_type": "stream",
     "text": [
      "\n",
      "  0%|          | 0/1548 [00:00<?, ?it/s]\u001b[A\n",
      "  2%|▏         | 34/1548 [00:00<00:04, 331.78it/s]\u001b[A\n",
      "  4%|▍         | 68/1548 [00:00<00:04, 330.99it/s]\u001b[A\n",
      "  7%|▋         | 101/1548 [00:00<00:04, 328.86it/s]\u001b[A\n",
      "  9%|▊         | 135/1548 [00:00<00:04, 329.56it/s]\u001b[A\n",
      " 11%|█         | 168/1548 [00:00<00:04, 327.95it/s]\u001b[A\n",
      " 13%|█▎        | 203/1548 [00:00<00:04, 330.25it/s]\u001b[A\n",
      " 15%|█▌        | 236/1548 [00:00<00:03, 329.53it/s]\u001b[A\n",
      " 17%|█▋        | 267/1548 [00:01<00:09, 138.74it/s]\u001b[A\n",
      " 20%|█▉        | 302/1548 [00:02<00:08, 148.92it/s]\u001b[A\n",
      " 22%|██▏       | 336/1548 [00:02<00:07, 157.86it/s]\u001b[A\n",
      " 24%|██▍       | 369/1548 [00:02<00:07, 165.56it/s]\u001b[A\n",
      " 26%|██▌       | 404/1548 [00:02<00:06, 173.29it/s]\u001b[A\n",
      " 28%|██▊       | 437/1548 [00:02<00:06, 179.55it/s]\u001b[A\n",
      " 30%|███       | 469/1548 [00:02<00:05, 184.97it/s]\u001b[A\n",
      " 32%|███▏      | 501/1548 [00:03<00:07, 133.69it/s]\u001b[A\n",
      " 35%|███▍      | 535/1548 [00:03<00:07, 138.97it/s]\u001b[A\n",
      " 37%|███▋      | 569/1548 [00:03<00:06, 143.96it/s]\u001b[A\n",
      " 39%|███▉      | 603/1548 [00:04<00:06, 148.75it/s]\u001b[A\n",
      " 41%|████      | 635/1548 [00:04<00:05, 152.86it/s]\u001b[A\n",
      " 43%|████▎     | 666/1548 [00:04<00:05, 156.48it/s]\u001b[A\n",
      " 45%|████▌     | 697/1548 [00:04<00:05, 159.94it/s]\u001b[A\n",
      " 47%|████▋     | 730/1548 [00:04<00:04, 163.67it/s]\u001b[A\n",
      " 49%|████▉     | 761/1548 [00:05<00:05, 133.34it/s]\u001b[A\n",
      " 51%|█████▏    | 795/1548 [00:05<00:05, 136.89it/s]\u001b[A\n",
      " 53%|█████▎    | 828/1548 [00:05<00:05, 140.15it/s]\u001b[A\n",
      " 56%|█████▌    | 861/1548 [00:06<00:04, 143.27it/s]\u001b[A\n",
      " 58%|█████▊    | 895/1548 [00:06<00:04, 146.43it/s]\u001b[A\n",
      " 60%|█████▉    | 928/1548 [00:06<00:04, 149.38it/s]\u001b[A\n",
      " 62%|██████▏   | 961/1548 [00:06<00:03, 152.16it/s]\u001b[A\n",
      " 64%|██████▍   | 994/1548 [00:06<00:03, 154.89it/s]\u001b[A\n",
      " 66%|██████▋   | 1026/1548 [00:07<00:03, 134.14it/s]\u001b[A\n",
      " 68%|██████▊   | 1057/1548 [00:07<00:03, 136.37it/s]\u001b[A\n",
      " 70%|███████   | 1088/1548 [00:07<00:03, 138.58it/s]\u001b[A\n",
      " 72%|███████▏  | 1120/1548 [00:07<00:03, 140.85it/s]\u001b[A\n",
      " 74%|███████▍  | 1153/1548 [00:08<00:02, 143.19it/s]\u001b[A\n",
      " 77%|███████▋  | 1185/1548 [00:08<00:02, 145.34it/s]\u001b[A\n",
      " 79%|███████▊  | 1217/1548 [00:08<00:02, 147.43it/s]\u001b[A\n",
      "Exception in thread Thread-3:\n",
      "Traceback (most recent call last):\n",
      "  File \"/System/Library/Frameworks/Python.framework/Versions/2.7/lib/python2.7/threading.py\", line 810, in __bootstrap_inner\n",
      "    self.run()\n",
      "  File \"/Users/rromanello/.pyenv/versions/2.7.13/envs/kb-dev/lib/python2.7/site-packages/tqdm/_tqdm.py\", line 144, in run\n",
      "    for instance in self.tqdm_cls._instances:\n",
      "  File \"/System/Library/Frameworks/Python.framework/Versions/2.7/lib/python2.7/_weakrefset.py\", line 60, in __iter__\n",
      "    for itemref in self.data:\n",
      "RuntimeError: Set changed size during iteration\n",
      "\n",
      "\n",
      " 81%|████████  | 1250/1548 [00:09<00:02, 131.98it/s]\u001b[A\n",
      " 83%|████████▎ | 1284/1548 [00:09<00:01, 134.12it/s]\u001b[A\n",
      " 85%|████████▌ | 1317/1548 [00:09<00:01, 136.14it/s]\u001b[A\n",
      " 87%|████████▋ | 1350/1548 [00:09<00:01, 138.09it/s]\u001b[A\n",
      " 89%|████████▉ | 1382/1548 [00:09<00:01, 139.92it/s]\u001b[A\n",
      " 91%|█████████▏| 1414/1548 [00:09<00:00, 141.72it/s]\u001b[A\n",
      " 93%|█████████▎| 1447/1548 [00:10<00:00, 143.56it/s]\u001b[A\n",
      " 96%|█████████▌| 1479/1548 [00:10<00:00, 145.24it/s]\u001b[A\n",
      " 98%|█████████▊| 1511/1548 [00:12<00:00, 123.89it/s]\u001b[A\n",
      "100%|█████████▉| 1545/1548 [00:12<00:00, 125.61it/s]\u001b[A\n",
      "100%|██████████| 1548/1548 [00:12<00:00, 125.75it/s]\u001b[A"
     ]
    }
   ],
   "source": [
    "# add sameAs link for authors\n",
    "for author in tqdm(kb.get_authors()):\n",
    "    cwkb_uri = URIRef(cwkb_author_uris[author.subject])\n",
    "    \n",
    "    if not cwkb_uri in author.owl_sameAs:\n",
    "        author.owl_sameAs.append(URIRef(cwkb_uri))\n",
    "        author.update()\n",
    "    \n",
    "    #print author.get_urn(), author.owl_sameAs"
   ]
  },
  {
   "cell_type": "code",
   "execution_count": 14,
   "metadata": {},
   "outputs": [
    {
     "name": "stderr",
     "output_type": "stream",
     "text": [
      "100%|██████████| 5199/5199 [00:41<00:00, 125.42it/s]\n"
     ]
    }
   ],
   "source": [
    "# add sameAs link for works\n",
    "for work in tqdm(kb.get_works()):\n",
    "    cwkb_uri = URIRef(cwkb_work_uris[work.subject])\n",
    "    \n",
    "    if not cwkb_uri in work.owl_sameAs:\n",
    "        work.owl_sameAs.append(cwkb_uri)\n",
    "        work.update()\n",
    "        \n",
    "    #print work.get_urn(), work.owl_sameAs"
   ]
  },
  {
   "cell_type": "code",
   "execution_count": 6,
   "metadata": {},
   "outputs": [
    {
     "name": "stdout",
     "output_type": "stream",
     "text": [
      "[rdflib.term.URIRef(u'http://cwkb.org/author/id/1102/turtle')]\n"
     ]
    }
   ],
   "source": [
    "a = kb.get_authors()[100]\n",
    "print a.owl_sameAs"
   ]
  },
  {
   "cell_type": "code",
   "execution_count": 7,
   "metadata": {},
   "outputs": [
    {
     "name": "stdout",
     "output_type": "stream",
     "text": [
      "HucitAuthor (names=[Theokritos (@None),Theokrit (@el),Teocrito (@it),Theocritus (@la),Théocrite (@fr)],urn=urn:cts:greekLit:tlg0005)\n",
      "[HucitWork (title=[Idyllia (@la),Idylles (@fr),Idylls (@en)],urn=urn:cts:greekLit:tlg0005.tlg001), HucitWork (title=[Syrinx (@la)],urn=urn:cts:cwkb:1102.3935), HucitWork (title=[Epigrammata (@la)],urn=urn:cts:greekLit:tlg0005.tlg002)]\n",
      "http://cwkb.org/author/id/1102/turtle\n"
     ]
    }
   ],
   "source": [
    "print repr(a)\n",
    "print a.get_works()\n",
    "for link in a.owl_sameAs:\n",
    "    print link"
   ]
  },
  {
   "cell_type": "code",
   "execution_count": 20,
   "metadata": {
    "collapsed": true
   },
   "outputs": [],
   "source": [
    "%run kb_addenda.py"
   ]
  },
  {
   "cell_type": "markdown",
   "metadata": {},
   "source": [
    "### Abbreviations"
   ]
  },
  {
   "cell_type": "code",
   "execution_count": 21,
   "metadata": {},
   "outputs": [
    {
     "data": {
      "text/plain": [
       "[('urn:cts:cwkb:431.904', 'Orat.'),\n",
       " ('urn:cts:latinLit:phi0474.phi005', 'Verr.'),\n",
       " ('urn:cts:latinLit:phi0474.phi010', 'Cluent.'),\n",
       " ('urn:cts:cwkb:998', 'Nicand.'),\n",
       " ('urn:cts:cwkb:998.3421', 'Ther.'),\n",
       " ('urn:cts:cwkb:1322.4345', 'Hier. Epist.'),\n",
       " ('urn:cts:greekLit:tlg0019.tlg009', 'Ra.'),\n",
       " ('urn:cts:greekLit:tlg0062.tlg031', 'Philops.'),\n",
       " ('urn:cts:cwkb:2386.8494', 'Gest. Pelag.'),\n",
       " ('urn:cts:cwkb:2388.8677', 'Malch.'),\n",
       " ('urn:cts:latinLit:phi0972.phi001', 'Satyr.'),\n",
       " ('urn:cts:latinLit:phi0972', 'Petr.'),\n",
       " ('urn:cts:cwkb:1351.4377', '[ Verg. ] catal.'),\n",
       " ('urn:cts:cwkb:664', 'Val. Flac.'),\n",
       " ('urn:cts:greekLit:tlg0019.tlg008', 'Thesm.'),\n",
       " ('urn:cts:greekLit:tlg0086.tlg003', 'Ath.'),\n",
       " ('urn:cts:cwkb:766.1654', 'Meteor.'),\n",
       " ('urn:cts:greekLit:tlg0003.tlg001', 'Thuc.'),\n",
       " ('urn:cts:cwkb:1186', 'X. Eph.'),\n",
       " ('urn:cts:latinLit:stoa0023.stoa001', 'RG'),\n",
       " ('urn:cts:greekLit:tlg0001.tlg001', 'AR'),\n",
       " ('urn:cts:latinLit:phi0959.phi006', 'M.'),\n",
       " ('urn:cts:latinLit:phi0978.phi001', 'NH'),\n",
       " ('urn:cts:greekLit:tlg7000.tlg001', 'AG')]"
      ]
     },
     "execution_count": 21,
     "metadata": {},
     "output_type": "execute_result"
    }
   ],
   "source": [
    "abbreviations"
   ]
  },
  {
   "cell_type": "code",
   "execution_count": 22,
   "metadata": {
    "collapsed": true
   },
   "outputs": [],
   "source": [
    "Work = kb._session.get_class(surf.ns.EFRBROO['F1_Work'])\n",
    "Author = kb._session.get_class(surf.ns.EFRBROO['F10_Person'])"
   ]
  },
  {
   "cell_type": "code",
   "execution_count": 23,
   "metadata": {},
   "outputs": [
    {
     "name": "stderr",
     "output_type": "stream",
     "text": [
      "WARNING:__name__:Duplicate abbreviation detected while adding \"Verr.\"\n",
      "WARNING:__name__:Duplicate abbreviation detected while adding \"Cluent.\"\n"
     ]
    },
    {
     "name": "stdout",
     "output_type": "stream",
     "text": [
      "Adding abbreviation Orat. to About the Orator, also dedicated to Brutus (urn:cts:cwkb:431.904): added=True\n",
      "Adding abbreviation Verr. to Against Verres (urn:cts:latinLit:phi0474.phi005): added=False\n",
      "Adding abbreviation Cluent. to In defence of Aulus Cluentius Habitus (urn:cts:latinLit:phi0474.phi010): added=False\n",
      "Adding abbreviation Nicand. to Nicander Of Colophon (urn:cts:cwkb:998): added=True\n",
      "Adding abbreviation Ther. to On poisonous animals (urn:cts:cwkb:998.3421): added=True\n",
      "Adding abbreviation Hier. Epist. to Epistulae (urn:cts:cwkb:1322.4345): added=True"
     ]
    },
    {
     "name": "stderr",
     "output_type": "stream",
     "text": [
      "WARNING:__name__:Duplicate abbreviation detected while adding \"Ra.\"\n",
      "WARNING:__name__:Duplicate abbreviation detected while adding \"Philops.\"\n"
     ]
    },
    {
     "name": "stdout",
     "output_type": "stream",
     "text": [
      "\n",
      "Adding abbreviation Ra. to The Frogs (urn:cts:greekLit:tlg0019.tlg009): added=False\n",
      "Adding abbreviation Philops. to The Lover of Lies or the Doubter (urn:cts:greekLit:tlg0062.tlg031): added=False\n",
      "Adding abbreviation Gest. Pelag. to De gestis Pelagii (urn:cts:cwkb:2386.8494): added=True\n",
      "Adding abbreviation Malch. to Life of Malchus (urn:cts:cwkb:2388.8677): added=True\n",
      "Adding abbreviation Satyr. to Satyricon (urn:cts:latinLit:phi0972.phi001): added=True\n",
      "Adding abbreviation Petr. to Petronio (urn:cts:latinLit:phi0972): added=True\n",
      "Adding abbreviation [ Verg. ] catal. to Catalepton (urn:cts:cwkb:1351.4377): added=True\n",
      "Adding abbreviation Val. Flac. to Valerius Flaccus (urn:cts:cwkb:664): added=True\n",
      "Adding abbreviation Thesm. to The Women Celebrating the Thesmophoria (urn:cts:greekLit:tlg0019.tlg008): added=True\n",
      "Adding abbreviation Ath. to Athenaion Politeia (urn:cts:greekLit:tlg0086.tlg003): added=True\n",
      "Adding abbreviation Meteor. to Meteorology (urn:cts:cwkb:766.1654): added=True\n",
      "Adding abbreviation Thuc. to History of the Peloponnesian War (urn:cts:greekLit:tlg0003.tlg001): added=True\n",
      "Adding abbreviation X. Eph. to Xenophon Of Ephesus (urn:cts:cwkb:1186): added=True\n",
      "Adding abbreviation RG to Histories (urn:cts:latinLit:stoa0023.stoa001): added=True\n",
      "Adding abbreviation AR to The Argonautics (urn:cts:greekLit:tlg0001.tlg001): added=True\n",
      "Adding abbreviation M. to Transformations (urn:cts:latinLit:phi0959.phi006): added=True\n",
      "Adding abbreviation NH to History of the World (urn:cts:latinLit:phi0978.phi001): added=True\n",
      "Adding abbreviation AG to Anthologia Graeca (urn:cts:greekLit:tlg7000.tlg001): added=True\n"
     ]
    }
   ],
   "source": [
    "for urn, abbr in abbreviations:\n",
    "    resource = kb.get_resource_by_urn(urn)\n",
    "    label = kb.get_author_label(urn) if type(resource)==Author else kb.get_work_label(urn)\n",
    "    print \"Adding abbreviation %s to %s (%s): added=%s\" % (abbr, label, urn, resource.add_abbreviation(abbr)) \n",
    "    resource.load()\n",
    "    assert abbr in resource.get_abbreviations()"
   ]
  },
  {
   "cell_type": "markdown",
   "metadata": {},
   "source": [
    "### Names"
   ]
  },
  {
   "cell_type": "markdown",
   "metadata": {},
   "source": [
    "### Titles"
   ]
  },
  {
   "cell_type": "markdown",
   "metadata": {},
   "source": [
    "### False author names"
   ]
  },
  {
   "cell_type": "code",
   "execution_count": 28,
   "metadata": {},
   "outputs": [
    {
     "data": {
      "text/plain": [
       "[(None, u'Eusebius'),\n",
       " (u'fr', u'Eus\\xe8be De C\\xe9sar\\xe9e'),\n",
       " (None, u'Eusebios'),\n",
       " (u'it', u'Eusebio Di Cesarea'),\n",
       " (None, u'Eusebio'),\n",
       " (u'en', u'Eusebius Of Caesarea'),\n",
       " (u'de', u'Eusebius Von Caesarea'),\n",
       " (u'la', u'Eusebius Caesariensis')]"
      ]
     },
     "execution_count": 28,
     "metadata": {},
     "output_type": "execute_result"
    }
   ],
   "source": [
    "kb.get_resource_by_urn(\"urn:cts:greekLit:tlg2018\").get_names()"
   ]
  },
  {
   "cell_type": "code",
   "execution_count": 24,
   "metadata": {
    "collapsed": true
   },
   "outputs": [],
   "source": [
    "false_names = [\n",
    "(\"urn:cts:cwkb:897\", \"Gr\")\n",
    "\n",
    ", (\"urn:cts:greekLit:tlg2018\", \"Eus\")\n",
    "\n",
    ", (\"urn:cts:cwkb:892\", \"G\")\n",
    "\n",
    ", (\"urn:cts:cwkb:892\", \"Gel.\")\n",
    "\n",
    ", (\"urn:cts:cwkb:849\", \"Ephr.\") \n",
    "\n",
    ", (\"urn:cts:latinLit:stoa0023\", \"Amm.\")\n",
    "\n",
    ", (\"urn:cts:cwkb:1112\", \"Th\")\n",
    "\n",
    ", (\"urn:cts:greekLit:tlg0004\", \"Diog\")\n",
    "\n",
    ", (\"urn:cts:cwkb:866\", \"Eun.\")\n",
    "\n",
    ", (\"urn:cts:cwkb:898\", \"Gr\")\n",
    "\n",
    ", (\"urn:cts:cwkb:949\", \"Iust.\")\n",
    "\n",
    ", (\"urn:cts:cwkb:1314\", \"Gr\")\n",
    "\n",
    ", (\"urn:cts:cwkb:903\", \"H\")\n",
    "\n",
    ", (\"urn:cts:cwkb:715\", \"Th\")\n",
    "\n",
    ", (\"urn:cts:cwkb:884\", \"Firm.\")\n",
    "\n",
    ", (\"urn:cts:cwkb:896\", \"Gr\")\n",
    "\n",
    ", (\"urn:cts:cwkb:872\", \"Eust.\")\n",
    "\n",
    ", (\"urn:cts:cwkb:622\", \"S\")\n",
    "\n",
    ", (\"urn:cts:cwkb:444\", \"Corn\")\n",
    "\n",
    ", (\"urn:cts:cwkb:769\", \"Art\")\n",
    "]"
   ]
  },
  {
   "cell_type": "code",
   "execution_count": 25,
   "metadata": {},
   "outputs": [
    {
     "name": "stderr",
     "output_type": "stream",
     "text": [
      "WARNING:__name__:Duplicate abbreviation detected while adding \"Eus.\"\n"
     ]
    },
    {
     "name": "stdout",
     "output_type": "stream",
     "text": [
      "urn:cts:greekLit:tlg2018: 9 names, 1 abbreviations\n",
      "True\n",
      "removed name Eusebius Caesariensis from urn:cts:greekLit:tlg2018. success=True\n",
      "urn:cts:greekLit:tlg2018: 8 names, 1 abbreviations.\n",
      "\n",
      "urn:cts:cwkb:892: 9 names, 1 abbreviations\n",
      "True\n",
      "removed name Gel. from urn:cts:cwkb:892. success=True\n",
      "urn:cts:cwkb:892: 8 names, 2 abbreviations.\n",
      "\n",
      "urn:cts:cwkb:892: 8 names, 2 abbreviations\n",
      "True\n",
      "removed name Gel. from urn:cts:cwkb:892. success=True\n",
      "urn:cts:cwkb:892: 7 names, 3 abbreviations.\n",
      "\n",
      "urn:cts:cwkb:849: 12 names, 1 abbreviations\n",
      "True\n",
      "removed name Ephraem Der Syrer from urn:cts:cwkb:849. success=True\n",
      "urn:cts:cwkb:849: 11 names, 2 abbreviations.\n",
      "\n",
      "urn:cts:latinLit:stoa0023: 9 names, 1 abbreviations\n",
      "True\n",
      "removed name Amm. from urn:cts:latinLit:stoa0023. success=True\n",
      "urn:cts:latinLit:stoa0023: 8 names, 2 abbreviations.\n",
      "\n",
      "urn:cts:cwkb:1112: 9 names, 1 abbreviations\n",
      "True\n",
      "removed name Theophilus Of Antioch from urn:cts:cwkb:1112. success=True\n",
      "urn:cts:cwkb:1112: 8 names, 2 abbreviations.\n",
      "\n",
      "urn:cts:greekLit:tlg0004: 9 names, 1 abbreviations\n",
      "True\n",
      "removed name Diogene from urn:cts:greekLit:tlg0004. success=True\n",
      "urn:cts:greekLit:tlg0004: 8 names, 2 abbreviations.\n",
      "\n",
      "urn:cts:cwkb:866: 5 names, 1 abbreviations\n",
      "True\n",
      "removed name Eunomius from urn:cts:cwkb:866. success=True\n",
      "urn:cts:cwkb:866: 4 names, 2 abbreviations.\n",
      "\n",
      "urn:cts:cwkb:898: 11 names, 1 abbreviations\n",
      "True\n",
      "removed name Gregorios Der Wundertäter from urn:cts:cwkb:898. success=True\n",
      "urn:cts:cwkb:898: 10 names, 2 abbreviations.\n",
      "\n",
      "urn:cts:cwkb:949: 10 names, 1 abbreviations\n",
      "True\n",
      "removed name Giustino Martire from urn:cts:cwkb:949. success=True\n",
      "urn:cts:cwkb:949: 9 names, 2 abbreviations.\n",
      "\n",
      "urn:cts:cwkb:1314: 10 names, 1 abbreviations\n",
      "True\n",
      "removed name Gregory from urn:cts:cwkb:1314. success=True\n",
      "urn:cts:cwkb:1314: 9 names, 2 abbreviations.\n",
      "\n",
      "urn:cts:cwkb:903: 11 names, 1 abbreviations\n",
      "True\n",
      "removed name Heliodorus Emesenus from urn:cts:cwkb:903. success=True\n",
      "urn:cts:cwkb:903: 10 names, 2 abbreviations.\n",
      "\n",
      "urn:cts:cwkb:715: 8 names, 0 abbreviations\n",
      "True\n",
      "removed name Théon, Aelius from urn:cts:cwkb:715. success=True\n",
      "urn:cts:cwkb:715: 7 names, 1 abbreviations.\n",
      "\n",
      "urn:cts:cwkb:884: 9 names, 1 abbreviations\n",
      "True\n",
      "removed name Firmus Caesariensis from urn:cts:cwkb:884. success=True\n",
      "urn:cts:cwkb:884: 8 names, 2 abbreviations.\n",
      "\n",
      "urn:cts:cwkb:896: 9 names, 1 abbreviations\n",
      "True\n",
      "removed name Gregory from urn:cts:cwkb:896. success=True\n",
      "urn:cts:cwkb:896: 8 names, 2 abbreviations.\n",
      "\n",
      "urn:cts:cwkb:872: 10 names, 1 abbreviations\n",
      "True\n",
      "removed name Eustathe D'Antioche from urn:cts:cwkb:872. success=True\n",
      "urn:cts:cwkb:872: 9 names, 2 abbreviations.\n",
      "\n",
      "urn:cts:cwkb:622: 26 names, 1 abbreviations\n",
      "True\n",
      "removed name Lucio Anneo Seneca Il Vecchio from urn:cts:cwkb:622. success=True\n",
      "urn:cts:cwkb:622: 25 names, 2 abbreviations.\n",
      "\n",
      "urn:cts:cwkb:444: 12 names, 0 abbreviations\n",
      "True\n",
      "removed name Cornelia, Madre Dei Gracchi from urn:cts:cwkb:444. success=True\n",
      "urn:cts:cwkb:444: 11 names, 1 abbreviations.\n",
      "\n",
      "urn:cts:cwkb:769: 7 names, 1 abbreviations\n",
      "True\n",
      "removed name Artemidorus Ephesius from urn:cts:cwkb:769. success=True\n",
      "urn:cts:cwkb:769: 6 names, 2 abbreviations.\n",
      "\n"
     ]
    }
   ],
   "source": [
    "for urn, false_name in false_names[1:]:\n",
    "    author = kb.get_resource_by_urn(urn)\n",
    "    names = [name for lang, name in author.get_names()]\n",
    "    abbreviations = [abbrev for abbrev in author.get_abbreviations()]\n",
    "    print \"%s: %i names, %i abbreviations\" % (urn, len(names), len(abbreviations))\n",
    "    print false_name in names\n",
    "    \n",
    "    # remove false name and add it as abbreviation\n",
    "    print \"removed name %s from %s. success=%s\" % (name, urn, author.remove_name(false_name))\n",
    "    new_abbr = \"%s.\" % false_name if not \".\" in false_name else false_name\n",
    "    author.add_abbreviation(new_abbr)\n",
    "    author.load()\n",
    "    \n",
    "    # verify that the change has taken place \n",
    "    names = [name for lang, name in author.get_names()]\n",
    "    abbreviations = [abbrev for abbrev in author.get_abbreviations()]\n",
    "    print \"%s: %i names, %i abbreviations.\\n\" % (urn, len(names), len(abbreviations))"
   ]
  },
  {
   "cell_type": "code",
   "execution_count": 26,
   "metadata": {
    "collapsed": true
   },
   "outputs": [],
   "source": [
    "author = kb.get_resource_by_urn(urn) "
   ]
  },
  {
   "cell_type": "code",
   "execution_count": 27,
   "metadata": {},
   "outputs": [
    {
     "data": {
      "text/plain": [
       "[u'Art.', u'Artem.']"
      ]
     },
     "execution_count": 27,
     "metadata": {},
     "output_type": "execute_result"
    }
   ],
   "source": [
    "author.get_abbreviations()"
   ]
  },
  {
   "cell_type": "markdown",
   "metadata": {},
   "source": [
    "## Add `owl:sameAs` for VIAF, Wikidata, Perseus"
   ]
  },
  {
   "cell_type": "code",
   "execution_count": 8,
   "metadata": {},
   "outputs": [],
   "source": [
    "authors_df = pd.read_pickle(\"knowledge_base/data/pickles/authors.pickle\")"
   ]
  },
  {
   "cell_type": "code",
   "execution_count": 9,
   "metadata": {
    "collapsed": true
   },
   "outputs": [],
   "source": [
    "sameas_links = {author_urn : {'perseus':None, 'viaf':None, 'wikidata':None} for author_urn in list(authors_df.index)}"
   ]
  },
  {
   "cell_type": "code",
   "execution_count": 10,
   "metadata": {},
   "outputs": [
    {
     "data": {
      "text/plain": [
       "118"
      ]
     },
     "execution_count": 10,
     "metadata": {},
     "output_type": "execute_result"
    }
   ],
   "source": [
    "len(sameas_links)"
   ]
  },
  {
   "cell_type": "markdown",
   "metadata": {},
   "source": [
    "### Perseus"
   ]
  },
  {
   "cell_type": "code",
   "execution_count": 11,
   "metadata": {},
   "outputs": [
    {
     "name": "stderr",
     "output_type": "stream",
     "text": [
      "100%|██████████| 118/118 [00:00<00:00, 720419.03it/s]\n"
     ]
    }
   ],
   "source": [
    "for urn in tqdm(list(authors_df.index)):\n",
    "    perseus_link = \"http://data.perseus.org/catalog/%s\" % urn\n",
    "    #req = requests.get(perseus_link)\n",
    "    try:\n",
    "        #assert req.status_code == 200\n",
    "        sameas_links[urn]['perseus'] = perseus_link\n",
    "    except AssertionError as e:\n",
    "        print \"Got code %i for %s: double check %s\" % (req.status_code, urn, perseus_link) "
   ]
  },
  {
   "cell_type": "code",
   "execution_count": 12,
   "metadata": {},
   "outputs": [
    {
     "data": {
      "text/plain": [
       "name                 Unknown\n",
       "cts_namespace       latinLit\n",
       "cts_id_prefix            phi\n",
       "cts_id                  0470\n",
       "viaf_id                 None\n",
       "lccn                    None\n",
       "wikidata_id             None\n",
       "wikipedia_url_en        None\n",
       "wikipedia_url_es        None\n",
       "wikipedia_url_de        None\n",
       "wikipedia_url_it        None\n",
       "wikipedia_url_fr        None\n",
       "Name: urn:cts:latinLit:phi0470, dtype: object"
      ]
     },
     "execution_count": 12,
     "metadata": {},
     "output_type": "execute_result"
    }
   ],
   "source": [
    "authors_df.loc[\"urn:cts:latinLit:phi0470\"]"
   ]
  },
  {
   "cell_type": "code",
   "execution_count": 13,
   "metadata": {},
   "outputs": [
    {
     "data": {
      "text/html": [
       "<div>\n",
       "<style>\n",
       "    .dataframe thead tr:only-child th {\n",
       "        text-align: right;\n",
       "    }\n",
       "\n",
       "    .dataframe thead th {\n",
       "        text-align: left;\n",
       "    }\n",
       "\n",
       "    .dataframe tbody tr th {\n",
       "        vertical-align: top;\n",
       "    }\n",
       "</style>\n",
       "<table border=\"1\" class=\"dataframe\">\n",
       "  <thead>\n",
       "    <tr style=\"text-align: right;\">\n",
       "      <th></th>\n",
       "      <th>viaf_id</th>\n",
       "      <th>wikidata_id</th>\n",
       "    </tr>\n",
       "    <tr>\n",
       "      <th>urn</th>\n",
       "      <th></th>\n",
       "      <th></th>\n",
       "    </tr>\n",
       "  </thead>\n",
       "  <tbody>\n",
       "    <tr>\n",
       "      <th>urn:cts:greekLit:tlg0099</th>\n",
       "      <td>100219883</td>\n",
       "      <td>Q45936</td>\n",
       "    </tr>\n",
       "    <tr>\n",
       "      <th>urn:cts:greekLit:tlg2045</th>\n",
       "      <td>None</td>\n",
       "      <td>None</td>\n",
       "    </tr>\n",
       "    <tr>\n",
       "      <th>urn:cts:latinLit:phi0690</th>\n",
       "      <td>8194433</td>\n",
       "      <td>Q1398</td>\n",
       "    </tr>\n",
       "    <tr>\n",
       "      <th>urn:cts:greekLit:tlg0024</th>\n",
       "      <td>100036127</td>\n",
       "      <td>None</td>\n",
       "    </tr>\n",
       "    <tr>\n",
       "      <th>urn:cts:greekLit:tlg0001</th>\n",
       "      <td>262974255</td>\n",
       "      <td>Q192638</td>\n",
       "    </tr>\n",
       "    <tr>\n",
       "      <th>urn:cts:greekLit:tlg0034</th>\n",
       "      <td>268590928</td>\n",
       "      <td>Q373685</td>\n",
       "    </tr>\n",
       "    <tr>\n",
       "      <th>urn:cts:greekLit:tlg0363</th>\n",
       "      <td>54152998</td>\n",
       "      <td>Q34943</td>\n",
       "    </tr>\n",
       "    <tr>\n",
       "      <th>urn:cts:greekLit:tlg0016</th>\n",
       "      <td>100225976</td>\n",
       "      <td>Q26825</td>\n",
       "    </tr>\n",
       "    <tr>\n",
       "      <th>urn:cts:latinLit:phi0917</th>\n",
       "      <td>100902938</td>\n",
       "      <td>Q188646</td>\n",
       "    </tr>\n",
       "    <tr>\n",
       "      <th>urn:cts:greekLit:tlg2934</th>\n",
       "      <td>44435485</td>\n",
       "      <td>Q51884</td>\n",
       "    </tr>\n",
       "  </tbody>\n",
       "</table>\n",
       "</div>"
      ],
      "text/plain": [
       "                            viaf_id wikidata_id\n",
       "urn                                            \n",
       "urn:cts:greekLit:tlg0099  100219883      Q45936\n",
       "urn:cts:greekLit:tlg2045       None        None\n",
       "urn:cts:latinLit:phi0690    8194433       Q1398\n",
       "urn:cts:greekLit:tlg0024  100036127        None\n",
       "urn:cts:greekLit:tlg0001  262974255     Q192638\n",
       "urn:cts:greekLit:tlg0034  268590928     Q373685\n",
       "urn:cts:greekLit:tlg0363   54152998      Q34943\n",
       "urn:cts:greekLit:tlg0016  100225976      Q26825\n",
       "urn:cts:latinLit:phi0917  100902938     Q188646\n",
       "urn:cts:greekLit:tlg2934   44435485      Q51884"
      ]
     },
     "execution_count": 13,
     "metadata": {},
     "output_type": "execute_result"
    }
   ],
   "source": [
    "authors_df[[\"viaf_id\", \"wikidata_id\"]].head(10)"
   ]
  },
  {
   "cell_type": "code",
   "execution_count": 14,
   "metadata": {},
   "outputs": [
    {
     "data": {
      "text/plain": [
       "[{'perseus': 'http://data.perseus.org/catalog/urn:cts:greekLit:tlg0030',\n",
       "  'viaf': None,\n",
       "  'wikidata': None},\n",
       " {'perseus': 'http://data.perseus.org/catalog/urn:cts:greekLit:tlg0032',\n",
       "  'viaf': None,\n",
       "  'wikidata': None},\n",
       " {'perseus': 'http://data.perseus.org/catalog/urn:cts:greekLit:tlg0033',\n",
       "  'viaf': None,\n",
       "  'wikidata': None},\n",
       " {'perseus': 'http://data.perseus.org/catalog/urn:cts:greekLit:tlg0034',\n",
       "  'viaf': None,\n",
       "  'wikidata': None},\n",
       " {'perseus': 'http://data.perseus.org/catalog/urn:cts:greekLit:tlg0035',\n",
       "  'viaf': None,\n",
       "  'wikidata': None},\n",
       " {'perseus': 'http://data.perseus.org/catalog/urn:cts:greekLit:tlg0036',\n",
       "  'viaf': None,\n",
       "  'wikidata': None},\n",
       " {'perseus': 'http://data.perseus.org/catalog/urn:cts:greekLit:tlg1600',\n",
       "  'viaf': None,\n",
       "  'wikidata': None},\n",
       " {'perseus': 'http://data.perseus.org/catalog/urn:cts:greekLit:tlg1216',\n",
       "  'viaf': None,\n",
       "  'wikidata': None},\n",
       " {'perseus': 'http://data.perseus.org/catalog/urn:cts:greekLit:tlg2003',\n",
       "  'viaf': None,\n",
       "  'wikidata': None},\n",
       " {'perseus': 'http://data.perseus.org/catalog/urn:cts:latinLit:phi0134',\n",
       "  'viaf': None,\n",
       "  'wikidata': None}]"
      ]
     },
     "execution_count": 14,
     "metadata": {},
     "output_type": "execute_result"
    }
   ],
   "source": [
    "sameas_links.values()[:10]"
   ]
  },
  {
   "cell_type": "markdown",
   "metadata": {},
   "source": [
    "### Wikidata"
   ]
  },
  {
   "cell_type": "markdown",
   "metadata": {},
   "source": [
    "example (Strabo) http://www.wikidata.org/entity/Q45936\n",
    "\n",
    "in a `owl:sameAs` property, which URI to use? http://www.wikidata.org/wiki/Special:EntityData/Q45936 ?"
   ]
  },
  {
   "cell_type": "code",
   "execution_count": 15,
   "metadata": {
    "scrolled": true
   },
   "outputs": [
    {
     "name": "stderr",
     "output_type": "stream",
     "text": [
      "100%|██████████| 118/118 [00:00<00:00, 4510.87it/s]\n"
     ]
    }
   ],
   "source": [
    "for urn in tqdm(list(authors_df.index)):\n",
    "    wikidata_id = authors_df.loc[urn][\"wikidata_id\"]\n",
    "    if wikidata_id != \"None\":\n",
    "        wikidata_link = \"http://www.wikidata.org/wiki/Special:EntityData/%s\" % authors_df.loc[urn][\"wikidata_id\"]\n",
    "        sameas_links[urn][\"wikidata\"] = wikidata_link"
   ]
  },
  {
   "cell_type": "markdown",
   "metadata": {},
   "source": [
    "### VIAF"
   ]
  },
  {
   "cell_type": "code",
   "execution_count": 16,
   "metadata": {},
   "outputs": [
    {
     "name": "stderr",
     "output_type": "stream",
     "text": [
      "100%|██████████| 118/118 [00:00<00:00, 4122.58it/s]\n"
     ]
    }
   ],
   "source": [
    "for urn in tqdm(list(authors_df.index)):\n",
    "    viaf_id = authors_df.loc[urn][\"viaf_id\"]\n",
    "    if viaf_id != \"None\":\n",
    "        viaf_link = \"http://viaf.org/viaf/%s\" % authors_df.loc[urn][\"viaf_id\"]\n",
    "        sameas_links[urn][\"viaf\"] = viaf_link"
   ]
  },
  {
   "cell_type": "code",
   "execution_count": 17,
   "metadata": {},
   "outputs": [
    {
     "data": {
      "text/plain": [
       "{'urn:cts:greekLit:tlg0001': {'perseus': 'http://data.perseus.org/catalog/urn:cts:greekLit:tlg0001',\n",
       "  'viaf': u'http://viaf.org/viaf/262974255',\n",
       "  'wikidata': u'http://www.wikidata.org/wiki/Special:EntityData/Q192638'},\n",
       " 'urn:cts:greekLit:tlg0003': {'perseus': 'http://data.perseus.org/catalog/urn:cts:greekLit:tlg0003',\n",
       "  'viaf': u'http://viaf.org/viaf/95161463',\n",
       "  'wikidata': u'http://www.wikidata.org/wiki/Special:EntityData/Q41683'},\n",
       " 'urn:cts:greekLit:tlg0004': {'perseus': 'http://data.perseus.org/catalog/urn:cts:greekLit:tlg0004',\n",
       "  'viaf': u'http://viaf.org/viaf/41839141',\n",
       "  'wikidata': u'http://www.wikidata.org/wiki/Special:EntityData/Q59138'},\n",
       " 'urn:cts:greekLit:tlg0005': {'perseus': 'http://data.perseus.org/catalog/urn:cts:greekLit:tlg0005',\n",
       "  'viaf': u'http://viaf.org/viaf/95161348',\n",
       "  'wikidata': u'http://www.wikidata.org/wiki/Special:EntityData/Q219484'},\n",
       " 'urn:cts:greekLit:tlg0006': {'perseus': 'http://data.perseus.org/catalog/urn:cts:greekLit:tlg0006',\n",
       "  'viaf': u'http://viaf.org/viaf/265326651',\n",
       "  'wikidata': u'http://www.wikidata.org/wiki/Special:EntityData/Q48305'},\n",
       " 'urn:cts:greekLit:tlg0007': {'perseus': 'http://data.perseus.org/catalog/urn:cts:greekLit:tlg0007',\n",
       "  'viaf': u'http://viaf.org/viaf/268955446',\n",
       "  'wikidata': u'http://www.wikidata.org/wiki/Special:EntityData/Q41523'},\n",
       " 'urn:cts:greekLit:tlg0008': {'perseus': 'http://data.perseus.org/catalog/urn:cts:greekLit:tlg0008',\n",
       "  'viaf': u'http://viaf.org/viaf/100169636',\n",
       "  'wikidata': u'http://www.wikidata.org/wiki/Special:EntityData/Q294923'},\n",
       " 'urn:cts:greekLit:tlg0010': {'perseus': 'http://data.perseus.org/catalog/urn:cts:greekLit:tlg0010',\n",
       "  'viaf': u'http://viaf.org/viaf/36926979',\n",
       "  'wikidata': u'http://www.wikidata.org/wiki/Special:EntityData/Q221182'},\n",
       " 'urn:cts:greekLit:tlg0011': {'perseus': 'http://data.perseus.org/catalog/urn:cts:greekLit:tlg0011',\n",
       "  'viaf': u'http://viaf.org/viaf/101760867',\n",
       "  'wikidata': u'http://www.wikidata.org/wiki/Special:EntityData/Q7235'},\n",
       " 'urn:cts:greekLit:tlg0012': {'perseus': 'http://data.perseus.org/catalog/urn:cts:greekLit:tlg0012',\n",
       "  'viaf': u'http://viaf.org/viaf/224924963',\n",
       "  'wikidata': u'http://www.wikidata.org/wiki/Special:EntityData/Q6691'},\n",
       " 'urn:cts:greekLit:tlg0013': {'perseus': 'http://data.perseus.org/catalog/urn:cts:greekLit:tlg0013',\n",
       "  'viaf': u'http://viaf.org/viaf/187475186',\n",
       "  'wikidata': None},\n",
       " 'urn:cts:greekLit:tlg0014': {'perseus': 'http://data.perseus.org/catalog/urn:cts:greekLit:tlg0014',\n",
       "  'viaf': u'http://viaf.org/viaf/268302412',\n",
       "  'wikidata': u'http://www.wikidata.org/wiki/Special:EntityData/Q117253'},\n",
       " 'urn:cts:greekLit:tlg0016': {'perseus': 'http://data.perseus.org/catalog/urn:cts:greekLit:tlg0016',\n",
       "  'viaf': u'http://viaf.org/viaf/100225976',\n",
       "  'wikidata': u'http://www.wikidata.org/wiki/Special:EntityData/Q26825'},\n",
       " 'urn:cts:greekLit:tlg0017': {'perseus': 'http://data.perseus.org/catalog/urn:cts:greekLit:tlg0017',\n",
       "  'viaf': u'http://viaf.org/viaf/265571975',\n",
       "  'wikidata': u'http://www.wikidata.org/wiki/Special:EntityData/Q365097'},\n",
       " 'urn:cts:greekLit:tlg0019': {'perseus': 'http://data.perseus.org/catalog/urn:cts:greekLit:tlg0019',\n",
       "  'viaf': u'http://viaf.org/viaf/20962036',\n",
       "  'wikidata': u'http://www.wikidata.org/wiki/Special:EntityData/Q43353'},\n",
       " 'urn:cts:greekLit:tlg0020': {'perseus': 'http://data.perseus.org/catalog/urn:cts:greekLit:tlg0020',\n",
       "  'viaf': u'http://viaf.org/viaf/122220717',\n",
       "  'wikidata': u'http://www.wikidata.org/wiki/Special:EntityData/Q44233'},\n",
       " 'urn:cts:greekLit:tlg0023': {'perseus': 'http://data.perseus.org/catalog/urn:cts:greekLit:tlg0023',\n",
       "  'viaf': u'http://viaf.org/viaf/86913544',\n",
       "  'wikidata': u'http://www.wikidata.org/wiki/Special:EntityData/Q116508'},\n",
       " 'urn:cts:greekLit:tlg0024': {'perseus': 'http://data.perseus.org/catalog/urn:cts:greekLit:tlg0024',\n",
       "  'viaf': u'http://viaf.org/viaf/100036127',\n",
       "  'wikidata': None},\n",
       " 'urn:cts:greekLit:tlg0026': {'perseus': 'http://data.perseus.org/catalog/urn:cts:greekLit:tlg0026',\n",
       "  'viaf': u'http://viaf.org/viaf/161234357',\n",
       "  'wikidata': u'http://www.wikidata.org/wiki/Special:EntityData/Q317089'},\n",
       " 'urn:cts:greekLit:tlg0027': {'perseus': 'http://data.perseus.org/catalog/urn:cts:greekLit:tlg0027',\n",
       "  'viaf': u'http://viaf.org/viaf/110155699',\n",
       "  'wikidata': u'http://www.wikidata.org/wiki/Special:EntityData/Q391654'},\n",
       " 'urn:cts:greekLit:tlg0028': {'perseus': 'http://data.perseus.org/catalog/urn:cts:greekLit:tlg0028',\n",
       "  'viaf': u'http://viaf.org/viaf/87640863',\n",
       "  'wikidata': u'http://www.wikidata.org/wiki/Special:EntityData/Q335560'},\n",
       " 'urn:cts:greekLit:tlg0029': {'perseus': 'http://data.perseus.org/catalog/urn:cts:greekLit:tlg0029',\n",
       "  'viaf': u'http://viaf.org/viaf/268224700',\n",
       "  'wikidata': u'http://www.wikidata.org/wiki/Special:EntityData/Q473421'},\n",
       " 'urn:cts:greekLit:tlg0030': {'perseus': 'http://data.perseus.org/catalog/urn:cts:greekLit:tlg0030',\n",
       "  'viaf': u'http://viaf.org/viaf/264197546',\n",
       "  'wikidata': u'http://www.wikidata.org/wiki/Special:EntityData/Q314447'},\n",
       " 'urn:cts:greekLit:tlg0032': {'perseus': 'http://data.perseus.org/catalog/urn:cts:greekLit:tlg0032',\n",
       "  'viaf': u'http://viaf.org/viaf/89597697',\n",
       "  'wikidata': u'http://www.wikidata.org/wiki/Special:EntityData/Q129772'},\n",
       " 'urn:cts:greekLit:tlg0033': {'perseus': 'http://data.perseus.org/catalog/urn:cts:greekLit:tlg0033',\n",
       "  'viaf': u'http://viaf.org/viaf/100181334',\n",
       "  'wikidata': None},\n",
       " 'urn:cts:greekLit:tlg0034': {'perseus': 'http://data.perseus.org/catalog/urn:cts:greekLit:tlg0034',\n",
       "  'viaf': u'http://viaf.org/viaf/268590928',\n",
       "  'wikidata': u'http://www.wikidata.org/wiki/Special:EntityData/Q373685'},\n",
       " 'urn:cts:greekLit:tlg0035': {'perseus': 'http://data.perseus.org/catalog/urn:cts:greekLit:tlg0035',\n",
       "  'viaf': u'http://viaf.org/viaf/299323588',\n",
       "  'wikidata': u'http://www.wikidata.org/wiki/Special:EntityData/Q957548'},\n",
       " 'urn:cts:greekLit:tlg0036': {'perseus': 'http://data.perseus.org/catalog/urn:cts:greekLit:tlg0036',\n",
       "  'viaf': u'http://viaf.org/viaf/250719105',\n",
       "  'wikidata': u'http://www.wikidata.org/wiki/Special:EntityData/Q463364'},\n",
       " 'urn:cts:greekLit:tlg0057': {'perseus': 'http://data.perseus.org/catalog/urn:cts:greekLit:tlg0057',\n",
       "  'viaf': u'http://viaf.org/viaf/44299175',\n",
       "  'wikidata': None},\n",
       " 'urn:cts:greekLit:tlg0058': {'perseus': 'http://data.perseus.org/catalog/urn:cts:greekLit:tlg0058',\n",
       "  'viaf': u'http://viaf.org/viaf/184019027',\n",
       "  'wikidata': u'http://www.wikidata.org/wiki/Special:EntityData/Q405969'},\n",
       " 'urn:cts:greekLit:tlg0059': {'perseus': 'http://data.perseus.org/catalog/urn:cts:greekLit:tlg0059',\n",
       "  'viaf': u'http://viaf.org/viaf/108159964',\n",
       "  'wikidata': u'http://www.wikidata.org/wiki/Special:EntityData/Q859'},\n",
       " 'urn:cts:greekLit:tlg0060': {'perseus': 'http://data.perseus.org/catalog/urn:cts:greekLit:tlg0060',\n",
       "  'viaf': u'http://viaf.org/viaf/56608763',\n",
       "  'wikidata': u'http://www.wikidata.org/wiki/Special:EntityData/Q171241'},\n",
       " 'urn:cts:greekLit:tlg0062': {'perseus': 'http://data.perseus.org/catalog/urn:cts:greekLit:tlg0062',\n",
       "  'viaf': u'http://viaf.org/viaf/89327194',\n",
       "  'wikidata': None},\n",
       " 'urn:cts:greekLit:tlg0074': {'perseus': 'http://data.perseus.org/catalog/urn:cts:greekLit:tlg0074',\n",
       "  'viaf': u'http://viaf.org/viaf/100192636',\n",
       "  'wikidata': u'http://www.wikidata.org/wiki/Special:EntityData/Q31845'},\n",
       " 'urn:cts:greekLit:tlg0081': {'perseus': 'http://data.perseus.org/catalog/urn:cts:greekLit:tlg0081',\n",
       "  'viaf': u'http://viaf.org/viaf/100218889',\n",
       "  'wikidata': u'http://www.wikidata.org/wiki/Special:EntityData/Q26204'},\n",
       " 'urn:cts:greekLit:tlg0085': {'perseus': 'http://data.perseus.org/catalog/urn:cts:greekLit:tlg0085',\n",
       "  'viaf': u'http://viaf.org/viaf/268526195',\n",
       "  'wikidata': u'http://www.wikidata.org/wiki/Special:EntityData/Q40939'},\n",
       " 'urn:cts:greekLit:tlg0086': {'perseus': 'http://data.perseus.org/catalog/urn:cts:greekLit:tlg0086',\n",
       "  'viaf': u'http://viaf.org/viaf/7524651',\n",
       "  'wikidata': u'http://www.wikidata.org/wiki/Special:EntityData/Q868'},\n",
       " 'urn:cts:greekLit:tlg0093': {'perseus': 'http://data.perseus.org/catalog/urn:cts:greekLit:tlg0093',\n",
       "  'viaf': u'http://viaf.org/viaf/265397758',\n",
       "  'wikidata': u'http://www.wikidata.org/wiki/Special:EntityData/Q160362'},\n",
       " 'urn:cts:greekLit:tlg0094': {'perseus': 'http://data.perseus.org/catalog/urn:cts:greekLit:tlg0094',\n",
       "  'viaf': None,\n",
       "  'wikidata': None},\n",
       " 'urn:cts:greekLit:tlg0099': {'perseus': 'http://data.perseus.org/catalog/urn:cts:greekLit:tlg0099',\n",
       "  'viaf': u'http://viaf.org/viaf/100219883',\n",
       "  'wikidata': u'http://www.wikidata.org/wiki/Special:EntityData/Q45936'},\n",
       " 'urn:cts:greekLit:tlg0199': {'perseus': 'http://data.perseus.org/catalog/urn:cts:greekLit:tlg0199',\n",
       "  'viaf': u'http://viaf.org/viaf/100169207',\n",
       "  'wikidata': u'http://www.wikidata.org/wiki/Special:EntityData/Q310681'},\n",
       " 'urn:cts:greekLit:tlg0284': {'perseus': 'http://data.perseus.org/catalog/urn:cts:greekLit:tlg0284',\n",
       "  'viaf': u'http://viaf.org/viaf/269609305',\n",
       "  'wikidata': None},\n",
       " 'urn:cts:greekLit:tlg0341': {'perseus': 'http://data.perseus.org/catalog/urn:cts:greekLit:tlg0341',\n",
       "  'viaf': u'http://viaf.org/viaf/68976194',\n",
       "  'wikidata': u'http://www.wikidata.org/wiki/Special:EntityData/Q432737'},\n",
       " 'urn:cts:greekLit:tlg0363': {'perseus': 'http://data.perseus.org/catalog/urn:cts:greekLit:tlg0363',\n",
       "  'viaf': u'http://viaf.org/viaf/54152998',\n",
       "  'wikidata': u'http://www.wikidata.org/wiki/Special:EntityData/Q34943'},\n",
       " 'urn:cts:greekLit:tlg0385': {'perseus': 'http://data.perseus.org/catalog/urn:cts:greekLit:tlg0385',\n",
       "  'viaf': u'http://viaf.org/viaf/95167625',\n",
       "  'wikidata': u'http://www.wikidata.org/wiki/Special:EntityData/Q185223'},\n",
       " 'urn:cts:greekLit:tlg0525': {'perseus': 'http://data.perseus.org/catalog/urn:cts:greekLit:tlg0525',\n",
       "  'viaf': u'http://viaf.org/viaf/77132959',\n",
       "  'wikidata': u'http://www.wikidata.org/wiki/Special:EntityData/Q192931'},\n",
       " 'urn:cts:greekLit:tlg0526': {'perseus': 'http://data.perseus.org/catalog/urn:cts:greekLit:tlg0526',\n",
       "  'viaf': u'http://viaf.org/viaf/22143666',\n",
       "  'wikidata': u'http://www.wikidata.org/wiki/Special:EntityData/Q134461'},\n",
       " 'urn:cts:greekLit:tlg0532': {'perseus': 'http://data.perseus.org/catalog/urn:cts:greekLit:tlg0532',\n",
       "  'viaf': u'http://viaf.org/viaf/89002230',\n",
       "  'wikidata': u'http://www.wikidata.org/wiki/Special:EntityData/Q221951'},\n",
       " 'urn:cts:greekLit:tlg0533': {'perseus': 'http://data.perseus.org/catalog/urn:cts:greekLit:tlg0533',\n",
       "  'viaf': u'http://viaf.org/viaf/99454635',\n",
       "  'wikidata': u'http://www.wikidata.org/wiki/Special:EntityData/Q192417'},\n",
       " 'urn:cts:greekLit:tlg0540': {'perseus': 'http://data.perseus.org/catalog/urn:cts:greekLit:tlg0540',\n",
       "  'viaf': u'http://viaf.org/viaf/183417170',\n",
       "  'wikidata': None},\n",
       " 'urn:cts:greekLit:tlg0543': {'perseus': 'http://data.perseus.org/catalog/urn:cts:greekLit:tlg0543',\n",
       "  'viaf': u'http://viaf.org/viaf/267920293',\n",
       "  'wikidata': u'http://www.wikidata.org/wiki/Special:EntityData/Q131169'},\n",
       " 'urn:cts:greekLit:tlg0545': {'perseus': 'http://data.perseus.org/catalog/urn:cts:greekLit:tlg0545',\n",
       "  'viaf': u'http://viaf.org/viaf/100219416',\n",
       "  'wikidata': u'http://www.wikidata.org/wiki/Special:EntityData/Q313782'},\n",
       " 'urn:cts:greekLit:tlg0548': {'perseus': 'http://data.perseus.org/catalog/urn:cts:greekLit:tlg0548',\n",
       "  'viaf': u'http://viaf.org/viaf/100219535',\n",
       "  'wikidata': u'http://www.wikidata.org/wiki/Special:EntityData/Q205704'},\n",
       " 'urn:cts:greekLit:tlg0551': {'perseus': 'http://data.perseus.org/catalog/urn:cts:greekLit:tlg0551',\n",
       "  'viaf': u'http://viaf.org/viaf/77109411',\n",
       "  'wikidata': u'http://www.wikidata.org/wiki/Special:EntityData/Q190368'},\n",
       " 'urn:cts:greekLit:tlg0554': {'perseus': 'http://data.perseus.org/catalog/urn:cts:greekLit:tlg0554',\n",
       "  'viaf': None,\n",
       "  'wikidata': None},\n",
       " 'urn:cts:greekLit:tlg0555': {'perseus': 'http://data.perseus.org/catalog/urn:cts:greekLit:tlg0555',\n",
       "  'viaf': u'http://viaf.org/viaf/100185827',\n",
       "  'wikidata': u'http://www.wikidata.org/wiki/Special:EntityData/Q188883'},\n",
       " 'urn:cts:greekLit:tlg0556': {'perseus': 'http://data.perseus.org/catalog/urn:cts:greekLit:tlg0556',\n",
       "  'viaf': u'http://viaf.org/viaf/262924258',\n",
       "  'wikidata': u'http://www.wikidata.org/wiki/Special:EntityData/Q261224'},\n",
       " 'urn:cts:greekLit:tlg0557': {'perseus': 'http://data.perseus.org/catalog/urn:cts:greekLit:tlg0557',\n",
       "  'viaf': u'http://viaf.org/viaf/100218891',\n",
       "  'wikidata': u'http://www.wikidata.org/wiki/Special:EntityData/Q183144'},\n",
       " 'urn:cts:greekLit:tlg0560': {'perseus': 'http://data.perseus.org/catalog/urn:cts:greekLit:tlg0560',\n",
       "  'viaf': u'http://viaf.org/viaf/281851250',\n",
       "  'wikidata': None},\n",
       " 'urn:cts:greekLit:tlg0561': {'perseus': 'http://data.perseus.org/catalog/urn:cts:greekLit:tlg0561',\n",
       "  'viaf': u'http://viaf.org/viaf/163408645',\n",
       "  'wikidata': u'http://www.wikidata.org/wiki/Special:EntityData/Q314949'},\n",
       " 'urn:cts:greekLit:tlg0562': {'perseus': 'http://data.perseus.org/catalog/urn:cts:greekLit:tlg0562',\n",
       "  'viaf': u'http://viaf.org/viaf/102895066',\n",
       "  'wikidata': u'http://www.wikidata.org/wiki/Special:EntityData/Q1430'},\n",
       " 'urn:cts:greekLit:tlg0612': {'perseus': 'http://data.perseus.org/catalog/urn:cts:greekLit:tlg0612',\n",
       "  'viaf': u'http://viaf.org/viaf/317287881',\n",
       "  'wikidata': None},\n",
       " 'urn:cts:greekLit:tlg0613': {'perseus': 'http://data.perseus.org/catalog/urn:cts:greekLit:tlg0613',\n",
       "  'viaf': u'http://viaf.org/viaf/312800491',\n",
       "  'wikidata': None},\n",
       " 'urn:cts:greekLit:tlg0627': {'perseus': 'http://data.perseus.org/catalog/urn:cts:greekLit:tlg0627',\n",
       "  'viaf': u'http://viaf.org/viaf/300089234',\n",
       "  'wikidata': None},\n",
       " 'urn:cts:greekLit:tlg0638': {'perseus': 'http://data.perseus.org/catalog/urn:cts:greekLit:tlg0638',\n",
       "  'viaf': u'http://viaf.org/viaf/250889454',\n",
       "  'wikidata': None},\n",
       " 'urn:cts:greekLit:tlg0647': {'perseus': 'http://data.perseus.org/catalog/urn:cts:greekLit:tlg0647',\n",
       "  'viaf': u'http://viaf.org/viaf/87464456',\n",
       "  'wikidata': u'http://www.wikidata.org/wiki/Special:EntityData/Q1371938'},\n",
       " 'urn:cts:greekLit:tlg0648': {'perseus': 'http://data.perseus.org/catalog/urn:cts:greekLit:tlg0648',\n",
       "  'viaf': u'http://viaf.org/viaf/285771738',\n",
       "  'wikidata': u'http://www.wikidata.org/wiki/Special:EntityData/Q373042'},\n",
       " 'urn:cts:greekLit:tlg0652': {'perseus': 'http://data.perseus.org/catalog/urn:cts:greekLit:tlg0652',\n",
       "  'viaf': u'http://viaf.org/viaf/103210101',\n",
       "  'wikidata': None},\n",
       " 'urn:cts:greekLit:tlg0653': {'perseus': 'http://data.perseus.org/catalog/urn:cts:greekLit:tlg0653',\n",
       "  'viaf': u'http://viaf.org/viaf/100908520',\n",
       "  'wikidata': None},\n",
       " 'urn:cts:greekLit:tlg0655': {'perseus': 'http://data.perseus.org/catalog/urn:cts:greekLit:tlg0655',\n",
       "  'viaf': u'http://viaf.org/viaf/289787117',\n",
       "  'wikidata': u'http://www.wikidata.org/wiki/Special:EntityData/Q729109'},\n",
       " 'urn:cts:greekLit:tlg0719': {'perseus': 'http://data.perseus.org/catalog/urn:cts:greekLit:tlg0719',\n",
       "  'viaf': u'http://viaf.org/viaf/60528301',\n",
       "  'wikidata': u'http://www.wikidata.org/wiki/Special:EntityData/Q505931'},\n",
       " 'urn:cts:greekLit:tlg1216': {'perseus': 'http://data.perseus.org/catalog/urn:cts:greekLit:tlg1216',\n",
       "  'viaf': None,\n",
       "  'wikidata': None},\n",
       " 'urn:cts:greekLit:tlg1600': {'perseus': 'http://data.perseus.org/catalog/urn:cts:greekLit:tlg1600',\n",
       "  'viaf': u'http://viaf.org/viaf/163752378',\n",
       "  'wikidata': u'http://www.wikidata.org/wiki/Special:EntityData/Q1231472'},\n",
       " 'urn:cts:greekLit:tlg1799': {'perseus': 'http://data.perseus.org/catalog/urn:cts:greekLit:tlg1799',\n",
       "  'viaf': u'http://viaf.org/viaf/176184097',\n",
       "  'wikidata': u'http://www.wikidata.org/wiki/Special:EntityData/Q8747'},\n",
       " 'urn:cts:greekLit:tlg2003': {'perseus': 'http://data.perseus.org/catalog/urn:cts:greekLit:tlg2003',\n",
       "  'viaf': u'http://viaf.org/viaf/57406701',\n",
       "  'wikidata': u'http://www.wikidata.org/wiki/Special:EntityData/Q33941'},\n",
       " 'urn:cts:greekLit:tlg2018': {'perseus': 'http://data.perseus.org/catalog/urn:cts:greekLit:tlg2018',\n",
       "  'viaf': u'http://viaf.org/viaf/4929593',\n",
       "  'wikidata': u'http://www.wikidata.org/wiki/Special:EntityData/Q142999'},\n",
       " 'urn:cts:greekLit:tlg2040': {'perseus': 'http://data.perseus.org/catalog/urn:cts:greekLit:tlg2040',\n",
       "  'viaf': u'http://viaf.org/viaf/88967224',\n",
       "  'wikidata': u'http://www.wikidata.org/wiki/Special:EntityData/Q44258'},\n",
       " 'urn:cts:greekLit:tlg2045': {'perseus': 'http://data.perseus.org/catalog/urn:cts:greekLit:tlg2045',\n",
       "  'viaf': None,\n",
       "  'wikidata': None},\n",
       " 'urn:cts:greekLit:tlg2046': {'perseus': 'http://data.perseus.org/catalog/urn:cts:greekLit:tlg2046',\n",
       "  'viaf': u'http://viaf.org/viaf/76294608',\n",
       "  'wikidata': u'http://www.wikidata.org/wiki/Special:EntityData/Q352702'},\n",
       " 'urn:cts:greekLit:tlg2934': {'perseus': 'http://data.perseus.org/catalog/urn:cts:greekLit:tlg2934',\n",
       "  'viaf': u'http://viaf.org/viaf/44435485',\n",
       "  'wikidata': u'http://www.wikidata.org/wiki/Special:EntityData/Q51884'},\n",
       " 'urn:cts:greekLit:tlg4029': {'perseus': 'http://data.perseus.org/catalog/urn:cts:greekLit:tlg4029',\n",
       "  'viaf': None,\n",
       "  'wikidata': None},\n",
       " 'urn:cts:greekLit:tlg4081': {'perseus': 'http://data.perseus.org/catalog/urn:cts:greekLit:tlg4081',\n",
       "  'viaf': u'http://viaf.org/viaf/62351876',\n",
       "  'wikidata': u'http://www.wikidata.org/wiki/Special:EntityData/Q1779484'},\n",
       " 'urn:cts:greekLit:tlg4091': {'perseus': 'http://data.perseus.org/catalog/urn:cts:greekLit:tlg4091',\n",
       "  'viaf': u'http://viaf.org/viaf/3284583',\n",
       "  'wikidata': u'http://www.wikidata.org/wiki/Special:EntityData/Q713482'},\n",
       " 'urn:cts:greekLit:tlg7000': {'perseus': 'http://data.perseus.org/catalog/urn:cts:greekLit:tlg7000',\n",
       "  'viaf': None,\n",
       "  'wikidata': None},\n",
       " 'urn:cts:latinLit:phi0119': {'perseus': 'http://data.perseus.org/catalog/urn:cts:latinLit:phi0119',\n",
       "  'viaf': u'http://viaf.org/viaf/66462281',\n",
       "  'wikidata': u'http://www.wikidata.org/wiki/Special:EntityData/Q47160'},\n",
       " 'urn:cts:latinLit:phi0134': {'perseus': 'http://data.perseus.org/catalog/urn:cts:latinLit:phi0134',\n",
       "  'viaf': u'http://viaf.org/viaf/213181445',\n",
       "  'wikidata': u'http://www.wikidata.org/wiki/Special:EntityData/Q172048'},\n",
       " u'urn:cts:latinLit:phi0448': {'perseus': u'http://data.perseus.org/catalog/urn:cts:latinLit:phi0448',\n",
       "  'viaf': u'http://viaf.org/viaf/286265178',\n",
       "  'wikidata': u'http://www.wikidata.org/wiki/Special:EntityData/Q1048'},\n",
       " u'urn:cts:latinLit:phi0470': {'perseus': u'http://data.perseus.org/catalog/urn:cts:latinLit:phi0470',\n",
       "  'viaf': None,\n",
       "  'wikidata': None},\n",
       " 'urn:cts:latinLit:phi0472': {'perseus': 'http://data.perseus.org/catalog/urn:cts:latinLit:phi0472',\n",
       "  'viaf': u'http://viaf.org/viaf/54145536',\n",
       "  'wikidata': None},\n",
       " u'urn:cts:latinLit:phi0474': {'perseus': u'http://data.perseus.org/catalog/urn:cts:latinLit:phi0474',\n",
       "  'viaf': None,\n",
       "  'wikidata': None},\n",
       " u'urn:cts:latinLit:phi0502': {'perseus': u'http://data.perseus.org/catalog/urn:cts:latinLit:phi0502',\n",
       "  'viaf': u'http://viaf.org/viaf/121779545',\n",
       "  'wikidata': u'http://www.wikidata.org/wiki/Special:EntityData/Q772677'},\n",
       " u'urn:cts:latinLit:phi0540.phi001': {'perseus': u'http://data.perseus.org/catalog/urn:cts:latinLit:phi0540.phi001',\n",
       "  'viaf': u'http://viaf.org/viaf/76206574',\n",
       "  'wikidata': None},\n",
       " u'urn:cts:latinLit:phi0550': {'perseus': u'http://data.perseus.org/catalog/urn:cts:latinLit:phi0550',\n",
       "  'viaf': u'http://viaf.org/viaf/106388020',\n",
       "  'wikidata': u'http://www.wikidata.org/wiki/Special:EntityData/Q47154'},\n",
       " u'urn:cts:latinLit:phi0588': {'perseus': u'http://data.perseus.org/catalog/urn:cts:latinLit:phi0588',\n",
       "  'viaf': u'http://viaf.org/viaf/100219060',\n",
       "  'wikidata': u'http://www.wikidata.org/wiki/Special:EntityData/Q109594'},\n",
       " 'urn:cts:latinLit:phi0620': {'perseus': 'http://data.perseus.org/catalog/urn:cts:latinLit:phi0620',\n",
       "  'viaf': u'http://viaf.org/viaf/100907186',\n",
       "  'wikidata': u'http://www.wikidata.org/wiki/Special:EntityData/Q8827'},\n",
       " 'urn:cts:latinLit:phi0631': {'perseus': 'http://data.perseus.org/catalog/urn:cts:latinLit:phi0631',\n",
       "  'viaf': None,\n",
       "  'wikidata': None},\n",
       " u'urn:cts:latinLit:phi0684': {'perseus': u'http://data.perseus.org/catalog/urn:cts:latinLit:phi0684',\n",
       "  'viaf': u'http://viaf.org/viaf/100219311',\n",
       "  'wikidata': u'http://www.wikidata.org/wiki/Special:EntityData/Q206119'},\n",
       " 'urn:cts:latinLit:phi0690': {'perseus': 'http://data.perseus.org/catalog/urn:cts:latinLit:phi0690',\n",
       "  'viaf': u'http://viaf.org/viaf/8194433',\n",
       "  'wikidata': u'http://www.wikidata.org/wiki/Special:EntityData/Q1398'},\n",
       " u'urn:cts:latinLit:phi0830': {'perseus': u'http://data.perseus.org/catalog/urn:cts:latinLit:phi0830',\n",
       "  'viaf': u'http://viaf.org/viaf/100165075',\n",
       "  'wikidata': u'http://www.wikidata.org/wiki/Special:EntityData/Q559878'},\n",
       " 'urn:cts:latinLit:phi0893': {'perseus': 'http://data.perseus.org/catalog/urn:cts:latinLit:phi0893',\n",
       "  'viaf': u'http://viaf.org/viaf/100227522',\n",
       "  'wikidata': u'http://www.wikidata.org/wiki/Special:EntityData/Q6197'},\n",
       " u'urn:cts:latinLit:phi0914': {'perseus': u'http://data.perseus.org/catalog/urn:cts:latinLit:phi0914',\n",
       "  'viaf': u'http://viaf.org/viaf/209297963',\n",
       "  'wikidata': None},\n",
       " 'urn:cts:latinLit:phi0917': {'perseus': 'http://data.perseus.org/catalog/urn:cts:latinLit:phi0917',\n",
       "  'viaf': u'http://viaf.org/viaf/100902938',\n",
       "  'wikidata': u'http://www.wikidata.org/wiki/Special:EntityData/Q188646'},\n",
       " u'urn:cts:latinLit:phi0926': {'perseus': u'http://data.perseus.org/catalog/urn:cts:latinLit:phi0926',\n",
       "  'viaf': u'http://viaf.org/viaf/22137113',\n",
       "  'wikidata': u'http://www.wikidata.org/wiki/Special:EntityData/Q352684'},\n",
       " u'urn:cts:latinLit:phi0959': {'perseus': u'http://data.perseus.org/catalog/urn:cts:latinLit:phi0959',\n",
       "  'viaf': None,\n",
       "  'wikidata': None},\n",
       " 'urn:cts:latinLit:phi0972': {'perseus': 'http://data.perseus.org/catalog/urn:cts:latinLit:phi0972',\n",
       "  'viaf': u'http://viaf.org/viaf/95155909',\n",
       "  'wikidata': u'http://www.wikidata.org/wiki/Special:EntityData/Q47180'},\n",
       " 'urn:cts:latinLit:phi0975': {'perseus': 'http://data.perseus.org/catalog/urn:cts:latinLit:phi0975',\n",
       "  'viaf': u'http://viaf.org/viaf/100219094',\n",
       "  'wikidata': u'http://www.wikidata.org/wiki/Special:EntityData/Q52166'},\n",
       " u'urn:cts:latinLit:phi1017': {'perseus': u'http://data.perseus.org/catalog/urn:cts:latinLit:phi1017',\n",
       "  'viaf': None,\n",
       "  'wikidata': None},\n",
       " u'urn:cts:latinLit:phi1020': {'perseus': u'http://data.perseus.org/catalog/urn:cts:latinLit:phi1020',\n",
       "  'viaf': u'http://viaf.org/viaf/100904338',\n",
       "  'wikidata': u'http://www.wikidata.org/wiki/Special:EntityData/Q243203'},\n",
       " 'urn:cts:latinLit:phi1056': {'perseus': 'http://data.perseus.org/catalog/urn:cts:latinLit:phi1056',\n",
       "  'viaf': u'http://viaf.org/viaf/46768430',\n",
       "  'wikidata': u'http://www.wikidata.org/wiki/Special:EntityData/Q47163'},\n",
       " u'urn:cts:latinLit:phi1100': {'perseus': u'http://data.perseus.org/catalog/urn:cts:latinLit:phi1100',\n",
       "  'viaf': u'http://viaf.org/viaf/1693120',\n",
       "  'wikidata': None},\n",
       " u'urn:cts:latinLit:phi1212': {'perseus': u'http://data.perseus.org/catalog/urn:cts:latinLit:phi1212',\n",
       "  'viaf': u'http://viaf.org/viaf/32115433',\n",
       "  'wikidata': u'http://www.wikidata.org/wiki/Special:EntityData/Q170512'},\n",
       " 'urn:cts:latinLit:phi1254': {'perseus': 'http://data.perseus.org/catalog/urn:cts:latinLit:phi1254',\n",
       "  'viaf': u'http://viaf.org/viaf/100198334',\n",
       "  'wikidata': u'http://www.wikidata.org/wiki/Special:EntityData/Q294800'},\n",
       " u'urn:cts:latinLit:phi1276': {'perseus': u'http://data.perseus.org/catalog/urn:cts:latinLit:phi1276',\n",
       "  'viaf': u'http://viaf.org/viaf/83985148',\n",
       "  'wikidata': u'http://www.wikidata.org/wiki/Special:EntityData/Q193800'},\n",
       " u'urn:cts:latinLit:phi1294': {'perseus': u'http://data.perseus.org/catalog/urn:cts:latinLit:phi1294',\n",
       "  'viaf': u'http://viaf.org/viaf/8099277',\n",
       "  'wikidata': u'http://www.wikidata.org/wiki/Special:EntityData/Q2098'},\n",
       " u'urn:cts:latinLit:phi1318': {'perseus': u'http://data.perseus.org/catalog/urn:cts:latinLit:phi1318',\n",
       "  'viaf': None,\n",
       "  'wikidata': None},\n",
       " u'urn:cts:latinLit:phi1345': {'perseus': u'http://data.perseus.org/catalog/urn:cts:latinLit:phi1345',\n",
       "  'viaf': u'http://viaf.org/viaf/27071645',\n",
       "  'wikidata': u'http://www.wikidata.org/wiki/Special:EntityData/Q316123'},\n",
       " 'urn:cts:latinLit:phi1351': {'perseus': 'http://data.perseus.org/catalog/urn:cts:latinLit:phi1351',\n",
       "  'viaf': u'http://viaf.org/viaf/100226923',\n",
       "  'wikidata': u'http://www.wikidata.org/wiki/Special:EntityData/Q2161'},\n",
       " 'urn:cts:latinLit:stoa0023': {'perseus': 'http://data.perseus.org/catalog/urn:cts:latinLit:stoa0023',\n",
       "  'viaf': u'http://viaf.org/viaf/89594750',\n",
       "  'wikidata': u'http://www.wikidata.org/wiki/Special:EntityData/Q172198'}}"
      ]
     },
     "execution_count": 17,
     "metadata": {},
     "output_type": "execute_result"
    }
   ],
   "source": [
    "sameas_links"
   ]
  },
  {
   "cell_type": "markdown",
   "metadata": {},
   "source": [
    "### Add 'em all"
   ]
  },
  {
   "cell_type": "code",
   "execution_count": 18,
   "metadata": {},
   "outputs": [
    {
     "name": "stderr",
     "output_type": "stream",
     "text": [
      "\r",
      "  0%|          | 0/118 [00:00<?, ?it/s]"
     ]
    },
    {
     "name": "stdout",
     "output_type": "stream",
     "text": [
      "[rdflib.term.URIRef(u'http://cwkb.org/author/id/930/turtle'), rdflib.term.URIRef(u'http://viaf.org/viaf/264197546')]\n",
      "[rdflib.term.URIRef(u'http://cwkb.org/author/id/930/turtle'), rdflib.term.URIRef(u'http://viaf.org/viaf/264197546'), rdflib.term.URIRef(u'http://www.wikidata.org/wiki/Special:EntityData/Q314447')]\n",
      "[rdflib.term.URIRef(u'http://cwkb.org/author/id/930/turtle'), rdflib.term.URIRef(u'http://viaf.org/viaf/264197546'), rdflib.term.URIRef(u'http://www.wikidata.org/wiki/Special:EntityData/Q314447'), rdflib.term.URIRef(u'http://data.perseus.org/catalog/urn:cts:greekLit:tlg0030')]\n",
      "[rdflib.term.URIRef(u'http://cwkb.org/author/id/1129/turtle'), rdflib.term.URIRef(u'http://viaf.org/viaf/89597697')]\n",
      "[rdflib.term.URIRef(u'http://cwkb.org/author/id/1129/turtle'), rdflib.term.URIRef(u'http://viaf.org/viaf/89597697'), rdflib.term.URIRef(u'http://www.wikidata.org/wiki/Special:EntityData/Q129772')]\n",
      "[rdflib.term.URIRef(u'http://cwkb.org/author/id/1129/turtle'), rdflib.term.URIRef(u'http://viaf.org/viaf/89597697'), rdflib.term.URIRef(u'http://www.wikidata.org/wiki/Special:EntityData/Q129772'), rdflib.term.URIRef(u'http://data.perseus.org/catalog/urn:cts:greekLit:tlg0032')]\n",
      "[rdflib.term.URIRef(u'http://cwkb.org/author/id/1047/turtle'), rdflib.term.URIRef(u'http://viaf.org/viaf/100181334')]"
     ]
    },
    {
     "name": "stderr",
     "output_type": "stream",
     "text": [
      "\r",
      "  3%|▎         | 4/118 [00:00<00:02, 39.70it/s]"
     ]
    },
    {
     "name": "stdout",
     "output_type": "stream",
     "text": [
      "\n",
      "urn:cts:greekLit:tlg0033 not in the KB\n",
      "[rdflib.term.URIRef(u'http://cwkb.org/author/id/958/turtle'), rdflib.term.URIRef(u'http://viaf.org/viaf/268590928')]\n",
      "[rdflib.term.URIRef(u'http://cwkb.org/author/id/958/turtle'), rdflib.term.URIRef(u'http://viaf.org/viaf/268590928'), rdflib.term.URIRef(u'http://www.wikidata.org/wiki/Special:EntityData/Q373685')]\n",
      "[rdflib.term.URIRef(u'http://cwkb.org/author/id/958/turtle'), rdflib.term.URIRef(u'http://viaf.org/viaf/268590928'), rdflib.term.URIRef(u'http://www.wikidata.org/wiki/Special:EntityData/Q373685'), rdflib.term.URIRef(u'http://data.perseus.org/catalog/urn:cts:greekLit:tlg0034')]\n",
      "[rdflib.term.URIRef(u'http://cwkb.org/author/id/993/turtle'), rdflib.term.URIRef(u'http://viaf.org/viaf/299323588')]\n",
      "[rdflib.term.URIRef(u'http://cwkb.org/author/id/993/turtle'), rdflib.term.URIRef(u'http://viaf.org/viaf/299323588'), rdflib.term.URIRef(u'http://www.wikidata.org/wiki/Special:EntityData/Q957548')]\n",
      "[rdflib.term.URIRef(u'http://cwkb.org/author/id/993/turtle'), rdflib.term.URIRef(u'http://viaf.org/viaf/299323588'), rdflib.term.URIRef(u'http://www.wikidata.org/wiki/Special:EntityData/Q957548'), rdflib.term.URIRef(u'http://data.perseus.org/catalog/urn:cts:greekLit:tlg0035')]\n",
      "[rdflib.term.URIRef(u'http://cwkb.org/author/id/2472/turtle'), rdflib.term.URIRef(u'http://viaf.org/viaf/250719105')]\n",
      "[rdflib.term.URIRef(u'http://cwkb.org/author/id/2472/turtle'), rdflib.term.URIRef(u'http://viaf.org/viaf/250719105'), rdflib.term.URIRef(u'http://www.wikidata.org/wiki/Special:EntityData/Q463364')]\n",
      "[rdflib.term.URIRef(u'http://cwkb.org/author/id/2472/turtle'), rdflib.term.URIRef(u'http://viaf.org/viaf/250719105'), rdflib.term.URIRef(u'http://www.wikidata.org/wiki/Special:EntityData/Q463364'), rdflib.term.URIRef(u'http://data.perseus.org/catalog/urn:cts:greekLit:tlg0036')]\n",
      "[rdflib.term.URIRef(u'http://cwkb.org/author/id/2663/turtle'), rdflib.term.URIRef(u'http://viaf.org/viaf/163752378')]"
     ]
    },
    {
     "name": "stderr",
     "output_type": "stream",
     "text": [
      "\r",
      "  8%|▊         | 9/118 [00:00<00:02, 41.68it/s]"
     ]
    },
    {
     "name": "stdout",
     "output_type": "stream",
     "text": [
      "\n",
      "[rdflib.term.URIRef(u'http://cwkb.org/author/id/2663/turtle'), rdflib.term.URIRef(u'http://viaf.org/viaf/163752378'), rdflib.term.URIRef(u'http://www.wikidata.org/wiki/Special:EntityData/Q1231472')]\n",
      "[rdflib.term.URIRef(u'http://cwkb.org/author/id/2663/turtle'), rdflib.term.URIRef(u'http://viaf.org/viaf/163752378'), rdflib.term.URIRef(u'http://www.wikidata.org/wiki/Special:EntityData/Q1231472'), rdflib.term.URIRef(u'http://data.perseus.org/catalog/urn:cts:greekLit:tlg1600')]\n",
      "urn:cts:greekLit:tlg1216 not in the KB\n",
      "[rdflib.term.URIRef(u'http://cwkb.org/author/id/886/turtle'), rdflib.term.URIRef(u'http://viaf.org/viaf/57406701')]\n",
      "[rdflib.term.URIRef(u'http://cwkb.org/author/id/886/turtle'), rdflib.term.URIRef(u'http://viaf.org/viaf/57406701'), rdflib.term.URIRef(u'http://www.wikidata.org/wiki/Special:EntityData/Q33941')]\n",
      "[rdflib.term.URIRef(u'http://cwkb.org/author/id/886/turtle'), rdflib.term.URIRef(u'http://viaf.org/viaf/57406701'), rdflib.term.URIRef(u'http://www.wikidata.org/wiki/Special:EntityData/Q33941'), rdflib.term.URIRef(u'http://data.perseus.org/catalog/urn:cts:greekLit:tlg2003')]\n",
      "[rdflib.term.URIRef(u'http://cwkb.org/author/id/646/turtle'), rdflib.term.URIRef(u'http://viaf.org/viaf/213181445')]\n",
      "[rdflib.term.URIRef(u'http://cwkb.org/author/id/646/turtle'), rdflib.term.URIRef(u'http://viaf.org/viaf/213181445'), rdflib.term.URIRef(u'http://www.wikidata.org/wiki/Special:EntityData/Q172048')]\n",
      "[rdflib.term.URIRef(u'http://cwkb.org/author/id/646/turtle'), rdflib.term.URIRef(u'http://viaf.org/viaf/213181445'), rdflib.term.URIRef(u'http://www.wikidata.org/wiki/Special:EntityData/Q172048'), rdflib.term.URIRef(u'http://data.perseus.org/catalog/urn:cts:latinLit:phi0134')]\n",
      "[rdflib.term.URIRef(u'http://cwkb.org/author/id/888/turtle'), rdflib.term.URIRef(u'http://viaf.org/viaf/250889454')]\n",
      "urn:cts:greekLit:tlg0638 not in the KB\n",
      "[rdflib.term.URIRef(u'http://cwkb.org/author/id/887/turtle'), rdflib.term.URIRef(u'http://viaf.org/viaf/22143666')]\n",
      "[rdflib.term.URIRef(u'http://cwkb.org/author/id/887/turtle'), rdflib.term.URIRef(u'http://viaf.org/viaf/22143666'), rdflib.term.URIRef(u'http://www.wikidata.org/wiki/Special:EntityData/Q134461')]\n",
      "[rdflib.term.URIRef(u'http://cwkb.org/author/id/887/turtle'), rdflib.term.URIRef(u'http://viaf.org/viaf/22143666'), rdflib.term.URIRef(u'http://www.wikidata.org/wiki/Special:EntityData/Q134461'), rdflib.term.URIRef(u'http://data.perseus.org/catalog/urn:cts:greekLit:tlg0526')]"
     ]
    },
    {
     "name": "stderr",
     "output_type": "stream",
     "text": [
      "\r",
      " 11%|█         | 13/118 [00:00<00:02, 41.11it/s]"
     ]
    },
    {
     "name": "stdout",
     "output_type": "stream",
     "text": [
      "\n",
      "[rdflib.term.URIRef(u'http://cwkb.org/author/id/1031/turtle'), rdflib.term.URIRef(u'http://viaf.org/viaf/77132959')]\n",
      "[rdflib.term.URIRef(u'http://cwkb.org/author/id/1031/turtle'), rdflib.term.URIRef(u'http://viaf.org/viaf/77132959'), rdflib.term.URIRef(u'http://www.wikidata.org/wiki/Special:EntityData/Q192931')]\n",
      "[rdflib.term.URIRef(u'http://cwkb.org/author/id/1031/turtle'), rdflib.term.URIRef(u'http://viaf.org/viaf/77132959'), rdflib.term.URIRef(u'http://www.wikidata.org/wiki/Special:EntityData/Q192931'), rdflib.term.URIRef(u'http://data.perseus.org/catalog/urn:cts:greekLit:tlg0525')]\n",
      "[rdflib.term.URIRef(u'http://cwkb.org/author/id/580/turtle'), rdflib.term.URIRef(u'http://viaf.org/viaf/100219094')]\n",
      "[rdflib.term.URIRef(u'http://cwkb.org/author/id/580/turtle'), rdflib.term.URIRef(u'http://viaf.org/viaf/100219094'), rdflib.term.URIRef(u'http://www.wikidata.org/wiki/Special:EntityData/Q52166')]\n",
      "[rdflib.term.URIRef(u'http://cwkb.org/author/id/580/turtle'), rdflib.term.URIRef(u'http://viaf.org/viaf/100219094'), rdflib.term.URIRef(u'http://www.wikidata.org/wiki/Special:EntityData/Q52166'), rdflib.term.URIRef(u'http://data.perseus.org/catalog/urn:cts:latinLit:phi0975')]\n",
      "[rdflib.term.URIRef(u'http://cwkb.org/author/id/579/turtle'), rdflib.term.URIRef(u'http://viaf.org/viaf/95155909')]\n",
      "[rdflib.term.URIRef(u'http://cwkb.org/author/id/579/turtle'), rdflib.term.URIRef(u'http://viaf.org/viaf/95155909'), rdflib.term.URIRef(u'http://www.wikidata.org/wiki/Special:EntityData/Q47180')]\n",
      "[rdflib.term.URIRef(u'http://cwkb.org/author/id/579/turtle'), rdflib.term.URIRef(u'http://viaf.org/viaf/95155909'), rdflib.term.URIRef(u'http://www.wikidata.org/wiki/Special:EntityData/Q47180'), rdflib.term.URIRef(u'http://data.perseus.org/catalog/urn:cts:latinLit:phi0972')]\n",
      "urn:cts:latinLit:phi0540.phi001 not in the KB\n",
      "[rdflib.term.URIRef(u'http://cwkb.org/author/id/2846/turtle'), rdflib.term.URIRef(u'http://viaf.org/viaf/89594750')]"
     ]
    },
    {
     "name": "stderr",
     "output_type": "stream",
     "text": [
      "\r",
      " 16%|█▌        | 19/118 [00:00<00:02, 43.94it/s]"
     ]
    },
    {
     "name": "stdout",
     "output_type": "stream",
     "text": [
      "\n",
      "[rdflib.term.URIRef(u'http://cwkb.org/author/id/2846/turtle'), rdflib.term.URIRef(u'http://viaf.org/viaf/89594750'), rdflib.term.URIRef(u'http://www.wikidata.org/wiki/Special:EntityData/Q172198')]\n",
      "[rdflib.term.URIRef(u'http://cwkb.org/author/id/2846/turtle'), rdflib.term.URIRef(u'http://viaf.org/viaf/89594750'), rdflib.term.URIRef(u'http://www.wikidata.org/wiki/Special:EntityData/Q172198'), rdflib.term.URIRef(u'http://data.perseus.org/catalog/urn:cts:latinLit:stoa0023')]\n",
      "urn:cts:latinLit:phi1212 not in the KB\n",
      "[rdflib.term.URIRef(u'http://cwkb.org/author/id/833/turtle'), rdflib.term.URIRef(u'http://viaf.org/viaf/268224700')]\n",
      "[rdflib.term.URIRef(u'http://cwkb.org/author/id/833/turtle'), rdflib.term.URIRef(u'http://viaf.org/viaf/268224700'), rdflib.term.URIRef(u'http://www.wikidata.org/wiki/Special:EntityData/Q473421')]\n",
      "[rdflib.term.URIRef(u'http://cwkb.org/author/id/833/turtle'), rdflib.term.URIRef(u'http://viaf.org/viaf/268224700'), rdflib.term.URIRef(u'http://www.wikidata.org/wiki/Special:EntityData/Q473421'), rdflib.term.URIRef(u'http://data.perseus.org/catalog/urn:cts:greekLit:tlg0029')]\n",
      "[rdflib.term.URIRef(u'http://cwkb.org/author/id/738/turtle'), rdflib.term.URIRef(u'http://viaf.org/viaf/87640863')]\n",
      "[rdflib.term.URIRef(u'http://cwkb.org/author/id/738/turtle'), rdflib.term.URIRef(u'http://viaf.org/viaf/87640863'), rdflib.term.URIRef(u'http://www.wikidata.org/wiki/Special:EntityData/Q335560')]\n",
      "[rdflib.term.URIRef(u'http://cwkb.org/author/id/738/turtle'), rdflib.term.URIRef(u'http://viaf.org/viaf/87640863'), rdflib.term.URIRef(u'http://www.wikidata.org/wiki/Special:EntityData/Q335560'), rdflib.term.URIRef(u'http://data.perseus.org/catalog/urn:cts:greekLit:tlg0028')]\n",
      "[rdflib.term.URIRef(u'http://cwkb.org/author/id/1179/turtle'), rdflib.term.URIRef(u'http://viaf.org/viaf/86913544')]\n",
      "[rdflib.term.URIRef(u'http://cwkb.org/author/id/1179/turtle'), rdflib.term.URIRef(u'http://viaf.org/viaf/86913544'), rdflib.term.URIRef(u'http://www.wikidata.org/wiki/Special:EntityData/Q116508')]\n",
      "[rdflib.term.URIRef(u'http://cwkb.org/author/id/1179/turtle'), rdflib.term.URIRef(u'http://viaf.org/viaf/86913544'), rdflib.term.URIRef(u'http://www.wikidata.org/wiki/Special:EntityData/Q116508'), rdflib.term.URIRef(u'http://data.perseus.org/catalog/urn:cts:greekLit:tlg0023')]\n",
      "[rdflib.term.URIRef(u'http://cwkb.org/author/id/917/turtle'), rdflib.term.URIRef(u'http://viaf.org/viaf/122220717')]"
     ]
    },
    {
     "name": "stderr",
     "output_type": "stream",
     "text": [
      "\r",
      " 19%|█▉        | 23/118 [00:00<00:02, 42.69it/s]"
     ]
    },
    {
     "name": "stdout",
     "output_type": "stream",
     "text": [
      "\n",
      "[rdflib.term.URIRef(u'http://cwkb.org/author/id/917/turtle'), rdflib.term.URIRef(u'http://viaf.org/viaf/122220717'), rdflib.term.URIRef(u'http://www.wikidata.org/wiki/Special:EntityData/Q44233')]\n",
      "[rdflib.term.URIRef(u'http://cwkb.org/author/id/917/turtle'), rdflib.term.URIRef(u'http://viaf.org/viaf/122220717'), rdflib.term.URIRef(u'http://www.wikidata.org/wiki/Special:EntityData/Q44233'), rdflib.term.URIRef(u'http://data.perseus.org/catalog/urn:cts:greekLit:tlg0020')]\n",
      "[rdflib.term.URIRef(u'http://cwkb.org/author/id/735/turtle'), rdflib.term.URIRef(u'http://viaf.org/viaf/110155699')]\n",
      "[rdflib.term.URIRef(u'http://cwkb.org/author/id/735/turtle'), rdflib.term.URIRef(u'http://viaf.org/viaf/110155699'), rdflib.term.URIRef(u'http://www.wikidata.org/wiki/Special:EntityData/Q391654')]\n",
      "[rdflib.term.URIRef(u'http://cwkb.org/author/id/735/turtle'), rdflib.term.URIRef(u'http://viaf.org/viaf/110155699'), rdflib.term.URIRef(u'http://www.wikidata.org/wiki/Special:EntityData/Q391654'), rdflib.term.URIRef(u'http://data.perseus.org/catalog/urn:cts:greekLit:tlg0027')]\n",
      "[rdflib.term.URIRef(u'http://cwkb.org/author/id/717/turtle'), rdflib.term.URIRef(u'http://viaf.org/viaf/161234357')]\n",
      "[rdflib.term.URIRef(u'http://cwkb.org/author/id/717/turtle'), rdflib.term.URIRef(u'http://viaf.org/viaf/161234357'), rdflib.term.URIRef(u'http://www.wikidata.org/wiki/Special:EntityData/Q317089')]\n",
      "[rdflib.term.URIRef(u'http://cwkb.org/author/id/717/turtle'), rdflib.term.URIRef(u'http://viaf.org/viaf/161234357'), rdflib.term.URIRef(u'http://www.wikidata.org/wiki/Special:EntityData/Q317089'), rdflib.term.URIRef(u'http://data.perseus.org/catalog/urn:cts:greekLit:tlg0026')]\n",
      "[rdflib.term.URIRef(u'http://cwkb.org/author/id/1009/turtle'), rdflib.term.URIRef(u'http://viaf.org/viaf/100036127')]\n",
      "urn:cts:greekLit:tlg0024 not in the KB\n",
      "urn:cts:latinLit:phi0631 not in the KB\n",
      "[rdflib.term.URIRef(u'http://cwkb.org/author/id/789/turtle'), rdflib.term.URIRef(u'http://viaf.org/viaf/99454635')]\n",
      "[rdflib.term.URIRef(u'http://cwkb.org/author/id/789/turtle'), rdflib.term.URIRef(u'http://viaf.org/viaf/99454635'), rdflib.term.URIRef(u'http://www.wikidata.org/wiki/Special:EntityData/Q192417')]\n",
      "[rdflib.term.URIRef(u'http://cwkb.org/author/id/789/turtle'), rdflib.term.URIRef(u'http://viaf.org/viaf/99454635'), rdflib.term.URIRef(u'http://www.wikidata.org/wiki/Special:EntityData/Q192417'), rdflib.term.URIRef(u'http://data.perseus.org/catalog/urn:cts:greekLit:tlg0533')]"
     ]
    },
    {
     "name": "stderr",
     "output_type": "stream",
     "text": [
      "\r",
      " 25%|██▍       | 29/118 [00:00<00:01, 44.69it/s]"
     ]
    },
    {
     "name": "stdout",
     "output_type": "stream",
     "text": [
      "\n",
      "[rdflib.term.URIRef(u'http://cwkb.org/author/id/644/turtle'), rdflib.term.URIRef(u'http://viaf.org/viaf/100226923')]\n",
      "[rdflib.term.URIRef(u'http://cwkb.org/author/id/644/turtle'), rdflib.term.URIRef(u'http://viaf.org/viaf/100226923'), rdflib.term.URIRef(u'http://www.wikidata.org/wiki/Special:EntityData/Q2161')]\n",
      "[rdflib.term.URIRef(u'http://cwkb.org/author/id/644/turtle'), rdflib.term.URIRef(u'http://viaf.org/viaf/100226923'), rdflib.term.URIRef(u'http://www.wikidata.org/wiki/Special:EntityData/Q2161'), rdflib.term.URIRef(u'http://data.perseus.org/catalog/urn:cts:latinLit:phi1351')]\n",
      "[rdflib.term.URIRef(u'http://cwkb.org/author/id/923/turtle'), rdflib.term.URIRef(u'http://viaf.org/viaf/300089234')]\n",
      "urn:cts:greekLit:tlg0627 not in the KB\n",
      "[rdflib.term.URIRef(u'http://cwkb.org/author/id/2401/turtle'), rdflib.term.URIRef(u'http://viaf.org/viaf/44435485')]\n",
      "[rdflib.term.URIRef(u'http://cwkb.org/author/id/2401/turtle'), rdflib.term.URIRef(u'http://viaf.org/viaf/44435485'), rdflib.term.URIRef(u'http://www.wikidata.org/wiki/Special:EntityData/Q51884')]\n",
      "[rdflib.term.URIRef(u'http://cwkb.org/author/id/2401/turtle'), rdflib.term.URIRef(u'http://viaf.org/viaf/44435485'), rdflib.term.URIRef(u'http://www.wikidata.org/wiki/Special:EntityData/Q51884'), rdflib.term.URIRef(u'http://data.perseus.org/catalog/urn:cts:greekLit:tlg2934')]\n",
      "urn:cts:latinLit:phi0550 not in the KB\n",
      "urn:cts:latinLit:phi1345 not in the KB\n",
      "[rdflib.term.URIRef(u'http://cwkb.org/author/id/804/turtle'), rdflib.term.URIRef(u'http://viaf.org/viaf/100219416')]\n",
      "[rdflib.term.URIRef(u'http://cwkb.org/author/id/804/turtle'), rdflib.term.URIRef(u'http://viaf.org/viaf/100219416'), rdflib.term.URIRef(u'http://www.wikidata.org/wiki/Special:EntityData/Q313782')]\n",
      "[rdflib.term.URIRef(u'http://cwkb.org/author/id/804/turtle'), rdflib.term.URIRef(u'http://viaf.org/viaf/100219416'), rdflib.term.URIRef(u'http://www.wikidata.org/wiki/Special:EntityData/Q313782'), rdflib.term.URIRef(u'http://data.perseus.org/catalog/urn:cts:greekLit:tlg0545')]\n",
      "[rdflib.term.URIRef(u'http://cwkb.org/author/id/765/turtle'), rdflib.term.URIRef(u'http://viaf.org/viaf/20962036')]"
     ]
    },
    {
     "name": "stderr",
     "output_type": "stream",
     "text": [
      "\r",
      " 30%|██▉       | 35/118 [00:00<00:01, 46.09it/s]"
     ]
    },
    {
     "name": "stdout",
     "output_type": "stream",
     "text": [
      "\n",
      "[rdflib.term.URIRef(u'http://cwkb.org/author/id/765/turtle'), rdflib.term.URIRef(u'http://viaf.org/viaf/20962036'), rdflib.term.URIRef(u'http://www.wikidata.org/wiki/Special:EntityData/Q43353')]\n",
      "[rdflib.term.URIRef(u'http://cwkb.org/author/id/765/turtle'), rdflib.term.URIRef(u'http://viaf.org/viaf/20962036'), rdflib.term.URIRef(u'http://www.wikidata.org/wiki/Special:EntityData/Q43353'), rdflib.term.URIRef(u'http://data.perseus.org/catalog/urn:cts:greekLit:tlg0019')]\n",
      "[rdflib.term.URIRef(u'http://cwkb.org/author/id/915/turtle'), rdflib.term.URIRef(u'http://viaf.org/viaf/100225976')]\n",
      "[rdflib.term.URIRef(u'http://cwkb.org/author/id/915/turtle'), rdflib.term.URIRef(u'http://viaf.org/viaf/100225976'), rdflib.term.URIRef(u'http://www.wikidata.org/wiki/Special:EntityData/Q26825')]\n",
      "[rdflib.term.URIRef(u'http://cwkb.org/author/id/915/turtle'), rdflib.term.URIRef(u'http://viaf.org/viaf/100225976'), rdflib.term.URIRef(u'http://www.wikidata.org/wiki/Special:EntityData/Q26825'), rdflib.term.URIRef(u'http://data.perseus.org/catalog/urn:cts:greekLit:tlg0016')]\n",
      "[rdflib.term.URIRef(u'http://cwkb.org/author/id/937/turtle'), rdflib.term.URIRef(u'http://viaf.org/viaf/265571975')]\n",
      "[rdflib.term.URIRef(u'http://cwkb.org/author/id/937/turtle'), rdflib.term.URIRef(u'http://viaf.org/viaf/265571975'), rdflib.term.URIRef(u'http://www.wikidata.org/wiki/Special:EntityData/Q365097')]\n",
      "[rdflib.term.URIRef(u'http://cwkb.org/author/id/937/turtle'), rdflib.term.URIRef(u'http://viaf.org/viaf/265571975'), rdflib.term.URIRef(u'http://www.wikidata.org/wiki/Special:EntityData/Q365097'), rdflib.term.URIRef(u'http://data.perseus.org/catalog/urn:cts:greekLit:tlg0017')]\n",
      "[rdflib.term.URIRef(u'http://cwkb.org/author/id/827/turtle'), rdflib.term.URIRef(u'http://viaf.org/viaf/268302412')]\n",
      "[rdflib.term.URIRef(u'http://cwkb.org/author/id/827/turtle'), rdflib.term.URIRef(u'http://viaf.org/viaf/268302412'), rdflib.term.URIRef(u'http://www.wikidata.org/wiki/Special:EntityData/Q117253')]\n",
      "[rdflib.term.URIRef(u'http://cwkb.org/author/id/827/turtle'), rdflib.term.URIRef(u'http://viaf.org/viaf/268302412'), rdflib.term.URIRef(u'http://www.wikidata.org/wiki/Special:EntityData/Q117253'), rdflib.term.URIRef(u'http://data.perseus.org/catalog/urn:cts:greekLit:tlg0014')]\n",
      "[rdflib.term.URIRef(u'http://cwkb.org/author/id/927/turtle'), rdflib.term.URIRef(u'http://viaf.org/viaf/224924963')]\n",
      "[rdflib.term.URIRef(u'http://cwkb.org/author/id/927/turtle'), rdflib.term.URIRef(u'http://viaf.org/viaf/224924963'), rdflib.term.URIRef(u'http://www.wikidata.org/wiki/Special:EntityData/Q6691')]\n",
      "[rdflib.term.URIRef(u'http://cwkb.org/author/id/927/turtle'), rdflib.term.URIRef(u'http://viaf.org/viaf/224924963'), rdflib.term.URIRef(u'http://www.wikidata.org/wiki/Special:EntityData/Q6691'), rdflib.term.URIRef(u'http://data.perseus.org/catalog/urn:cts:greekLit:tlg0012')]\n",
      "[rdflib.term.URIRef(u'http://cwkb.org/author/id/929/turtle'), rdflib.term.URIRef(u'http://viaf.org/viaf/187475186')]\n",
      "urn:cts:greekLit:tlg0013 not in the KB\n",
      "[rdflib.term.URIRef(u'http://cwkb.org/author/id/939/turtle'), rdflib.term.URIRef(u'http://viaf.org/viaf/36926979')]"
     ]
    },
    {
     "name": "stderr",
     "output_type": "stream",
     "text": [
      "\r",
      " 34%|███▍      | 40/118 [00:01<00:02, 33.68it/s]"
     ]
    },
    {
     "name": "stdout",
     "output_type": "stream",
     "text": [
      "\n",
      "[rdflib.term.URIRef(u'http://cwkb.org/author/id/939/turtle'), rdflib.term.URIRef(u'http://viaf.org/viaf/36926979'), rdflib.term.URIRef(u'http://www.wikidata.org/wiki/Special:EntityData/Q221182')]\n",
      "[rdflib.term.URIRef(u'http://cwkb.org/author/id/939/turtle'), rdflib.term.URIRef(u'http://viaf.org/viaf/36926979'), rdflib.term.URIRef(u'http://www.wikidata.org/wiki/Special:EntityData/Q221182'), rdflib.term.URIRef(u'http://data.perseus.org/catalog/urn:cts:greekLit:tlg0010')]\n",
      "[rdflib.term.URIRef(u'http://cwkb.org/author/id/1090/turtle'), rdflib.term.URIRef(u'http://viaf.org/viaf/101760867')]\n",
      "[rdflib.term.URIRef(u'http://cwkb.org/author/id/1090/turtle'), rdflib.term.URIRef(u'http://viaf.org/viaf/101760867'), rdflib.term.URIRef(u'http://www.wikidata.org/wiki/Special:EntityData/Q7235')]\n",
      "[rdflib.term.URIRef(u'http://cwkb.org/author/id/1090/turtle'), rdflib.term.URIRef(u'http://viaf.org/viaf/101760867'), rdflib.term.URIRef(u'http://www.wikidata.org/wiki/Special:EntityData/Q7235'), rdflib.term.URIRef(u'http://data.perseus.org/catalog/urn:cts:greekLit:tlg0011')]\n",
      "[rdflib.term.URIRef(u'http://cwkb.org/author/id/959/turtle'), rdflib.term.URIRef(u'http://viaf.org/viaf/183417170')]\n",
      "urn:cts:greekLit:tlg0540 not in the KB\n",
      "[rdflib.term.URIRef(u'http://cwkb.org/author/id/1054/turtle'), rdflib.term.URIRef(u'http://viaf.org/viaf/267920293')]\n",
      "[rdflib.term.URIRef(u'http://cwkb.org/author/id/1054/turtle'), rdflib.term.URIRef(u'http://viaf.org/viaf/267920293'), rdflib.term.URIRef(u'http://www.wikidata.org/wiki/Special:EntityData/Q131169')]\n",
      "[rdflib.term.URIRef(u'http://cwkb.org/author/id/1054/turtle'), rdflib.term.URIRef(u'http://viaf.org/viaf/267920293'), rdflib.term.URIRef(u'http://www.wikidata.org/wiki/Special:EntityData/Q131169'), rdflib.term.URIRef(u'http://data.perseus.org/catalog/urn:cts:greekLit:tlg0543')]\n",
      "[rdflib.term.URIRef(u'http://cwkb.org/author/id/597/turtle'), rdflib.term.URIRef(u'http://viaf.org/viaf/100907186')]\n",
      "[rdflib.term.URIRef(u'http://cwkb.org/author/id/597/turtle'), rdflib.term.URIRef(u'http://viaf.org/viaf/100907186'), rdflib.term.URIRef(u'http://www.wikidata.org/wiki/Special:EntityData/Q8827')]\n",
      "[rdflib.term.URIRef(u'http://cwkb.org/author/id/597/turtle'), rdflib.term.URIRef(u'http://viaf.org/viaf/100907186'), rdflib.term.URIRef(u'http://www.wikidata.org/wiki/Special:EntityData/Q8827'), rdflib.term.URIRef(u'http://data.perseus.org/catalog/urn:cts:latinLit:phi0620')]"
     ]
    },
    {
     "name": "stderr",
     "output_type": "stream",
     "text": [
      "\r",
      " 38%|███▊      | 45/118 [00:01<00:02, 34.45it/s]"
     ]
    },
    {
     "name": "stdout",
     "output_type": "stream",
     "text": [
      "\n",
      "[rdflib.term.URIRef(u'http://cwkb.org/author/id/2847/turtle'), rdflib.term.URIRef(u'http://viaf.org/viaf/100219535')]\n",
      "[rdflib.term.URIRef(u'http://cwkb.org/author/id/2847/turtle'), rdflib.term.URIRef(u'http://viaf.org/viaf/100219535'), rdflib.term.URIRef(u'http://www.wikidata.org/wiki/Special:EntityData/Q205704')]\n",
      "[rdflib.term.URIRef(u'http://cwkb.org/author/id/2847/turtle'), rdflib.term.URIRef(u'http://viaf.org/viaf/100219535'), rdflib.term.URIRef(u'http://www.wikidata.org/wiki/Special:EntityData/Q205704'), rdflib.term.URIRef(u'http://data.perseus.org/catalog/urn:cts:greekLit:tlg0548')]\n",
      "[rdflib.term.URIRef(u'http://cwkb.org/author/id/1396/turtle'), rdflib.term.URIRef(u'http://viaf.org/viaf/103210101')]\n",
      "urn:cts:greekLit:tlg0652 not in the KB\n",
      "[rdflib.term.URIRef(u'http://cwkb.org/author/id/753/turtle'), rdflib.term.URIRef(u'http://viaf.org/viaf/100908520')]\n",
      "urn:cts:greekLit:tlg0653 not in the KB\n",
      "[rdflib.term.URIRef(u'http://cwkb.org/author/id/525/turtle'), rdflib.term.URIRef(u'http://viaf.org/viaf/100902938')]\n",
      "[rdflib.term.URIRef(u'http://cwkb.org/author/id/525/turtle'), rdflib.term.URIRef(u'http://viaf.org/viaf/100902938'), rdflib.term.URIRef(u'http://www.wikidata.org/wiki/Special:EntityData/Q188646')]\n",
      "[rdflib.term.URIRef(u'http://cwkb.org/author/id/525/turtle'), rdflib.term.URIRef(u'http://viaf.org/viaf/100902938'), rdflib.term.URIRef(u'http://www.wikidata.org/wiki/Special:EntityData/Q188646'), rdflib.term.URIRef(u'http://data.perseus.org/catalog/urn:cts:latinLit:phi0917')]\n",
      "[rdflib.term.URIRef(u'http://cwkb.org/author/id/1028/turtle'), rdflib.term.URIRef(u'http://viaf.org/viaf/289787117')]\n",
      "[rdflib.term.URIRef(u'http://cwkb.org/author/id/1028/turtle'), rdflib.term.URIRef(u'http://viaf.org/viaf/289787117'), rdflib.term.URIRef(u'http://www.wikidata.org/wiki/Special:EntityData/Q729109')]\n",
      "[rdflib.term.URIRef(u'http://cwkb.org/author/id/1028/turtle'), rdflib.term.URIRef(u'http://viaf.org/viaf/289787117'), rdflib.term.URIRef(u'http://www.wikidata.org/wiki/Special:EntityData/Q729109'), rdflib.term.URIRef(u'http://data.perseus.org/catalog/urn:cts:greekLit:tlg0655')]"
     ]
    },
    {
     "name": "stderr",
     "output_type": "stream",
     "text": [
      "\r",
      " 44%|████▍     | 52/118 [00:01<00:01, 36.73it/s]"
     ]
    },
    {
     "name": "stdout",
     "output_type": "stream",
     "text": [
      "\n",
      "urn:cts:latinLit:phi0914 not in the KB\n",
      "urn:cts:latinLit:phi1017 not in the KB\n",
      "[rdflib.term.URIRef(u'http://cwkb.org/author/id/797/turtle'), rdflib.term.URIRef(u'http://viaf.org/viaf/95167625')]\n",
      "[rdflib.term.URIRef(u'http://cwkb.org/author/id/797/turtle'), rdflib.term.URIRef(u'http://viaf.org/viaf/95167625'), rdflib.term.URIRef(u'http://www.wikidata.org/wiki/Special:EntityData/Q185223')]\n",
      "[rdflib.term.URIRef(u'http://cwkb.org/author/id/797/turtle'), rdflib.term.URIRef(u'http://viaf.org/viaf/95167625'), rdflib.term.URIRef(u'http://www.wikidata.org/wiki/Special:EntityData/Q185223'), rdflib.term.URIRef(u'http://data.perseus.org/catalog/urn:cts:greekLit:tlg0385')]\n",
      "urn:cts:greekLit:tlg4029 not in the KB\n",
      "urn:cts:latinLit:phi1294 not in the KB\n",
      "[rdflib.term.URIRef(u'http://cwkb.org/author/id/1138/turtle'), rdflib.term.URIRef(u'http://viaf.org/viaf/89002230')]\n",
      "[rdflib.term.URIRef(u'http://cwkb.org/author/id/1138/turtle'), rdflib.term.URIRef(u'http://viaf.org/viaf/89002230'), rdflib.term.URIRef(u'http://www.wikidata.org/wiki/Special:EntityData/Q221951')]\n",
      "[rdflib.term.URIRef(u'http://cwkb.org/author/id/1138/turtle'), rdflib.term.URIRef(u'http://viaf.org/viaf/89002230'), rdflib.term.URIRef(u'http://www.wikidata.org/wiki/Special:EntityData/Q221951'), rdflib.term.URIRef(u'http://data.perseus.org/catalog/urn:cts:greekLit:tlg0532')]\n",
      "[rdflib.term.URIRef(u'http://cwkb.org/author/id/751/turtle'), rdflib.term.URIRef(u'http://viaf.org/viaf/262974255')]\n",
      "[rdflib.term.URIRef(u'http://cwkb.org/author/id/751/turtle'), rdflib.term.URIRef(u'http://viaf.org/viaf/262974255'), rdflib.term.URIRef(u'http://www.wikidata.org/wiki/Special:EntityData/Q192638')]\n",
      "[rdflib.term.URIRef(u'http://cwkb.org/author/id/751/turtle'), rdflib.term.URIRef(u'http://viaf.org/viaf/262974255'), rdflib.term.URIRef(u'http://www.wikidata.org/wiki/Special:EntityData/Q192638'), rdflib.term.URIRef(u'http://data.perseus.org/catalog/urn:cts:greekLit:tlg0001')]\n",
      "[rdflib.term.URIRef(u'http://cwkb.org/author/id/1115/turtle'), rdflib.term.URIRef(u'http://viaf.org/viaf/95161463')]"
     ]
    },
    {
     "name": "stderr",
     "output_type": "stream",
     "text": [
      "\r",
      " 49%|████▉     | 58/118 [00:01<00:01, 38.01it/s]"
     ]
    },
    {
     "name": "stdout",
     "output_type": "stream",
     "text": [
      "\n",
      "[rdflib.term.URIRef(u'http://cwkb.org/author/id/1115/turtle'), rdflib.term.URIRef(u'http://viaf.org/viaf/95161463'), rdflib.term.URIRef(u'http://www.wikidata.org/wiki/Special:EntityData/Q41683')]\n",
      "[rdflib.term.URIRef(u'http://cwkb.org/author/id/1115/turtle'), rdflib.term.URIRef(u'http://viaf.org/viaf/95161463'), rdflib.term.URIRef(u'http://www.wikidata.org/wiki/Special:EntityData/Q41683'), rdflib.term.URIRef(u'http://data.perseus.org/catalog/urn:cts:greekLit:tlg0003')]\n",
      "[rdflib.term.URIRef(u'http://cwkb.org/author/id/791/turtle'), rdflib.term.URIRef(u'http://viaf.org/viaf/3284583')]\n",
      "[rdflib.term.URIRef(u'http://cwkb.org/author/id/791/turtle'), rdflib.term.URIRef(u'http://viaf.org/viaf/3284583'), rdflib.term.URIRef(u'http://www.wikidata.org/wiki/Special:EntityData/Q713482')]\n",
      "[rdflib.term.URIRef(u'http://cwkb.org/author/id/791/turtle'), rdflib.term.URIRef(u'http://viaf.org/viaf/3284583'), rdflib.term.URIRef(u'http://www.wikidata.org/wiki/Special:EntityData/Q713482'), rdflib.term.URIRef(u'http://data.perseus.org/catalog/urn:cts:greekLit:tlg4091')]\n",
      "[rdflib.term.URIRef(u'http://cwkb.org/author/id/1102/turtle'), rdflib.term.URIRef(u'http://viaf.org/viaf/95161348')]\n",
      "[rdflib.term.URIRef(u'http://cwkb.org/author/id/1102/turtle'), rdflib.term.URIRef(u'http://viaf.org/viaf/95161348'), rdflib.term.URIRef(u'http://www.wikidata.org/wiki/Special:EntityData/Q219484')]\n",
      "[rdflib.term.URIRef(u'http://cwkb.org/author/id/1102/turtle'), rdflib.term.URIRef(u'http://viaf.org/viaf/95161348'), rdflib.term.URIRef(u'http://www.wikidata.org/wiki/Special:EntityData/Q219484'), rdflib.term.URIRef(u'http://data.perseus.org/catalog/urn:cts:greekLit:tlg0005')]\n",
      "[rdflib.term.URIRef(u'http://cwkb.org/author/id/836/turtle'), rdflib.term.URIRef(u'http://viaf.org/viaf/41839141')]\n",
      "[rdflib.term.URIRef(u'http://cwkb.org/author/id/836/turtle'), rdflib.term.URIRef(u'http://viaf.org/viaf/41839141'), rdflib.term.URIRef(u'http://www.wikidata.org/wiki/Special:EntityData/Q59138')]\n",
      "[rdflib.term.URIRef(u'http://cwkb.org/author/id/836/turtle'), rdflib.term.URIRef(u'http://viaf.org/viaf/41839141'), rdflib.term.URIRef(u'http://www.wikidata.org/wiki/Special:EntityData/Q59138'), rdflib.term.URIRef(u'http://data.perseus.org/catalog/urn:cts:greekLit:tlg0004')]\n",
      "[rdflib.term.URIRef(u'http://cwkb.org/author/id/1052/turtle'), rdflib.term.URIRef(u'http://viaf.org/viaf/268955446')]\n",
      "[rdflib.term.URIRef(u'http://cwkb.org/author/id/1052/turtle'), rdflib.term.URIRef(u'http://viaf.org/viaf/268955446'), rdflib.term.URIRef(u'http://www.wikidata.org/wiki/Special:EntityData/Q41523')]\n",
      "[rdflib.term.URIRef(u'http://cwkb.org/author/id/1052/turtle'), rdflib.term.URIRef(u'http://viaf.org/viaf/268955446'), rdflib.term.URIRef(u'http://www.wikidata.org/wiki/Special:EntityData/Q41523'), rdflib.term.URIRef(u'http://data.perseus.org/catalog/urn:cts:greekLit:tlg0007')]\n",
      "[rdflib.term.URIRef(u'http://cwkb.org/author/id/869/turtle'), rdflib.term.URIRef(u'http://viaf.org/viaf/265326651')]\n",
      "[rdflib.term.URIRef(u'http://cwkb.org/author/id/869/turtle'), rdflib.term.URIRef(u'http://viaf.org/viaf/265326651'), rdflib.term.URIRef(u'http://www.wikidata.org/wiki/Special:EntityData/Q48305')]\n",
      "[rdflib.term.URIRef(u'http://cwkb.org/author/id/869/turtle'), rdflib.term.URIRef(u'http://viaf.org/viaf/265326651'), rdflib.term.URIRef(u'http://www.wikidata.org/wiki/Special:EntityData/Q48305'), rdflib.term.URIRef(u'http://data.perseus.org/catalog/urn:cts:greekLit:tlg0006')]\n",
      "[rdflib.term.URIRef(u'http://cwkb.org/author/id/1172/turtle'), rdflib.term.URIRef(u'http://viaf.org/viaf/100169636')]"
     ]
    },
    {
     "name": "stderr",
     "output_type": "stream",
     "text": [
      "\r",
      " 53%|█████▎    | 63/118 [00:01<00:01, 38.05it/s]"
     ]
    },
    {
     "name": "stdout",
     "output_type": "stream",
     "text": [
      "\n",
      "[rdflib.term.URIRef(u'http://cwkb.org/author/id/1172/turtle'), rdflib.term.URIRef(u'http://viaf.org/viaf/100169636'), rdflib.term.URIRef(u'http://www.wikidata.org/wiki/Special:EntityData/Q294923')]\n",
      "[rdflib.term.URIRef(u'http://cwkb.org/author/id/1172/turtle'), rdflib.term.URIRef(u'http://viaf.org/viaf/100169636'), rdflib.term.URIRef(u'http://www.wikidata.org/wiki/Special:EntityData/Q294923'), rdflib.term.URIRef(u'http://data.perseus.org/catalog/urn:cts:greekLit:tlg0008')]\n",
      "[rdflib.term.URIRef(u'http://cwkb.org/author/id/805/turtle'), rdflib.term.URIRef(u'http://viaf.org/viaf/54152998')]\n",
      "[rdflib.term.URIRef(u'http://cwkb.org/author/id/805/turtle'), rdflib.term.URIRef(u'http://viaf.org/viaf/54152998'), rdflib.term.URIRef(u'http://www.wikidata.org/wiki/Special:EntityData/Q34943')]\n",
      "[rdflib.term.URIRef(u'http://cwkb.org/author/id/805/turtle'), rdflib.term.URIRef(u'http://viaf.org/viaf/54152998'), rdflib.term.URIRef(u'http://www.wikidata.org/wiki/Special:EntityData/Q34943'), rdflib.term.URIRef(u'http://data.perseus.org/catalog/urn:cts:greekLit:tlg0363')]\n",
      "[rdflib.term.URIRef(u'http://cwkb.org/author/id/752/turtle'), rdflib.term.URIRef(u'http://viaf.org/viaf/77109411')]\n",
      "[rdflib.term.URIRef(u'http://cwkb.org/author/id/752/turtle'), rdflib.term.URIRef(u'http://viaf.org/viaf/77109411'), rdflib.term.URIRef(u'http://www.wikidata.org/wiki/Special:EntityData/Q190368')]\n",
      "[rdflib.term.URIRef(u'http://cwkb.org/author/id/752/turtle'), rdflib.term.URIRef(u'http://viaf.org/viaf/77109411'), rdflib.term.URIRef(u'http://www.wikidata.org/wiki/Special:EntityData/Q190368'), rdflib.term.URIRef(u'http://data.perseus.org/catalog/urn:cts:greekLit:tlg0551')]\n",
      "[rdflib.term.URIRef(u'http://cwkb.org/author/id/1008/turtle'), rdflib.term.URIRef(u'http://viaf.org/viaf/285771738')]\n",
      "[rdflib.term.URIRef(u'http://cwkb.org/author/id/1008/turtle'), rdflib.term.URIRef(u'http://viaf.org/viaf/285771738'), rdflib.term.URIRef(u'http://www.wikidata.org/wiki/Special:EntityData/Q373042')]\n",
      "[rdflib.term.URIRef(u'http://cwkb.org/author/id/1008/turtle'), rdflib.term.URIRef(u'http://viaf.org/viaf/285771738'), rdflib.term.URIRef(u'http://www.wikidata.org/wiki/Special:EntityData/Q373042'), rdflib.term.URIRef(u'http://data.perseus.org/catalog/urn:cts:greekLit:tlg0648')]\n",
      "[rdflib.term.URIRef(u'http://cwkb.org/author/id/850/turtle'), rdflib.term.URIRef(u'http://viaf.org/viaf/100218891')]"
     ]
    },
    {
     "name": "stderr",
     "output_type": "stream",
     "text": [
      "\r",
      " 58%|█████▊    | 68/118 [00:01<00:01, 38.05it/s]"
     ]
    },
    {
     "name": "stdout",
     "output_type": "stream",
     "text": [
      "\n",
      "[rdflib.term.URIRef(u'http://cwkb.org/author/id/850/turtle'), rdflib.term.URIRef(u'http://viaf.org/viaf/100218891'), rdflib.term.URIRef(u'http://www.wikidata.org/wiki/Special:EntityData/Q183144')]\n",
      "[rdflib.term.URIRef(u'http://cwkb.org/author/id/850/turtle'), rdflib.term.URIRef(u'http://viaf.org/viaf/100218891'), rdflib.term.URIRef(u'http://www.wikidata.org/wiki/Special:EntityData/Q183144'), rdflib.term.URIRef(u'http://data.perseus.org/catalog/urn:cts:greekLit:tlg0557')]\n",
      "[rdflib.term.URIRef(u'http://cwkb.org/author/id/1113/turtle'), rdflib.term.URIRef(u'http://viaf.org/viaf/265397758')]\n",
      "[rdflib.term.URIRef(u'http://cwkb.org/author/id/1113/turtle'), rdflib.term.URIRef(u'http://viaf.org/viaf/265397758'), rdflib.term.URIRef(u'http://www.wikidata.org/wiki/Special:EntityData/Q160362')]\n",
      "[rdflib.term.URIRef(u'http://cwkb.org/author/id/1113/turtle'), rdflib.term.URIRef(u'http://viaf.org/viaf/265397758'), rdflib.term.URIRef(u'http://www.wikidata.org/wiki/Special:EntityData/Q160362'), rdflib.term.URIRef(u'http://data.perseus.org/catalog/urn:cts:greekLit:tlg0093')]\n",
      "[rdflib.term.URIRef(u'http://cwkb.org/author/id/806/turtle'), rdflib.term.URIRef(u'http://viaf.org/viaf/100185827')]\n",
      "[rdflib.term.URIRef(u'http://cwkb.org/author/id/806/turtle'), rdflib.term.URIRef(u'http://viaf.org/viaf/100185827'), rdflib.term.URIRef(u'http://www.wikidata.org/wiki/Special:EntityData/Q188883')]\n",
      "[rdflib.term.URIRef(u'http://cwkb.org/author/id/806/turtle'), rdflib.term.URIRef(u'http://viaf.org/viaf/100185827'), rdflib.term.URIRef(u'http://www.wikidata.org/wiki/Special:EntityData/Q188883'), rdflib.term.URIRef(u'http://data.perseus.org/catalog/urn:cts:greekLit:tlg0555')]\n",
      "urn:cts:greekLit:tlg0554 not in the KB\n",
      "urn:cts:latinLit:phi0926 not in the KB\n",
      "[rdflib.term.URIRef(u'http://cwkb.org/author/id/784/turtle'), rdflib.term.URIRef(u'http://viaf.org/viaf/88967224')]\n",
      "[rdflib.term.URIRef(u'http://cwkb.org/author/id/784/turtle'), rdflib.term.URIRef(u'http://viaf.org/viaf/88967224'), rdflib.term.URIRef(u'http://www.wikidata.org/wiki/Special:EntityData/Q44258')]\n",
      "[rdflib.term.URIRef(u'http://cwkb.org/author/id/784/turtle'), rdflib.term.URIRef(u'http://viaf.org/viaf/88967224'), rdflib.term.URIRef(u'http://www.wikidata.org/wiki/Special:EntityData/Q44258'), rdflib.term.URIRef(u'http://data.perseus.org/catalog/urn:cts:greekLit:tlg2040')]\n",
      "[rdflib.term.URIRef(u'http://cwkb.org/author/id/2639/turtle'), rdflib.term.URIRef(u'http://viaf.org/viaf/87464456')]"
     ]
    },
    {
     "name": "stderr",
     "output_type": "stream",
     "text": [
      "\r",
      " 63%|██████▎   | 74/118 [00:01<00:01, 39.02it/s]"
     ]
    },
    {
     "name": "stdout",
     "output_type": "stream",
     "text": [
      "\n",
      "[rdflib.term.URIRef(u'http://cwkb.org/author/id/2639/turtle'), rdflib.term.URIRef(u'http://viaf.org/viaf/87464456'), rdflib.term.URIRef(u'http://www.wikidata.org/wiki/Special:EntityData/Q1371938')]\n",
      "[rdflib.term.URIRef(u'http://cwkb.org/author/id/2639/turtle'), rdflib.term.URIRef(u'http://viaf.org/viaf/87464456'), rdflib.term.URIRef(u'http://www.wikidata.org/wiki/Special:EntityData/Q1371938'), rdflib.term.URIRef(u'http://data.perseus.org/catalog/urn:cts:greekLit:tlg0647')]\n",
      "[rdflib.term.URIRef(u'http://cwkb.org/author/id/1093/turtle'), rdflib.term.URIRef(u'http://viaf.org/viaf/100219883')]\n",
      "[rdflib.term.URIRef(u'http://cwkb.org/author/id/1093/turtle'), rdflib.term.URIRef(u'http://viaf.org/viaf/100219883'), rdflib.term.URIRef(u'http://www.wikidata.org/wiki/Special:EntityData/Q45936')]\n",
      "[rdflib.term.URIRef(u'http://cwkb.org/author/id/1093/turtle'), rdflib.term.URIRef(u'http://viaf.org/viaf/100219883'), rdflib.term.URIRef(u'http://www.wikidata.org/wiki/Special:EntityData/Q45936'), rdflib.term.URIRef(u'http://data.perseus.org/catalog/urn:cts:greekLit:tlg0099')]\n",
      "urn:cts:latinLit:phi0470 not in the KB\n",
      "[rdflib.term.URIRef(u'http://cwkb.org/author/id/427/turtle'), rdflib.term.URIRef(u'http://viaf.org/viaf/54145536')]\n",
      "urn:cts:latinLit:phi0472 not in the KB\n",
      "urn:cts:latinLit:phi0474 not in the KB\n",
      "[rdflib.term.URIRef(u'http://cwkb.org/author/id/885/turtle'), rdflib.term.URIRef(u'http://viaf.org/viaf/100192636')]\n",
      "[rdflib.term.URIRef(u'http://cwkb.org/author/id/885/turtle'), rdflib.term.URIRef(u'http://viaf.org/viaf/100192636'), rdflib.term.URIRef(u'http://www.wikidata.org/wiki/Special:EntityData/Q31845')]\n",
      "[rdflib.term.URIRef(u'http://cwkb.org/author/id/885/turtle'), rdflib.term.URIRef(u'http://viaf.org/viaf/100192636'), rdflib.term.URIRef(u'http://www.wikidata.org/wiki/Special:EntityData/Q31845'), rdflib.term.URIRef(u'http://data.perseus.org/catalog/urn:cts:greekLit:tlg0074')]\n",
      "[rdflib.term.URIRef(u'http://cwkb.org/author/id/813/turtle'), rdflib.term.URIRef(u'http://viaf.org/viaf/62351876')]\n",
      "[rdflib.term.URIRef(u'http://cwkb.org/author/id/813/turtle'), rdflib.term.URIRef(u'http://viaf.org/viaf/62351876'), rdflib.term.URIRef(u'http://www.wikidata.org/wiki/Special:EntityData/Q1779484')]\n",
      "[rdflib.term.URIRef(u'http://cwkb.org/author/id/813/turtle'), rdflib.term.URIRef(u'http://viaf.org/viaf/62351876'), rdflib.term.URIRef(u'http://www.wikidata.org/wiki/Special:EntityData/Q1779484'), rdflib.term.URIRef(u'http://data.perseus.org/catalog/urn:cts:greekLit:tlg4081')]\n",
      "[rdflib.term.URIRef(u'http://cwkb.org/author/id/861/turtle'), rdflib.term.URIRef(u'http://viaf.org/viaf/176184097')]"
     ]
    },
    {
     "name": "stderr",
     "output_type": "stream",
     "text": [
      "\r",
      " 68%|██████▊   | 80/118 [00:03<00:01, 20.44it/s]"
     ]
    },
    {
     "name": "stdout",
     "output_type": "stream",
     "text": [
      "\n",
      "[rdflib.term.URIRef(u'http://cwkb.org/author/id/861/turtle'), rdflib.term.URIRef(u'http://viaf.org/viaf/176184097'), rdflib.term.URIRef(u'http://www.wikidata.org/wiki/Special:EntityData/Q8747')]\n",
      "[rdflib.term.URIRef(u'http://cwkb.org/author/id/861/turtle'), rdflib.term.URIRef(u'http://viaf.org/viaf/176184097'), rdflib.term.URIRef(u'http://www.wikidata.org/wiki/Special:EntityData/Q8747'), rdflib.term.URIRef(u'http://data.perseus.org/catalog/urn:cts:greekLit:tlg1799')]\n",
      "[rdflib.term.URIRef(u'http://cwkb.org/author/id/1068/turtle'), rdflib.term.URIRef(u'http://viaf.org/viaf/76294608')]\n",
      "[rdflib.term.URIRef(u'http://cwkb.org/author/id/1068/turtle'), rdflib.term.URIRef(u'http://viaf.org/viaf/76294608'), rdflib.term.URIRef(u'http://www.wikidata.org/wiki/Special:EntityData/Q352702')]\n",
      "[rdflib.term.URIRef(u'http://cwkb.org/author/id/1068/turtle'), rdflib.term.URIRef(u'http://viaf.org/viaf/76294608'), rdflib.term.URIRef(u'http://www.wikidata.org/wiki/Special:EntityData/Q352702'), rdflib.term.URIRef(u'http://data.perseus.org/catalog/urn:cts:greekLit:tlg2046')]\n",
      "urn:cts:greekLit:tlg2045 not in the KB\n",
      "[rdflib.term.URIRef(u'http://cwkb.org/author/id/2913/turtle'), rdflib.term.URIRef(u'http://viaf.org/viaf/102895066')]\n",
      "[rdflib.term.URIRef(u'http://cwkb.org/author/id/2913/turtle'), rdflib.term.URIRef(u'http://viaf.org/viaf/102895066'), rdflib.term.URIRef(u'http://www.wikidata.org/wiki/Special:EntityData/Q1430')]\n",
      "[rdflib.term.URIRef(u'http://cwkb.org/author/id/2913/turtle'), rdflib.term.URIRef(u'http://viaf.org/viaf/102895066'), rdflib.term.URIRef(u'http://www.wikidata.org/wiki/Special:EntityData/Q1430'), rdflib.term.URIRef(u'http://data.perseus.org/catalog/urn:cts:greekLit:tlg0562')]\n",
      "[rdflib.term.URIRef(u'http://cwkb.org/author/id/2912/turtle'), rdflib.term.URIRef(u'http://viaf.org/viaf/281851250')]\n",
      "urn:cts:greekLit:tlg0560 not in the KB\n",
      "[rdflib.term.URIRef(u'http://cwkb.org/author/id/954/turtle'), rdflib.term.URIRef(u'http://viaf.org/viaf/163408645')]\n",
      "[rdflib.term.URIRef(u'http://cwkb.org/author/id/954/turtle'), rdflib.term.URIRef(u'http://viaf.org/viaf/163408645'), rdflib.term.URIRef(u'http://www.wikidata.org/wiki/Special:EntityData/Q314949')]\n",
      "[rdflib.term.URIRef(u'http://cwkb.org/author/id/954/turtle'), rdflib.term.URIRef(u'http://viaf.org/viaf/163408645'), rdflib.term.URIRef(u'http://www.wikidata.org/wiki/Special:EntityData/Q314949'), rdflib.term.URIRef(u'http://data.perseus.org/catalog/urn:cts:greekLit:tlg0561')]"
     ]
    },
    {
     "name": "stderr",
     "output_type": "stream",
     "text": [
      "\r",
      " 74%|███████▎  | 87/118 [00:04<00:01, 21.54it/s]"
     ]
    },
    {
     "name": "stdout",
     "output_type": "stream",
     "text": [
      "\n",
      "urn:cts:latinLit:phi0830 not in the KB\n",
      "[rdflib.term.URIRef(u'http://cwkb.org/author/id/838/turtle'), rdflib.term.URIRef(u'http://viaf.org/viaf/100218889')]\n",
      "[rdflib.term.URIRef(u'http://cwkb.org/author/id/838/turtle'), rdflib.term.URIRef(u'http://viaf.org/viaf/100218889'), rdflib.term.URIRef(u'http://www.wikidata.org/wiki/Special:EntityData/Q26204')]\n",
      "[rdflib.term.URIRef(u'http://cwkb.org/author/id/838/turtle'), rdflib.term.URIRef(u'http://viaf.org/viaf/100218889'), rdflib.term.URIRef(u'http://www.wikidata.org/wiki/Special:EntityData/Q26204'), rdflib.term.URIRef(u'http://data.perseus.org/catalog/urn:cts:greekLit:tlg0081')]\n",
      "[rdflib.term.URIRef(u'http://cwkb.org/author/id/719/turtle'), rdflib.term.URIRef(u'http://viaf.org/viaf/268526195')]\n",
      "[rdflib.term.URIRef(u'http://cwkb.org/author/id/719/turtle'), rdflib.term.URIRef(u'http://viaf.org/viaf/268526195'), rdflib.term.URIRef(u'http://www.wikidata.org/wiki/Special:EntityData/Q40939')]\n",
      "[rdflib.term.URIRef(u'http://cwkb.org/author/id/719/turtle'), rdflib.term.URIRef(u'http://viaf.org/viaf/268526195'), rdflib.term.URIRef(u'http://www.wikidata.org/wiki/Special:EntityData/Q40939'), rdflib.term.URIRef(u'http://data.perseus.org/catalog/urn:cts:greekLit:tlg0085')]\n",
      "[rdflib.term.URIRef(u'http://cwkb.org/author/id/766/turtle'), rdflib.term.URIRef(u'http://viaf.org/viaf/7524651')]\n",
      "[rdflib.term.URIRef(u'http://cwkb.org/author/id/766/turtle'), rdflib.term.URIRef(u'http://viaf.org/viaf/7524651'), rdflib.term.URIRef(u'http://www.wikidata.org/wiki/Special:EntityData/Q868')]\n",
      "[rdflib.term.URIRef(u'http://cwkb.org/author/id/766/turtle'), rdflib.term.URIRef(u'http://viaf.org/viaf/7524651'), rdflib.term.URIRef(u'http://www.wikidata.org/wiki/Special:EntityData/Q868'), rdflib.term.URIRef(u'http://data.perseus.org/catalog/urn:cts:greekLit:tlg0086')]\n",
      "urn:cts:latinLit:phi0502 not in the KB\n",
      "urn:cts:latinLit:phi1318 not in the KB\n",
      "urn:cts:greekLit:tlg0094 not in the KB\n",
      "[rdflib.term.URIRef(u'http://cwkb.org/author/id/955/turtle'), rdflib.term.URIRef(u'http://viaf.org/viaf/89327194')]\n",
      "urn:cts:greekLit:tlg0062 not in the KB\n",
      "[rdflib.term.URIRef(u'http://cwkb.org/author/id/2431/turtle'), rdflib.term.URIRef(u'http://viaf.org/viaf/56608763')]"
     ]
    },
    {
     "name": "stderr",
     "output_type": "stream",
     "text": [
      "\r",
      " 80%|███████▉  | 94/118 [00:04<00:01, 22.70it/s]"
     ]
    },
    {
     "name": "stdout",
     "output_type": "stream",
     "text": [
      "\n",
      "[rdflib.term.URIRef(u'http://cwkb.org/author/id/2431/turtle'), rdflib.term.URIRef(u'http://viaf.org/viaf/56608763'), rdflib.term.URIRef(u'http://www.wikidata.org/wiki/Special:EntityData/Q171241')]\n",
      "[rdflib.term.URIRef(u'http://cwkb.org/author/id/2431/turtle'), rdflib.term.URIRef(u'http://viaf.org/viaf/56608763'), rdflib.term.URIRef(u'http://www.wikidata.org/wiki/Special:EntityData/Q171241'), rdflib.term.URIRef(u'http://data.perseus.org/catalog/urn:cts:greekLit:tlg0060')]\n",
      "[rdflib.term.URIRef(u'http://cwkb.org/author/id/957/turtle'), rdflib.term.URIRef(u'http://viaf.org/viaf/68976194')]\n",
      "[rdflib.term.URIRef(u'http://cwkb.org/author/id/957/turtle'), rdflib.term.URIRef(u'http://viaf.org/viaf/68976194'), rdflib.term.URIRef(u'http://www.wikidata.org/wiki/Special:EntityData/Q432737')]\n",
      "[rdflib.term.URIRef(u'http://cwkb.org/author/id/957/turtle'), rdflib.term.URIRef(u'http://viaf.org/viaf/68976194'), rdflib.term.URIRef(u'http://www.wikidata.org/wiki/Special:EntityData/Q432737'), rdflib.term.URIRef(u'http://data.perseus.org/catalog/urn:cts:greekLit:tlg0341')]\n",
      "[rdflib.term.URIRef(u'http://cwkb.org/author/id/484/turtle'), rdflib.term.URIRef(u'http://viaf.org/viaf/100198334')]\n",
      "[rdflib.term.URIRef(u'http://cwkb.org/author/id/484/turtle'), rdflib.term.URIRef(u'http://viaf.org/viaf/100198334'), rdflib.term.URIRef(u'http://www.wikidata.org/wiki/Special:EntityData/Q294800')]\n",
      "[rdflib.term.URIRef(u'http://cwkb.org/author/id/484/turtle'), rdflib.term.URIRef(u'http://viaf.org/viaf/100198334'), rdflib.term.URIRef(u'http://www.wikidata.org/wiki/Special:EntityData/Q294800'), rdflib.term.URIRef(u'http://data.perseus.org/catalog/urn:cts:latinLit:phi1254')]\n",
      "[rdflib.term.URIRef(u'http://cwkb.org/author/id/771/turtle'), rdflib.term.URIRef(u'http://viaf.org/viaf/262924258')]\n",
      "[rdflib.term.URIRef(u'http://cwkb.org/author/id/771/turtle'), rdflib.term.URIRef(u'http://viaf.org/viaf/262924258'), rdflib.term.URIRef(u'http://www.wikidata.org/wiki/Special:EntityData/Q261224')]\n",
      "[rdflib.term.URIRef(u'http://cwkb.org/author/id/771/turtle'), rdflib.term.URIRef(u'http://viaf.org/viaf/262924258'), rdflib.term.URIRef(u'http://www.wikidata.org/wiki/Special:EntityData/Q261224'), rdflib.term.URIRef(u'http://data.perseus.org/catalog/urn:cts:greekLit:tlg0556')]\n",
      "[rdflib.term.URIRef(u'http://cwkb.org/author/id/678/turtle'), rdflib.term.URIRef(u'http://viaf.org/viaf/8194433')]"
     ]
    },
    {
     "name": "stderr",
     "output_type": "stream",
     "text": [
      "\r",
      " 84%|████████▍ | 99/118 [00:04<00:00, 23.19it/s]"
     ]
    },
    {
     "name": "stdout",
     "output_type": "stream",
     "text": [
      "\n",
      "[rdflib.term.URIRef(u'http://cwkb.org/author/id/678/turtle'), rdflib.term.URIRef(u'http://viaf.org/viaf/8194433'), rdflib.term.URIRef(u'http://www.wikidata.org/wiki/Special:EntityData/Q1398')]\n",
      "[rdflib.term.URIRef(u'http://cwkb.org/author/id/678/turtle'), rdflib.term.URIRef(u'http://viaf.org/viaf/8194433'), rdflib.term.URIRef(u'http://www.wikidata.org/wiki/Special:EntityData/Q1398'), rdflib.term.URIRef(u'http://data.perseus.org/catalog/urn:cts:latinLit:phi0690')]\n",
      "[rdflib.term.URIRef(u'http://cwkb.org/author/id/682/turtle'), rdflib.term.URIRef(u'http://viaf.org/viaf/46768430')]\n",
      "[rdflib.term.URIRef(u'http://cwkb.org/author/id/682/turtle'), rdflib.term.URIRef(u'http://viaf.org/viaf/46768430'), rdflib.term.URIRef(u'http://www.wikidata.org/wiki/Special:EntityData/Q47163')]\n",
      "[rdflib.term.URIRef(u'http://cwkb.org/author/id/682/turtle'), rdflib.term.URIRef(u'http://viaf.org/viaf/46768430'), rdflib.term.URIRef(u'http://www.wikidata.org/wiki/Special:EntityData/Q47163'), rdflib.term.URIRef(u'http://data.perseus.org/catalog/urn:cts:latinLit:phi1056')]\n",
      "urn:cts:latinLit:phi0588 not in the KB\n",
      "[rdflib.term.URIRef(u'http://cwkb.org/author/id/834/turtle'), rdflib.term.URIRef(u'http://viaf.org/viaf/317287881')]\n",
      "urn:cts:greekLit:tlg0612 not in the KB\n",
      "[rdflib.term.URIRef(u'http://cwkb.org/author/id/1394/turtle'), rdflib.term.URIRef(u'http://viaf.org/viaf/312800491')]\n",
      "urn:cts:greekLit:tlg0613 not in the KB\n",
      "urn:cts:latinLit:phi0959 not in the KB\n",
      "[rdflib.term.URIRef(u'http://cwkb.org/author/id/499/turtle'), rdflib.term.URIRef(u'http://viaf.org/viaf/100227522')]\n",
      "[rdflib.term.URIRef(u'http://cwkb.org/author/id/499/turtle'), rdflib.term.URIRef(u'http://viaf.org/viaf/100227522'), rdflib.term.URIRef(u'http://www.wikidata.org/wiki/Special:EntityData/Q6197')]\n",
      "[rdflib.term.URIRef(u'http://cwkb.org/author/id/499/turtle'), rdflib.term.URIRef(u'http://viaf.org/viaf/100227522'), rdflib.term.URIRef(u'http://www.wikidata.org/wiki/Special:EntityData/Q6197'), rdflib.term.URIRef(u'http://data.perseus.org/catalog/urn:cts:latinLit:phi0893')]\n",
      "urn:cts:latinLit:phi0684 not in the KB\n",
      "urn:cts:latinLit:phi0448 not in the KB\n",
      "[rdflib.term.URIRef(u'http://cwkb.org/author/id/583/turtle'), rdflib.term.URIRef(u'http://viaf.org/viaf/66462281')]"
     ]
    },
    {
     "name": "stderr",
     "output_type": "stream",
     "text": [
      "\r",
      " 92%|█████████▏| 109/118 [00:04<00:00, 24.92it/s]"
     ]
    },
    {
     "name": "stdout",
     "output_type": "stream",
     "text": [
      "\n",
      "[rdflib.term.URIRef(u'http://cwkb.org/author/id/583/turtle'), rdflib.term.URIRef(u'http://viaf.org/viaf/66462281'), rdflib.term.URIRef(u'http://www.wikidata.org/wiki/Special:EntityData/Q47160')]\n",
      "[rdflib.term.URIRef(u'http://cwkb.org/author/id/583/turtle'), rdflib.term.URIRef(u'http://viaf.org/viaf/66462281'), rdflib.term.URIRef(u'http://www.wikidata.org/wiki/Special:EntityData/Q47160'), rdflib.term.URIRef(u'http://data.perseus.org/catalog/urn:cts:latinLit:phi0119')]\n",
      "urn:cts:latinLit:phi1276 not in the KB\n",
      "[rdflib.term.URIRef(u'http://cwkb.org/author/id/1445/turtle'), rdflib.term.URIRef(u'http://viaf.org/viaf/269609305')]\n",
      "urn:cts:greekLit:tlg0284 not in the KB\n",
      "[rdflib.term.URIRef(u'http://cwkb.org/author/id/871/turtle'), rdflib.term.URIRef(u'http://viaf.org/viaf/4929593')]\n",
      "[rdflib.term.URIRef(u'http://cwkb.org/author/id/871/turtle'), rdflib.term.URIRef(u'http://viaf.org/viaf/4929593'), rdflib.term.URIRef(u'http://www.wikidata.org/wiki/Special:EntityData/Q142999')]\n",
      "[rdflib.term.URIRef(u'http://cwkb.org/author/id/871/turtle'), rdflib.term.URIRef(u'http://viaf.org/viaf/4929593'), rdflib.term.URIRef(u'http://www.wikidata.org/wiki/Special:EntityData/Q142999'), rdflib.term.URIRef(u'http://data.perseus.org/catalog/urn:cts:greekLit:tlg2018')]\n",
      "[rdflib.term.URIRef(u'http://cwkb.org/author/id/716/turtle'), rdflib.term.URIRef(u'http://viaf.org/viaf/184019027')]\n",
      "[rdflib.term.URIRef(u'http://cwkb.org/author/id/716/turtle'), rdflib.term.URIRef(u'http://viaf.org/viaf/184019027'), rdflib.term.URIRef(u'http://www.wikidata.org/wiki/Special:EntityData/Q405969')]\n",
      "[rdflib.term.URIRef(u'http://cwkb.org/author/id/716/turtle'), rdflib.term.URIRef(u'http://viaf.org/viaf/184019027'), rdflib.term.URIRef(u'http://www.wikidata.org/wiki/Special:EntityData/Q405969'), rdflib.term.URIRef(u'http://data.perseus.org/catalog/urn:cts:greekLit:tlg0058')]\n",
      "[rdflib.term.URIRef(u'http://cwkb.org/author/id/1050/turtle'), rdflib.term.URIRef(u'http://viaf.org/viaf/108159964')]\n",
      "[rdflib.term.URIRef(u'http://cwkb.org/author/id/1050/turtle'), rdflib.term.URIRef(u'http://viaf.org/viaf/108159964'), rdflib.term.URIRef(u'http://www.wikidata.org/wiki/Special:EntityData/Q859')]\n",
      "[rdflib.term.URIRef(u'http://cwkb.org/author/id/1050/turtle'), rdflib.term.URIRef(u'http://viaf.org/viaf/108159964'), rdflib.term.URIRef(u'http://www.wikidata.org/wiki/Special:EntityData/Q859'), rdflib.term.URIRef(u'http://data.perseus.org/catalog/urn:cts:greekLit:tlg0059')]\n",
      "[rdflib.term.URIRef(u'http://cwkb.org/author/id/781/turtle'), rdflib.term.URIRef(u'http://viaf.org/viaf/100169207')]\n",
      "[rdflib.term.URIRef(u'http://cwkb.org/author/id/781/turtle'), rdflib.term.URIRef(u'http://viaf.org/viaf/100169207'), rdflib.term.URIRef(u'http://www.wikidata.org/wiki/Special:EntityData/Q310681')]\n",
      "[rdflib.term.URIRef(u'http://cwkb.org/author/id/781/turtle'), rdflib.term.URIRef(u'http://viaf.org/viaf/100169207'), rdflib.term.URIRef(u'http://www.wikidata.org/wiki/Special:EntityData/Q310681'), rdflib.term.URIRef(u'http://data.perseus.org/catalog/urn:cts:greekLit:tlg0199')]\n",
      "[rdflib.term.URIRef(u'http://cwkb.org/author/id/890/turtle'), rdflib.term.URIRef(u'http://viaf.org/viaf/44299175')]\n",
      "urn:cts:greekLit:tlg0057 not in the KB\n",
      "[rdflib.term.URIRef(u'http://cwkb.org/author/id/759/turtle'), rdflib.term.URIRef(u'http://viaf.org/viaf/60528301')]\n",
      "[rdflib.term.URIRef(u'http://cwkb.org/author/id/759/turtle'), rdflib.term.URIRef(u'http://viaf.org/viaf/60528301'), rdflib.term.URIRef(u'http://www.wikidata.org/wiki/Special:EntityData/Q505931')]"
     ]
    },
    {
     "name": "stderr",
     "output_type": "stream",
     "text": [
      "100%|██████████| 118/118 [00:04<00:00, 26.07it/s]"
     ]
    },
    {
     "name": "stdout",
     "output_type": "stream",
     "text": [
      "\n",
      "[rdflib.term.URIRef(u'http://cwkb.org/author/id/759/turtle'), rdflib.term.URIRef(u'http://viaf.org/viaf/60528301'), rdflib.term.URIRef(u'http://www.wikidata.org/wiki/Special:EntityData/Q505931'), rdflib.term.URIRef(u'http://data.perseus.org/catalog/urn:cts:greekLit:tlg0719')]\n",
      "urn:cts:latinLit:phi1100 not in the KB\n",
      "urn:cts:latinLit:phi1020 not in the KB\n",
      "urn:cts:greekLit:tlg7000 not in the KB\n"
     ]
    },
    {
     "name": "stderr",
     "output_type": "stream",
     "text": [
      "\n"
     ]
    }
   ],
   "source": [
    "for urn in tqdm(sameas_links.keys()):\n",
    "    try:\n",
    "        author = kb.get_resource_by_urn(urn)\n",
    "        for link_source in sameas_links[urn]:\n",
    "            if link_source is not None:\n",
    "                uri = URIRef(sameas_links[urn][link_source])\n",
    "                if not uri in author.owl_sameAs: \n",
    "                    author.owl_sameAs.append(uri)\n",
    "                    author.update()\n",
    "                print author.owl_sameAs\n",
    "    except Exception as e:\n",
    "        print \"%s not in the KB\" % urn"
   ]
  },
  {
   "cell_type": "code",
   "execution_count": 21,
   "metadata": {},
   "outputs": [
    {
     "data": {
      "text/plain": [
       "rdflib.term.URIRef(u'http://purl.org/hucit/kb/authors/939')"
      ]
     },
     "execution_count": 21,
     "metadata": {},
     "output_type": "execute_result"
    }
   ],
   "source": [
    "kb.get_resource_by_urn(\"urn:cts:greekLit:tlg0010\").subject"
   ]
  },
  {
   "cell_type": "markdown",
   "metadata": {
    "collapsed": true
   },
   "source": [
    "## Gather LOD stats"
   ]
  },
  {
   "cell_type": "code",
   "execution_count": 51,
   "metadata": {},
   "outputs": [],
   "source": [
    "author_lod_info = []\n",
    "\n",
    "for author in kb.get_authors():\n",
    "    author_info = {}\n",
    "    has_cwkb_link = True if len([link for link in author.owl_sameAs if \"cwkb\" in str(link)])>0 else False\n",
    "    has_viaf_link = True if len([link for link in author.owl_sameAs if \"viaf\" in str(link)])>0 else False\n",
    "    has_catalog_link = True if len([link for link in author.owl_sameAs if \"perseus.org/catalog/\" in str(link)])>0 else False\n",
    "    has_wikidata_link = True if len([link for link in author.owl_sameAs if \"wikidata\" in str(link)])>0 else False\n",
    "    urn = author.get_urn()\n",
    "    author_info = {\n",
    "        'has_cwkb_link':has_cwkb_link,\n",
    "        'has_viaf_link':has_viaf_link,\n",
    "        'has_catalog_link':has_catalog_link,\n",
    "        'has_wikidata_link':has_wikidata_link,\n",
    "        'urn':urn,\n",
    "        'type':str(type(author)),\n",
    "        'label':kb.get_author_label(urn) if urn is not None else \"\"\n",
    "    }\n",
    "    author_lod_info.append(author_info)"
   ]
  },
  {
   "cell_type": "code",
   "execution_count": 52,
   "metadata": {},
   "outputs": [],
   "source": [
    "work_lod_info = []\n",
    "\n",
    "for work in kb.get_works():\n",
    "    work_info = {}\n",
    "    has_cwkb_link = True if len([link for link in work.owl_sameAs if \"cwkb\" in str(link)])>0 else False\n",
    "    has_viaf_link = True if len([link for link in work.owl_sameAs if \"viaf\" in str(link)])>0 else False\n",
    "    has_catalog_link = True if len([link for link in work.owl_sameAs if \"perseus.org/catalog/\" in str(link)])>0 else False\n",
    "    has_wikidata_link = True if len([link for link in work.owl_sameAs if \"wikidata\" in str(link)])>0 else False\n",
    "    urn = work.get_urn()\n",
    "    work_info = {\n",
    "        'has_cwkb_link':has_cwkb_link,\n",
    "        'has_viaf_link':has_viaf_link,\n",
    "        'has_catalog_link':has_catalog_link,\n",
    "        'has_wikidata_link':has_wikidata_link,\n",
    "        'urn':urn,\n",
    "        'type':str(type(work)),\n",
    "        'label':kb.get_work_label(urn) if urn is not None else \"\"\n",
    "    }\n",
    "    work_lod_info.append(work_info)"
   ]
  },
  {
   "cell_type": "code",
   "execution_count": 53,
   "metadata": {},
   "outputs": [],
   "source": [
    "df_authors = pd.DataFrame.from_dict(author_lod_info).set_index('urn', drop=True)"
   ]
  },
  {
   "cell_type": "code",
   "execution_count": 54,
   "metadata": {
    "collapsed": true
   },
   "outputs": [],
   "source": [
    "df_works = pd.DataFrame.from_dict(work_lod_info).set_index('urn', drop=True)"
   ]
  },
  {
   "cell_type": "code",
   "execution_count": 55,
   "metadata": {},
   "outputs": [],
   "source": [
    "df = pd.concat([df_authors, df_works])"
   ]
  },
  {
   "cell_type": "code",
   "execution_count": 3,
   "metadata": {
    "collapsed": true
   },
   "outputs": [],
   "source": [
    "df = pd.read_csv(\"./kb_lod_stats.csv\", encoding=\"utf-8\")"
   ]
  },
  {
   "cell_type": "code",
   "execution_count": 56,
   "metadata": {},
   "outputs": [
    {
     "name": "stdout",
     "output_type": "stream",
     "text": [
      "<class 'pandas.core.frame.DataFrame'>\n",
      "Index: 6747 entries, urn:cts:cwkb:1000 to urn:cts:cwkb:474.999\n",
      "Data columns (total 6 columns):\n",
      "has_catalog_link     6747 non-null bool\n",
      "has_cwkb_link        6747 non-null bool\n",
      "has_viaf_link        6747 non-null bool\n",
      "has_wikidata_link    6747 non-null bool\n",
      "label                6747 non-null object\n",
      "type                 6747 non-null object\n",
      "dtypes: bool(4), object(2)\n",
      "memory usage: 184.5+ KB\n"
     ]
    }
   ],
   "source": [
    "df.info()"
   ]
  },
  {
   "cell_type": "code",
   "execution_count": 57,
   "metadata": {},
   "outputs": [
    {
     "data": {
      "text/plain": [
       "urn\n",
       "urn:cts:cwkb:1000           <class 'surf.resource.EfrbrooF10_Person'>\n",
       "urn:cts:cwkb:1001           <class 'surf.resource.EfrbrooF10_Person'>\n",
       "urn:cts:greekLit:tlg2045    <class 'surf.resource.EfrbrooF10_Person'>\n",
       "urn:cts:cwkb:1003           <class 'surf.resource.EfrbrooF10_Person'>\n",
       "urn:cts:cwkb:1004           <class 'surf.resource.EfrbrooF10_Person'>\n",
       "urn:cts:cwkb:1005           <class 'surf.resource.EfrbrooF10_Person'>\n",
       "urn:cts:cwkb:1006           <class 'surf.resource.EfrbrooF10_Person'>\n",
       "NaN                         <class 'surf.resource.EfrbrooF10_Person'>\n",
       "urn:cts:greekLit:tlg0648    <class 'surf.resource.EfrbrooF10_Person'>\n",
       "urn:cts:greekLit:tlg0024    <class 'surf.resource.EfrbrooF10_Person'>\n",
       "urn:cts:cwkb:1010           <class 'surf.resource.EfrbrooF10_Person'>\n",
       "urn:cts:cwkb:1011           <class 'surf.resource.EfrbrooF10_Person'>\n",
       "urn:cts:cwkb:1012           <class 'surf.resource.EfrbrooF10_Person'>\n",
       "urn:cts:cwkb:1013           <class 'surf.resource.EfrbrooF10_Person'>\n",
       "urn:cts:cwkb:1014           <class 'surf.resource.EfrbrooF10_Person'>\n",
       "urn:cts:cwkb:1015           <class 'surf.resource.EfrbrooF10_Person'>\n",
       "urn:cts:cwkb:1016           <class 'surf.resource.EfrbrooF10_Person'>\n",
       "urn:cts:cwkb:1017           <class 'surf.resource.EfrbrooF10_Person'>\n",
       "urn:cts:cwkb:1018           <class 'surf.resource.EfrbrooF10_Person'>\n",
       "urn:cts:cwkb:1019           <class 'surf.resource.EfrbrooF10_Person'>\n",
       "urn:cts:cwkb:1020           <class 'surf.resource.EfrbrooF10_Person'>\n",
       "urn:cts:cwkb:1021           <class 'surf.resource.EfrbrooF10_Person'>\n",
       "urn:cts:cwkb:1022           <class 'surf.resource.EfrbrooF10_Person'>\n",
       "urn:cts:cwkb:1023           <class 'surf.resource.EfrbrooF10_Person'>\n",
       "urn:cts:cwkb:1024           <class 'surf.resource.EfrbrooF10_Person'>\n",
       "urn:cts:cwkb:1025           <class 'surf.resource.EfrbrooF10_Person'>\n",
       "urn:cts:cwkb:1026           <class 'surf.resource.EfrbrooF10_Person'>\n",
       "urn:cts:cwkb:1027           <class 'surf.resource.EfrbrooF10_Person'>\n",
       "urn:cts:greekLit:tlg0655    <class 'surf.resource.EfrbrooF10_Person'>\n",
       "urn:cts:cwkb:1029           <class 'surf.resource.EfrbrooF10_Person'>\n",
       "                                              ...                    \n",
       "urn:cts:cwkb:457.969           <class 'surf.resource.EfrbrooF1_Work'>\n",
       "urn:cts:cwkb:458.970           <class 'surf.resource.EfrbrooF1_Work'>\n",
       "urn:cts:cwkb:459.971           <class 'surf.resource.EfrbrooF1_Work'>\n",
       "urn:cts:cwkb:460.972           <class 'surf.resource.EfrbrooF1_Work'>\n",
       "urn:cts:cwkb:461.973           <class 'surf.resource.EfrbrooF1_Work'>\n",
       "urn:cts:cwkb:462.974           <class 'surf.resource.EfrbrooF1_Work'>\n",
       "urn:cts:cwkb:462.975           <class 'surf.resource.EfrbrooF1_Work'>\n",
       "urn:cts:cwkb:462.976           <class 'surf.resource.EfrbrooF1_Work'>\n",
       "urn:cts:cwkb:462.977           <class 'surf.resource.EfrbrooF1_Work'>\n",
       "urn:cts:cwkb:462.978           <class 'surf.resource.EfrbrooF1_Work'>\n",
       "urn:cts:cwkb:462.979           <class 'surf.resource.EfrbrooF1_Work'>\n",
       "urn:cts:cwkb:462.980           <class 'surf.resource.EfrbrooF1_Work'>\n",
       "urn:cts:cwkb:463.981           <class 'surf.resource.EfrbrooF1_Work'>\n",
       "urn:cts:cwkb:464.982           <class 'surf.resource.EfrbrooF1_Work'>\n",
       "urn:cts:cwkb:465.983           <class 'surf.resource.EfrbrooF1_Work'>\n",
       "urn:cts:cwkb:466.984           <class 'surf.resource.EfrbrooF1_Work'>\n",
       "urn:cts:cwkb:467.985           <class 'surf.resource.EfrbrooF1_Work'>\n",
       "urn:cts:cwkb:467.986           <class 'surf.resource.EfrbrooF1_Work'>\n",
       "urn:cts:cwkb:468.987           <class 'surf.resource.EfrbrooF1_Work'>\n",
       "urn:cts:cwkb:468.988           <class 'surf.resource.EfrbrooF1_Work'>\n",
       "urn:cts:cwkb:469.989           <class 'surf.resource.EfrbrooF1_Work'>\n",
       "urn:cts:cwkb:470.990           <class 'surf.resource.EfrbrooF1_Work'>\n",
       "urn:cts:cwkb:472.992           <class 'surf.resource.EfrbrooF1_Work'>\n",
       "urn:cts:cwkb:472.993           <class 'surf.resource.EfrbrooF1_Work'>\n",
       "urn:cts:cwkb:472.994           <class 'surf.resource.EfrbrooF1_Work'>\n",
       "urn:cts:cwkb:472.995           <class 'surf.resource.EfrbrooF1_Work'>\n",
       "urn:cts:cwkb:472.996           <class 'surf.resource.EfrbrooF1_Work'>\n",
       "urn:cts:cwkb:473.997           <class 'surf.resource.EfrbrooF1_Work'>\n",
       "urn:cts:cwkb:474.998           <class 'surf.resource.EfrbrooF1_Work'>\n",
       "urn:cts:cwkb:474.999           <class 'surf.resource.EfrbrooF1_Work'>\n",
       "Name: type, Length: 6747, dtype: object"
      ]
     },
     "execution_count": 57,
     "metadata": {},
     "output_type": "execute_result"
    }
   ],
   "source": [
    "df[\"type\"]"
   ]
  },
  {
   "cell_type": "code",
   "execution_count": 74,
   "metadata": {
    "collapsed": true
   },
   "outputs": [],
   "source": [
    "lod_stats = []"
   ]
  },
  {
   "cell_type": "code",
   "execution_count": 75,
   "metadata": {},
   "outputs": [],
   "source": [
    "df_authors = df[df[\"type\"]==\"<class 'surf.resource.EfrbrooF10_Person'>\"]\n",
    "columns = [column for column in df_authors.columns if 'has' in column]\n",
    "tmp = {\"label\":\"Authors\"}\n",
    "for column in columns:\n",
    "    stats = dict(df_authors[column].value_counts(normalize=True))\n",
    "    tmp[column] = stats[True]*100\n",
    "lod_stats.append(tmp)"
   ]
  },
  {
   "cell_type": "code",
   "execution_count": 76,
   "metadata": {},
   "outputs": [
    {
     "data": {
      "text/plain": [
       "[{'has_catalog_link': 4.909560723514212,\n",
       "  'has_cwkb_link': 100.0,\n",
       "  'has_viaf_link': 5.8785529715762275,\n",
       "  'has_wikidata_link': 4.909560723514212,\n",
       "  'label': 'Authors'}]"
      ]
     },
     "execution_count": 76,
     "metadata": {},
     "output_type": "execute_result"
    }
   ],
   "source": [
    "lod_stats"
   ]
  },
  {
   "cell_type": "code",
   "execution_count": 78,
   "metadata": {},
   "outputs": [],
   "source": [
    "df_lod_stats = pd.DataFrame(lod_stats, index=[stat[\"label\"] for stat in lod_stats])"
   ]
  },
  {
   "cell_type": "code",
   "execution_count": 86,
   "metadata": {},
   "outputs": [
    {
     "data": {
      "text/html": [
       "<div>\n",
       "<style>\n",
       "    .dataframe thead tr:only-child th {\n",
       "        text-align: right;\n",
       "    }\n",
       "\n",
       "    .dataframe thead th {\n",
       "        text-align: left;\n",
       "    }\n",
       "\n",
       "    .dataframe tbody tr th {\n",
       "        vertical-align: top;\n",
       "    }\n",
       "</style>\n",
       "<table border=\"1\" class=\"dataframe\">\n",
       "  <thead>\n",
       "    <tr style=\"text-align: right;\">\n",
       "      <th></th>\n",
       "      <th>has_catalog_link</th>\n",
       "      <th>has_cwkb_link</th>\n",
       "      <th>has_viaf_link</th>\n",
       "      <th>has_wikidata_link</th>\n",
       "      <th>label</th>\n",
       "    </tr>\n",
       "  </thead>\n",
       "  <tbody>\n",
       "    <tr>\n",
       "      <th>Authors</th>\n",
       "      <td>4.909561</td>\n",
       "      <td>100.0</td>\n",
       "      <td>5.878553</td>\n",
       "      <td>4.909561</td>\n",
       "      <td>Authors</td>\n",
       "    </tr>\n",
       "  </tbody>\n",
       "</table>\n",
       "</div>"
      ],
      "text/plain": [
       "         has_catalog_link  has_cwkb_link  has_viaf_link  has_wikidata_link  \\\n",
       "Authors          4.909561          100.0       5.878553           4.909561   \n",
       "\n",
       "           label  \n",
       "Authors  Authors  "
      ]
     },
     "execution_count": 86,
     "metadata": {},
     "output_type": "execute_result"
    }
   ],
   "source": [
    "df_lod_stats"
   ]
  },
  {
   "cell_type": "code",
   "execution_count": 87,
   "metadata": {},
   "outputs": [
    {
     "name": "stdout",
     "output_type": "stream",
     "text": [
      "|         |   link to Perseus Catalog (\\%) |   link to CWKB (\\%) |   link to VIAF (\\%) |   link to Wikidata (\\%) |\n",
      "|:--------|-------------------------------:|--------------------:|--------------------:|------------------------:|\n",
      "| Authors |                           4.91 |              100.00 |                5.88 |                    4.91 |\n"
     ]
    }
   ],
   "source": [
    "print tabulate(df_lod_stats[[\"has_catalog_link\", \"has_cwkb_link\", \"has_viaf_link\", \"has_wikidata_link\"]]\n",
    "               , [\"link to Perseus Catalog (\\%)\", \"link to CWKB (\\%)\", \"link to VIAF (\\%)\", \"link to Wikidata (\\%)\"]\n",
    "               , tablefmt=\"pipe\", floatfmt=\".2f\")"
   ]
  },
  {
   "cell_type": "code",
   "execution_count": 71,
   "metadata": {},
   "outputs": [
    {
     "name": "stdout",
     "output_type": "stream",
     "text": [
      "('has_catalog_link', 0)\n",
      "('has_cwkb_link', 100.0)\n",
      "('has_viaf_link', 0)\n",
      "('has_wikidata_link', 0)\n"
     ]
    }
   ],
   "source": [
    "df_works = df[df[\"type\"]==\"<class 'surf.resource.EfrbrooF1_Work'>\"]\n",
    "columns = [column for column in df_works.columns if 'has' in column]\n",
    "for column in columns:\n",
    "    stats = dict(df_works[column].value_counts(normalize=True))\n",
    "    if True in stats:\n",
    "        print(column,stats[True]*100)\n",
    "    else:\n",
    "        print(column, 0)"
   ]
  },
  {
   "cell_type": "code",
   "execution_count": 68,
   "metadata": {
    "collapsed": true
   },
   "outputs": [
    {
     "data": {
      "text/html": [
       "<div>\n",
       "<style>\n",
       "    .dataframe thead tr:only-child th {\n",
       "        text-align: right;\n",
       "    }\n",
       "\n",
       "    .dataframe thead th {\n",
       "        text-align: left;\n",
       "    }\n",
       "\n",
       "    .dataframe tbody tr th {\n",
       "        vertical-align: top;\n",
       "    }\n",
       "</style>\n",
       "<table border=\"1\" class=\"dataframe\">\n",
       "  <thead>\n",
       "    <tr style=\"text-align: right;\">\n",
       "      <th></th>\n",
       "      <th>has_catalog_link</th>\n",
       "      <th>has_cwkb_link</th>\n",
       "      <th>has_viaf_link</th>\n",
       "      <th>has_wikidata_link</th>\n",
       "      <th>label</th>\n",
       "      <th>type</th>\n",
       "    </tr>\n",
       "    <tr>\n",
       "      <th>urn</th>\n",
       "      <th></th>\n",
       "      <th></th>\n",
       "      <th></th>\n",
       "      <th></th>\n",
       "      <th></th>\n",
       "      <th></th>\n",
       "    </tr>\n",
       "  </thead>\n",
       "  <tbody>\n",
       "    <tr>\n",
       "      <th>urn:cts:cwkb:474.1000</th>\n",
       "      <td>False</td>\n",
       "      <td>True</td>\n",
       "      <td>False</td>\n",
       "      <td>False</td>\n",
       "      <td>On the quality of fields</td>\n",
       "      <td>&lt;class 'surf.resource.EfrbrooF1_Work'&gt;</td>\n",
       "    </tr>\n",
       "    <tr>\n",
       "      <th>urn:cts:cwkb:474.1001</th>\n",
       "      <td>False</td>\n",
       "      <td>True</td>\n",
       "      <td>False</td>\n",
       "      <td>False</td>\n",
       "      <td>De Controversiis</td>\n",
       "      <td>&lt;class 'surf.resource.EfrbrooF1_Work'&gt;</td>\n",
       "    </tr>\n",
       "    <tr>\n",
       "      <th>urn:cts:cwkb:474.1002</th>\n",
       "      <td>False</td>\n",
       "      <td>True</td>\n",
       "      <td>False</td>\n",
       "      <td>False</td>\n",
       "      <td>De Limitibus</td>\n",
       "      <td>&lt;class 'surf.resource.EfrbrooF1_Work'&gt;</td>\n",
       "    </tr>\n",
       "    <tr>\n",
       "      <th>urn:cts:cwkb:474.1003</th>\n",
       "      <td>False</td>\n",
       "      <td>True</td>\n",
       "      <td>False</td>\n",
       "      <td>False</td>\n",
       "      <td>Art of Surveying</td>\n",
       "      <td>&lt;class 'surf.resource.EfrbrooF1_Work'&gt;</td>\n",
       "    </tr>\n",
       "    <tr>\n",
       "      <th>urn:cts:cwkb:475.1004</th>\n",
       "      <td>False</td>\n",
       "      <td>True</td>\n",
       "      <td>False</td>\n",
       "      <td>False</td>\n",
       "      <td>Ad M. Caesarem Epistulae</td>\n",
       "      <td>&lt;class 'surf.resource.EfrbrooF1_Work'&gt;</td>\n",
       "    </tr>\n",
       "    <tr>\n",
       "      <th>urn:cts:cwkb:475.1005</th>\n",
       "      <td>False</td>\n",
       "      <td>True</td>\n",
       "      <td>False</td>\n",
       "      <td>False</td>\n",
       "      <td>Ad M. Antoninum Imperatorem Epistulae</td>\n",
       "      <td>&lt;class 'surf.resource.EfrbrooF1_Work'&gt;</td>\n",
       "    </tr>\n",
       "    <tr>\n",
       "      <th>urn:cts:cwkb:475.1006</th>\n",
       "      <td>False</td>\n",
       "      <td>True</td>\n",
       "      <td>False</td>\n",
       "      <td>False</td>\n",
       "      <td>Ad Verum Imperatorem Epistulae</td>\n",
       "      <td>&lt;class 'surf.resource.EfrbrooF1_Work'&gt;</td>\n",
       "    </tr>\n",
       "    <tr>\n",
       "      <th>urn:cts:cwkb:475.1007</th>\n",
       "      <td>False</td>\n",
       "      <td>True</td>\n",
       "      <td>False</td>\n",
       "      <td>False</td>\n",
       "      <td>De Eloquentia</td>\n",
       "      <td>&lt;class 'surf.resource.EfrbrooF1_Work'&gt;</td>\n",
       "    </tr>\n",
       "    <tr>\n",
       "      <th>urn:cts:cwkb:475.1008</th>\n",
       "      <td>False</td>\n",
       "      <td>True</td>\n",
       "      <td>False</td>\n",
       "      <td>False</td>\n",
       "      <td>De Orationibus</td>\n",
       "      <td>&lt;class 'surf.resource.EfrbrooF1_Work'&gt;</td>\n",
       "    </tr>\n",
       "    <tr>\n",
       "      <th>urn:cts:cwkb:475.1009</th>\n",
       "      <td>False</td>\n",
       "      <td>True</td>\n",
       "      <td>False</td>\n",
       "      <td>False</td>\n",
       "      <td>Ad Antoninum Pium Epistulae</td>\n",
       "      <td>&lt;class 'surf.resource.EfrbrooF1_Work'&gt;</td>\n",
       "    </tr>\n",
       "    <tr>\n",
       "      <th>urn:cts:cwkb:475.1010</th>\n",
       "      <td>False</td>\n",
       "      <td>True</td>\n",
       "      <td>False</td>\n",
       "      <td>False</td>\n",
       "      <td>Ad Amicos Epistulae</td>\n",
       "      <td>&lt;class 'surf.resource.EfrbrooF1_Work'&gt;</td>\n",
       "    </tr>\n",
       "    <tr>\n",
       "      <th>urn:cts:cwkb:475.1011</th>\n",
       "      <td>False</td>\n",
       "      <td>True</td>\n",
       "      <td>False</td>\n",
       "      <td>False</td>\n",
       "      <td>Principia Historiae</td>\n",
       "      <td>&lt;class 'surf.resource.EfrbrooF1_Work'&gt;</td>\n",
       "    </tr>\n",
       "    <tr>\n",
       "      <th>urn:cts:cwkb:475.1012</th>\n",
       "      <td>False</td>\n",
       "      <td>True</td>\n",
       "      <td>False</td>\n",
       "      <td>False</td>\n",
       "      <td>Laudes Fumi et Pulveris</td>\n",
       "      <td>&lt;class 'surf.resource.EfrbrooF1_Work'&gt;</td>\n",
       "    </tr>\n",
       "    <tr>\n",
       "      <th>urn:cts:cwkb:475.1013</th>\n",
       "      <td>False</td>\n",
       "      <td>True</td>\n",
       "      <td>False</td>\n",
       "      <td>False</td>\n",
       "      <td>Laudes Neglegentiae</td>\n",
       "      <td>&lt;class 'surf.resource.EfrbrooF1_Work'&gt;</td>\n",
       "    </tr>\n",
       "    <tr>\n",
       "      <th>urn:cts:cwkb:475.1014</th>\n",
       "      <td>False</td>\n",
       "      <td>True</td>\n",
       "      <td>False</td>\n",
       "      <td>False</td>\n",
       "      <td>De Bello Parthico</td>\n",
       "      <td>&lt;class 'surf.resource.EfrbrooF1_Work'&gt;</td>\n",
       "    </tr>\n",
       "    <tr>\n",
       "      <th>urn:cts:cwkb:475.1015</th>\n",
       "      <td>False</td>\n",
       "      <td>True</td>\n",
       "      <td>False</td>\n",
       "      <td>False</td>\n",
       "      <td>De Feriis Alsiensibus</td>\n",
       "      <td>&lt;class 'surf.resource.EfrbrooF1_Work'&gt;</td>\n",
       "    </tr>\n",
       "    <tr>\n",
       "      <th>urn:cts:cwkb:475.1016</th>\n",
       "      <td>False</td>\n",
       "      <td>True</td>\n",
       "      <td>False</td>\n",
       "      <td>False</td>\n",
       "      <td>De Nepote Amisso</td>\n",
       "      <td>&lt;class 'surf.resource.EfrbrooF1_Work'&gt;</td>\n",
       "    </tr>\n",
       "    <tr>\n",
       "      <th>urn:cts:cwkb:475.1017</th>\n",
       "      <td>False</td>\n",
       "      <td>True</td>\n",
       "      <td>False</td>\n",
       "      <td>False</td>\n",
       "      <td>Arion</td>\n",
       "      <td>&lt;class 'surf.resource.EfrbrooF1_Work'&gt;</td>\n",
       "    </tr>\n",
       "    <tr>\n",
       "      <th>urn:cts:cwkb:475.1018</th>\n",
       "      <td>False</td>\n",
       "      <td>True</td>\n",
       "      <td>False</td>\n",
       "      <td>False</td>\n",
       "      <td>Additamentum Epistularum Acephalum</td>\n",
       "      <td>&lt;class 'surf.resource.EfrbrooF1_Work'&gt;</td>\n",
       "    </tr>\n",
       "    <tr>\n",
       "      <th>urn:cts:cwkb:475.1019</th>\n",
       "      <td>False</td>\n",
       "      <td>True</td>\n",
       "      <td>False</td>\n",
       "      <td>False</td>\n",
       "      <td>Fragmenta</td>\n",
       "      <td>&lt;class 'surf.resource.EfrbrooF1_Work'&gt;</td>\n",
       "    </tr>\n",
       "    <tr>\n",
       "      <th>urn:cts:cwkb:475.1020</th>\n",
       "      <td>False</td>\n",
       "      <td>True</td>\n",
       "      <td>False</td>\n",
       "      <td>False</td>\n",
       "      <td>Carmina</td>\n",
       "      <td>&lt;class 'surf.resource.EfrbrooF1_Work'&gt;</td>\n",
       "    </tr>\n",
       "    <tr>\n",
       "      <th>urn:cts:cwkb:476.1021</th>\n",
       "      <td>False</td>\n",
       "      <td>True</td>\n",
       "      <td>False</td>\n",
       "      <td>False</td>\n",
       "      <td>carmina</td>\n",
       "      <td>&lt;class 'surf.resource.EfrbrooF1_Work'&gt;</td>\n",
       "    </tr>\n",
       "    <tr>\n",
       "      <th>urn:cts:cwkb:477.1022</th>\n",
       "      <td>False</td>\n",
       "      <td>True</td>\n",
       "      <td>False</td>\n",
       "      <td>False</td>\n",
       "      <td>carmen</td>\n",
       "      <td>&lt;class 'surf.resource.EfrbrooF1_Work'&gt;</td>\n",
       "    </tr>\n",
       "    <tr>\n",
       "      <th>urn:cts:cwkb:478.1023</th>\n",
       "      <td>False</td>\n",
       "      <td>True</td>\n",
       "      <td>False</td>\n",
       "      <td>False</td>\n",
       "      <td>Institutes</td>\n",
       "      <td>&lt;class 'surf.resource.EfrbrooF1_Work'&gt;</td>\n",
       "    </tr>\n",
       "    <tr>\n",
       "      <th>urn:cts:cwkb:478.1024</th>\n",
       "      <td>False</td>\n",
       "      <td>True</td>\n",
       "      <td>False</td>\n",
       "      <td>False</td>\n",
       "      <td>Gai Institutionum epitome</td>\n",
       "      <td>&lt;class 'surf.resource.EfrbrooF1_Work'&gt;</td>\n",
       "    </tr>\n",
       "    <tr>\n",
       "      <th>urn:cts:cwkb:479.1025</th>\n",
       "      <td>False</td>\n",
       "      <td>True</td>\n",
       "      <td>False</td>\n",
       "      <td>False</td>\n",
       "      <td>De Verbis ad Ius Civile</td>\n",
       "      <td>&lt;class 'surf.resource.EfrbrooF1_Work'&gt;</td>\n",
       "    </tr>\n",
       "    <tr>\n",
       "      <th>urn:cts:cwkb:479.1026</th>\n",
       "      <td>False</td>\n",
       "      <td>True</td>\n",
       "      <td>False</td>\n",
       "      <td>False</td>\n",
       "      <td>iurisprudentia, fragmenta</td>\n",
       "      <td>&lt;class 'surf.resource.EfrbrooF1_Work'&gt;</td>\n",
       "    </tr>\n",
       "    <tr>\n",
       "      <th>urn:cts:cwkb:480.1027</th>\n",
       "      <td>False</td>\n",
       "      <td>True</td>\n",
       "      <td>False</td>\n",
       "      <td>False</td>\n",
       "      <td>carmen</td>\n",
       "      <td>&lt;class 'surf.resource.EfrbrooF1_Work'&gt;</td>\n",
       "    </tr>\n",
       "    <tr>\n",
       "      <th>urn:cts:cwkb:480.1028</th>\n",
       "      <td>False</td>\n",
       "      <td>True</td>\n",
       "      <td>False</td>\n",
       "      <td>False</td>\n",
       "      <td>grammatica</td>\n",
       "      <td>&lt;class 'surf.resource.EfrbrooF1_Work'&gt;</td>\n",
       "    </tr>\n",
       "    <tr>\n",
       "      <th>urn:cts:cwkb:482.1030</th>\n",
       "      <td>False</td>\n",
       "      <td>True</td>\n",
       "      <td>False</td>\n",
       "      <td>False</td>\n",
       "      <td>sine nomine</td>\n",
       "      <td>&lt;class 'surf.resource.EfrbrooF1_Work'&gt;</td>\n",
       "    </tr>\n",
       "    <tr>\n",
       "      <th>...</th>\n",
       "      <td>...</td>\n",
       "      <td>...</td>\n",
       "      <td>...</td>\n",
       "      <td>...</td>\n",
       "      <td>...</td>\n",
       "      <td>...</td>\n",
       "    </tr>\n",
       "    <tr>\n",
       "      <th>urn:cts:cwkb:457.969</th>\n",
       "      <td>False</td>\n",
       "      <td>True</td>\n",
       "      <td>False</td>\n",
       "      <td>False</td>\n",
       "      <td>epigrammata ex Bobiensibus</td>\n",
       "      <td>&lt;class 'surf.resource.EfrbrooF1_Work'&gt;</td>\n",
       "    </tr>\n",
       "    <tr>\n",
       "      <th>urn:cts:cwkb:458.970</th>\n",
       "      <td>False</td>\n",
       "      <td>True</td>\n",
       "      <td>False</td>\n",
       "      <td>False</td>\n",
       "      <td>carmen</td>\n",
       "      <td>&lt;class 'surf.resource.EfrbrooF1_Work'&gt;</td>\n",
       "    </tr>\n",
       "    <tr>\n",
       "      <th>urn:cts:cwkb:459.971</th>\n",
       "      <td>False</td>\n",
       "      <td>True</td>\n",
       "      <td>False</td>\n",
       "      <td>False</td>\n",
       "      <td>carmina, fragmentum</td>\n",
       "      <td>&lt;class 'surf.resource.EfrbrooF1_Work'&gt;</td>\n",
       "    </tr>\n",
       "    <tr>\n",
       "      <th>urn:cts:cwkb:460.972</th>\n",
       "      <td>False</td>\n",
       "      <td>True</td>\n",
       "      <td>False</td>\n",
       "      <td>False</td>\n",
       "      <td>oratio</td>\n",
       "      <td>&lt;class 'surf.resource.EfrbrooF1_Work'&gt;</td>\n",
       "    </tr>\n",
       "    <tr>\n",
       "      <th>urn:cts:cwkb:461.973</th>\n",
       "      <td>False</td>\n",
       "      <td>True</td>\n",
       "      <td>False</td>\n",
       "      <td>False</td>\n",
       "      <td>De Rerum Natura</td>\n",
       "      <td>&lt;class 'surf.resource.EfrbrooF1_Work'&gt;</td>\n",
       "    </tr>\n",
       "    <tr>\n",
       "      <th>urn:cts:cwkb:462.974</th>\n",
       "      <td>False</td>\n",
       "      <td>True</td>\n",
       "      <td>False</td>\n",
       "      <td>False</td>\n",
       "      <td>Annals</td>\n",
       "      <td>&lt;class 'surf.resource.EfrbrooF1_Work'&gt;</td>\n",
       "    </tr>\n",
       "    <tr>\n",
       "      <th>urn:cts:cwkb:462.975</th>\n",
       "      <td>False</td>\n",
       "      <td>True</td>\n",
       "      <td>False</td>\n",
       "      <td>False</td>\n",
       "      <td>palliatae</td>\n",
       "      <td>&lt;class 'surf.resource.EfrbrooF1_Work'&gt;</td>\n",
       "    </tr>\n",
       "    <tr>\n",
       "      <th>urn:cts:cwkb:462.976</th>\n",
       "      <td>False</td>\n",
       "      <td>True</td>\n",
       "      <td>False</td>\n",
       "      <td>False</td>\n",
       "      <td>praetextae</td>\n",
       "      <td>&lt;class 'surf.resource.EfrbrooF1_Work'&gt;</td>\n",
       "    </tr>\n",
       "    <tr>\n",
       "      <th>urn:cts:cwkb:462.977</th>\n",
       "      <td>False</td>\n",
       "      <td>True</td>\n",
       "      <td>False</td>\n",
       "      <td>False</td>\n",
       "      <td>Satires</td>\n",
       "      <td>&lt;class 'surf.resource.EfrbrooF1_Work'&gt;</td>\n",
       "    </tr>\n",
       "    <tr>\n",
       "      <th>urn:cts:cwkb:462.978</th>\n",
       "      <td>False</td>\n",
       "      <td>True</td>\n",
       "      <td>False</td>\n",
       "      <td>False</td>\n",
       "      <td>trag.</td>\n",
       "      <td>&lt;class 'surf.resource.EfrbrooF1_Work'&gt;</td>\n",
       "    </tr>\n",
       "    <tr>\n",
       "      <th>urn:cts:cwkb:462.979</th>\n",
       "      <td>False</td>\n",
       "      <td>True</td>\n",
       "      <td>False</td>\n",
       "      <td>False</td>\n",
       "      <td>varia</td>\n",
       "      <td>&lt;class 'surf.resource.EfrbrooF1_Work'&gt;</td>\n",
       "    </tr>\n",
       "    <tr>\n",
       "      <th>urn:cts:cwkb:462.980</th>\n",
       "      <td>False</td>\n",
       "      <td>True</td>\n",
       "      <td>False</td>\n",
       "      <td>False</td>\n",
       "      <td>incerta</td>\n",
       "      <td>&lt;class 'surf.resource.EfrbrooF1_Work'&gt;</td>\n",
       "    </tr>\n",
       "    <tr>\n",
       "      <th>urn:cts:cwkb:463.981</th>\n",
       "      <td>False</td>\n",
       "      <td>True</td>\n",
       "      <td>False</td>\n",
       "      <td>False</td>\n",
       "      <td>grammatica</td>\n",
       "      <td>&lt;class 'surf.resource.EfrbrooF1_Work'&gt;</td>\n",
       "    </tr>\n",
       "    <tr>\n",
       "      <th>urn:cts:cwkb:464.982</th>\n",
       "      <td>False</td>\n",
       "      <td>True</td>\n",
       "      <td>False</td>\n",
       "      <td>False</td>\n",
       "      <td>grammatica</td>\n",
       "      <td>&lt;class 'surf.resource.EfrbrooF1_Work'&gt;</td>\n",
       "    </tr>\n",
       "    <tr>\n",
       "      <th>urn:cts:cwkb:465.983</th>\n",
       "      <td>False</td>\n",
       "      <td>True</td>\n",
       "      <td>False</td>\n",
       "      <td>False</td>\n",
       "      <td>oratio</td>\n",
       "      <td>&lt;class 'surf.resource.EfrbrooF1_Work'&gt;</td>\n",
       "    </tr>\n",
       "    <tr>\n",
       "      <th>urn:cts:cwkb:466.984</th>\n",
       "      <td>False</td>\n",
       "      <td>True</td>\n",
       "      <td>False</td>\n",
       "      <td>False</td>\n",
       "      <td>Annales</td>\n",
       "      <td>&lt;class 'surf.resource.EfrbrooF1_Work'&gt;</td>\n",
       "    </tr>\n",
       "    <tr>\n",
       "      <th>urn:cts:cwkb:467.985</th>\n",
       "      <td>False</td>\n",
       "      <td>True</td>\n",
       "      <td>False</td>\n",
       "      <td>False</td>\n",
       "      <td>Annals</td>\n",
       "      <td>&lt;class 'surf.resource.EfrbrooF1_Work'&gt;</td>\n",
       "    </tr>\n",
       "    <tr>\n",
       "      <th>urn:cts:cwkb:467.986</th>\n",
       "      <td>False</td>\n",
       "      <td>True</td>\n",
       "      <td>False</td>\n",
       "      <td>False</td>\n",
       "      <td>Iuris Pontificis Libri</td>\n",
       "      <td>&lt;class 'surf.resource.EfrbrooF1_Work'&gt;</td>\n",
       "    </tr>\n",
       "    <tr>\n",
       "      <th>urn:cts:cwkb:468.987</th>\n",
       "      <td>False</td>\n",
       "      <td>True</td>\n",
       "      <td>False</td>\n",
       "      <td>False</td>\n",
       "      <td>historiae</td>\n",
       "      <td>&lt;class 'surf.resource.EfrbrooF1_Work'&gt;</td>\n",
       "    </tr>\n",
       "    <tr>\n",
       "      <th>urn:cts:cwkb:468.988</th>\n",
       "      <td>False</td>\n",
       "      <td>True</td>\n",
       "      <td>False</td>\n",
       "      <td>False</td>\n",
       "      <td>orationes</td>\n",
       "      <td>&lt;class 'surf.resource.EfrbrooF1_Work'&gt;</td>\n",
       "    </tr>\n",
       "    <tr>\n",
       "      <th>urn:cts:cwkb:469.989</th>\n",
       "      <td>False</td>\n",
       "      <td>True</td>\n",
       "      <td>False</td>\n",
       "      <td>False</td>\n",
       "      <td>oratio</td>\n",
       "      <td>&lt;class 'surf.resource.EfrbrooF1_Work'&gt;</td>\n",
       "    </tr>\n",
       "    <tr>\n",
       "      <th>urn:cts:cwkb:470.990</th>\n",
       "      <td>False</td>\n",
       "      <td>True</td>\n",
       "      <td>False</td>\n",
       "      <td>False</td>\n",
       "      <td>Annales</td>\n",
       "      <td>&lt;class 'surf.resource.EfrbrooF1_Work'&gt;</td>\n",
       "    </tr>\n",
       "    <tr>\n",
       "      <th>urn:cts:cwkb:472.992</th>\n",
       "      <td>False</td>\n",
       "      <td>True</td>\n",
       "      <td>False</td>\n",
       "      <td>False</td>\n",
       "      <td>Epitome of Roman history</td>\n",
       "      <td>&lt;class 'surf.resource.EfrbrooF1_Work'&gt;</td>\n",
       "    </tr>\n",
       "    <tr>\n",
       "      <th>urn:cts:cwkb:472.993</th>\n",
       "      <td>False</td>\n",
       "      <td>True</td>\n",
       "      <td>False</td>\n",
       "      <td>False</td>\n",
       "      <td>Virgil: Orator or Poet</td>\n",
       "      <td>&lt;class 'surf.resource.EfrbrooF1_Work'&gt;</td>\n",
       "    </tr>\n",
       "    <tr>\n",
       "      <th>urn:cts:cwkb:472.994</th>\n",
       "      <td>False</td>\n",
       "      <td>True</td>\n",
       "      <td>False</td>\n",
       "      <td>False</td>\n",
       "      <td>carmina in Anthologia Latina</td>\n",
       "      <td>&lt;class 'surf.resource.EfrbrooF1_Work'&gt;</td>\n",
       "    </tr>\n",
       "    <tr>\n",
       "      <th>urn:cts:cwkb:472.995</th>\n",
       "      <td>False</td>\n",
       "      <td>True</td>\n",
       "      <td>False</td>\n",
       "      <td>False</td>\n",
       "      <td>carmina</td>\n",
       "      <td>&lt;class 'surf.resource.EfrbrooF1_Work'&gt;</td>\n",
       "    </tr>\n",
       "    <tr>\n",
       "      <th>urn:cts:cwkb:472.996</th>\n",
       "      <td>False</td>\n",
       "      <td>True</td>\n",
       "      <td>False</td>\n",
       "      <td>False</td>\n",
       "      <td>epist. ad imperat. Hadrianum</td>\n",
       "      <td>&lt;class 'surf.resource.EfrbrooF1_Work'&gt;</td>\n",
       "    </tr>\n",
       "    <tr>\n",
       "      <th>urn:cts:cwkb:473.997</th>\n",
       "      <td>False</td>\n",
       "      <td>True</td>\n",
       "      <td>False</td>\n",
       "      <td>False</td>\n",
       "      <td>De iure fisci</td>\n",
       "      <td>&lt;class 'surf.resource.EfrbrooF1_Work'&gt;</td>\n",
       "    </tr>\n",
       "    <tr>\n",
       "      <th>urn:cts:cwkb:474.998</th>\n",
       "      <td>False</td>\n",
       "      <td>True</td>\n",
       "      <td>False</td>\n",
       "      <td>False</td>\n",
       "      <td>Stratagems</td>\n",
       "      <td>&lt;class 'surf.resource.EfrbrooF1_Work'&gt;</td>\n",
       "    </tr>\n",
       "    <tr>\n",
       "      <th>urn:cts:cwkb:474.999</th>\n",
       "      <td>False</td>\n",
       "      <td>True</td>\n",
       "      <td>False</td>\n",
       "      <td>False</td>\n",
       "      <td>The aqueducts of Rome</td>\n",
       "      <td>&lt;class 'surf.resource.EfrbrooF1_Work'&gt;</td>\n",
       "    </tr>\n",
       "  </tbody>\n",
       "</table>\n",
       "<p>5199 rows × 6 columns</p>\n",
       "</div>"
      ],
      "text/plain": [
       "                       has_catalog_link  has_cwkb_link  has_viaf_link  \\\n",
       "urn                                                                     \n",
       "urn:cts:cwkb:474.1000             False           True          False   \n",
       "urn:cts:cwkb:474.1001             False           True          False   \n",
       "urn:cts:cwkb:474.1002             False           True          False   \n",
       "urn:cts:cwkb:474.1003             False           True          False   \n",
       "urn:cts:cwkb:475.1004             False           True          False   \n",
       "urn:cts:cwkb:475.1005             False           True          False   \n",
       "urn:cts:cwkb:475.1006             False           True          False   \n",
       "urn:cts:cwkb:475.1007             False           True          False   \n",
       "urn:cts:cwkb:475.1008             False           True          False   \n",
       "urn:cts:cwkb:475.1009             False           True          False   \n",
       "urn:cts:cwkb:475.1010             False           True          False   \n",
       "urn:cts:cwkb:475.1011             False           True          False   \n",
       "urn:cts:cwkb:475.1012             False           True          False   \n",
       "urn:cts:cwkb:475.1013             False           True          False   \n",
       "urn:cts:cwkb:475.1014             False           True          False   \n",
       "urn:cts:cwkb:475.1015             False           True          False   \n",
       "urn:cts:cwkb:475.1016             False           True          False   \n",
       "urn:cts:cwkb:475.1017             False           True          False   \n",
       "urn:cts:cwkb:475.1018             False           True          False   \n",
       "urn:cts:cwkb:475.1019             False           True          False   \n",
       "urn:cts:cwkb:475.1020             False           True          False   \n",
       "urn:cts:cwkb:476.1021             False           True          False   \n",
       "urn:cts:cwkb:477.1022             False           True          False   \n",
       "urn:cts:cwkb:478.1023             False           True          False   \n",
       "urn:cts:cwkb:478.1024             False           True          False   \n",
       "urn:cts:cwkb:479.1025             False           True          False   \n",
       "urn:cts:cwkb:479.1026             False           True          False   \n",
       "urn:cts:cwkb:480.1027             False           True          False   \n",
       "urn:cts:cwkb:480.1028             False           True          False   \n",
       "urn:cts:cwkb:482.1030             False           True          False   \n",
       "...                                 ...            ...            ...   \n",
       "urn:cts:cwkb:457.969              False           True          False   \n",
       "urn:cts:cwkb:458.970              False           True          False   \n",
       "urn:cts:cwkb:459.971              False           True          False   \n",
       "urn:cts:cwkb:460.972              False           True          False   \n",
       "urn:cts:cwkb:461.973              False           True          False   \n",
       "urn:cts:cwkb:462.974              False           True          False   \n",
       "urn:cts:cwkb:462.975              False           True          False   \n",
       "urn:cts:cwkb:462.976              False           True          False   \n",
       "urn:cts:cwkb:462.977              False           True          False   \n",
       "urn:cts:cwkb:462.978              False           True          False   \n",
       "urn:cts:cwkb:462.979              False           True          False   \n",
       "urn:cts:cwkb:462.980              False           True          False   \n",
       "urn:cts:cwkb:463.981              False           True          False   \n",
       "urn:cts:cwkb:464.982              False           True          False   \n",
       "urn:cts:cwkb:465.983              False           True          False   \n",
       "urn:cts:cwkb:466.984              False           True          False   \n",
       "urn:cts:cwkb:467.985              False           True          False   \n",
       "urn:cts:cwkb:467.986              False           True          False   \n",
       "urn:cts:cwkb:468.987              False           True          False   \n",
       "urn:cts:cwkb:468.988              False           True          False   \n",
       "urn:cts:cwkb:469.989              False           True          False   \n",
       "urn:cts:cwkb:470.990              False           True          False   \n",
       "urn:cts:cwkb:472.992              False           True          False   \n",
       "urn:cts:cwkb:472.993              False           True          False   \n",
       "urn:cts:cwkb:472.994              False           True          False   \n",
       "urn:cts:cwkb:472.995              False           True          False   \n",
       "urn:cts:cwkb:472.996              False           True          False   \n",
       "urn:cts:cwkb:473.997              False           True          False   \n",
       "urn:cts:cwkb:474.998              False           True          False   \n",
       "urn:cts:cwkb:474.999              False           True          False   \n",
       "\n",
       "                       has_wikidata_link  \\\n",
       "urn                                        \n",
       "urn:cts:cwkb:474.1000              False   \n",
       "urn:cts:cwkb:474.1001              False   \n",
       "urn:cts:cwkb:474.1002              False   \n",
       "urn:cts:cwkb:474.1003              False   \n",
       "urn:cts:cwkb:475.1004              False   \n",
       "urn:cts:cwkb:475.1005              False   \n",
       "urn:cts:cwkb:475.1006              False   \n",
       "urn:cts:cwkb:475.1007              False   \n",
       "urn:cts:cwkb:475.1008              False   \n",
       "urn:cts:cwkb:475.1009              False   \n",
       "urn:cts:cwkb:475.1010              False   \n",
       "urn:cts:cwkb:475.1011              False   \n",
       "urn:cts:cwkb:475.1012              False   \n",
       "urn:cts:cwkb:475.1013              False   \n",
       "urn:cts:cwkb:475.1014              False   \n",
       "urn:cts:cwkb:475.1015              False   \n",
       "urn:cts:cwkb:475.1016              False   \n",
       "urn:cts:cwkb:475.1017              False   \n",
       "urn:cts:cwkb:475.1018              False   \n",
       "urn:cts:cwkb:475.1019              False   \n",
       "urn:cts:cwkb:475.1020              False   \n",
       "urn:cts:cwkb:476.1021              False   \n",
       "urn:cts:cwkb:477.1022              False   \n",
       "urn:cts:cwkb:478.1023              False   \n",
       "urn:cts:cwkb:478.1024              False   \n",
       "urn:cts:cwkb:479.1025              False   \n",
       "urn:cts:cwkb:479.1026              False   \n",
       "urn:cts:cwkb:480.1027              False   \n",
       "urn:cts:cwkb:480.1028              False   \n",
       "urn:cts:cwkb:482.1030              False   \n",
       "...                                  ...   \n",
       "urn:cts:cwkb:457.969               False   \n",
       "urn:cts:cwkb:458.970               False   \n",
       "urn:cts:cwkb:459.971               False   \n",
       "urn:cts:cwkb:460.972               False   \n",
       "urn:cts:cwkb:461.973               False   \n",
       "urn:cts:cwkb:462.974               False   \n",
       "urn:cts:cwkb:462.975               False   \n",
       "urn:cts:cwkb:462.976               False   \n",
       "urn:cts:cwkb:462.977               False   \n",
       "urn:cts:cwkb:462.978               False   \n",
       "urn:cts:cwkb:462.979               False   \n",
       "urn:cts:cwkb:462.980               False   \n",
       "urn:cts:cwkb:463.981               False   \n",
       "urn:cts:cwkb:464.982               False   \n",
       "urn:cts:cwkb:465.983               False   \n",
       "urn:cts:cwkb:466.984               False   \n",
       "urn:cts:cwkb:467.985               False   \n",
       "urn:cts:cwkb:467.986               False   \n",
       "urn:cts:cwkb:468.987               False   \n",
       "urn:cts:cwkb:468.988               False   \n",
       "urn:cts:cwkb:469.989               False   \n",
       "urn:cts:cwkb:470.990               False   \n",
       "urn:cts:cwkb:472.992               False   \n",
       "urn:cts:cwkb:472.993               False   \n",
       "urn:cts:cwkb:472.994               False   \n",
       "urn:cts:cwkb:472.995               False   \n",
       "urn:cts:cwkb:472.996               False   \n",
       "urn:cts:cwkb:473.997               False   \n",
       "urn:cts:cwkb:474.998               False   \n",
       "urn:cts:cwkb:474.999               False   \n",
       "\n",
       "                                                       label  \\\n",
       "urn                                                            \n",
       "urn:cts:cwkb:474.1000               On the quality of fields   \n",
       "urn:cts:cwkb:474.1001                       De Controversiis   \n",
       "urn:cts:cwkb:474.1002                           De Limitibus   \n",
       "urn:cts:cwkb:474.1003                       Art of Surveying   \n",
       "urn:cts:cwkb:475.1004               Ad M. Caesarem Epistulae   \n",
       "urn:cts:cwkb:475.1005  Ad M. Antoninum Imperatorem Epistulae   \n",
       "urn:cts:cwkb:475.1006         Ad Verum Imperatorem Epistulae   \n",
       "urn:cts:cwkb:475.1007                          De Eloquentia   \n",
       "urn:cts:cwkb:475.1008                         De Orationibus   \n",
       "urn:cts:cwkb:475.1009            Ad Antoninum Pium Epistulae   \n",
       "urn:cts:cwkb:475.1010                    Ad Amicos Epistulae   \n",
       "urn:cts:cwkb:475.1011                    Principia Historiae   \n",
       "urn:cts:cwkb:475.1012                Laudes Fumi et Pulveris   \n",
       "urn:cts:cwkb:475.1013                    Laudes Neglegentiae   \n",
       "urn:cts:cwkb:475.1014                      De Bello Parthico   \n",
       "urn:cts:cwkb:475.1015                  De Feriis Alsiensibus   \n",
       "urn:cts:cwkb:475.1016                       De Nepote Amisso   \n",
       "urn:cts:cwkb:475.1017                                  Arion   \n",
       "urn:cts:cwkb:475.1018     Additamentum Epistularum Acephalum   \n",
       "urn:cts:cwkb:475.1019                              Fragmenta   \n",
       "urn:cts:cwkb:475.1020                                Carmina   \n",
       "urn:cts:cwkb:476.1021                                carmina   \n",
       "urn:cts:cwkb:477.1022                                 carmen   \n",
       "urn:cts:cwkb:478.1023                             Institutes   \n",
       "urn:cts:cwkb:478.1024              Gai Institutionum epitome   \n",
       "urn:cts:cwkb:479.1025                De Verbis ad Ius Civile   \n",
       "urn:cts:cwkb:479.1026              iurisprudentia, fragmenta   \n",
       "urn:cts:cwkb:480.1027                                 carmen   \n",
       "urn:cts:cwkb:480.1028                             grammatica   \n",
       "urn:cts:cwkb:482.1030                            sine nomine   \n",
       "...                                                      ...   \n",
       "urn:cts:cwkb:457.969              epigrammata ex Bobiensibus   \n",
       "urn:cts:cwkb:458.970                                  carmen   \n",
       "urn:cts:cwkb:459.971                     carmina, fragmentum   \n",
       "urn:cts:cwkb:460.972                                  oratio   \n",
       "urn:cts:cwkb:461.973                         De Rerum Natura   \n",
       "urn:cts:cwkb:462.974                                  Annals   \n",
       "urn:cts:cwkb:462.975                               palliatae   \n",
       "urn:cts:cwkb:462.976                              praetextae   \n",
       "urn:cts:cwkb:462.977                                 Satires   \n",
       "urn:cts:cwkb:462.978                                   trag.   \n",
       "urn:cts:cwkb:462.979                                   varia   \n",
       "urn:cts:cwkb:462.980                                 incerta   \n",
       "urn:cts:cwkb:463.981                              grammatica   \n",
       "urn:cts:cwkb:464.982                              grammatica   \n",
       "urn:cts:cwkb:465.983                                  oratio   \n",
       "urn:cts:cwkb:466.984                                 Annales   \n",
       "urn:cts:cwkb:467.985                                  Annals   \n",
       "urn:cts:cwkb:467.986                  Iuris Pontificis Libri   \n",
       "urn:cts:cwkb:468.987                               historiae   \n",
       "urn:cts:cwkb:468.988                               orationes   \n",
       "urn:cts:cwkb:469.989                                  oratio   \n",
       "urn:cts:cwkb:470.990                                 Annales   \n",
       "urn:cts:cwkb:472.992                Epitome of Roman history   \n",
       "urn:cts:cwkb:472.993                  Virgil: Orator or Poet   \n",
       "urn:cts:cwkb:472.994            carmina in Anthologia Latina   \n",
       "urn:cts:cwkb:472.995                                 carmina   \n",
       "urn:cts:cwkb:472.996            epist. ad imperat. Hadrianum   \n",
       "urn:cts:cwkb:473.997                           De iure fisci   \n",
       "urn:cts:cwkb:474.998                              Stratagems   \n",
       "urn:cts:cwkb:474.999                   The aqueducts of Rome   \n",
       "\n",
       "                                                         type  \n",
       "urn                                                            \n",
       "urn:cts:cwkb:474.1000  <class 'surf.resource.EfrbrooF1_Work'>  \n",
       "urn:cts:cwkb:474.1001  <class 'surf.resource.EfrbrooF1_Work'>  \n",
       "urn:cts:cwkb:474.1002  <class 'surf.resource.EfrbrooF1_Work'>  \n",
       "urn:cts:cwkb:474.1003  <class 'surf.resource.EfrbrooF1_Work'>  \n",
       "urn:cts:cwkb:475.1004  <class 'surf.resource.EfrbrooF1_Work'>  \n",
       "urn:cts:cwkb:475.1005  <class 'surf.resource.EfrbrooF1_Work'>  \n",
       "urn:cts:cwkb:475.1006  <class 'surf.resource.EfrbrooF1_Work'>  \n",
       "urn:cts:cwkb:475.1007  <class 'surf.resource.EfrbrooF1_Work'>  \n",
       "urn:cts:cwkb:475.1008  <class 'surf.resource.EfrbrooF1_Work'>  \n",
       "urn:cts:cwkb:475.1009  <class 'surf.resource.EfrbrooF1_Work'>  \n",
       "urn:cts:cwkb:475.1010  <class 'surf.resource.EfrbrooF1_Work'>  \n",
       "urn:cts:cwkb:475.1011  <class 'surf.resource.EfrbrooF1_Work'>  \n",
       "urn:cts:cwkb:475.1012  <class 'surf.resource.EfrbrooF1_Work'>  \n",
       "urn:cts:cwkb:475.1013  <class 'surf.resource.EfrbrooF1_Work'>  \n",
       "urn:cts:cwkb:475.1014  <class 'surf.resource.EfrbrooF1_Work'>  \n",
       "urn:cts:cwkb:475.1015  <class 'surf.resource.EfrbrooF1_Work'>  \n",
       "urn:cts:cwkb:475.1016  <class 'surf.resource.EfrbrooF1_Work'>  \n",
       "urn:cts:cwkb:475.1017  <class 'surf.resource.EfrbrooF1_Work'>  \n",
       "urn:cts:cwkb:475.1018  <class 'surf.resource.EfrbrooF1_Work'>  \n",
       "urn:cts:cwkb:475.1019  <class 'surf.resource.EfrbrooF1_Work'>  \n",
       "urn:cts:cwkb:475.1020  <class 'surf.resource.EfrbrooF1_Work'>  \n",
       "urn:cts:cwkb:476.1021  <class 'surf.resource.EfrbrooF1_Work'>  \n",
       "urn:cts:cwkb:477.1022  <class 'surf.resource.EfrbrooF1_Work'>  \n",
       "urn:cts:cwkb:478.1023  <class 'surf.resource.EfrbrooF1_Work'>  \n",
       "urn:cts:cwkb:478.1024  <class 'surf.resource.EfrbrooF1_Work'>  \n",
       "urn:cts:cwkb:479.1025  <class 'surf.resource.EfrbrooF1_Work'>  \n",
       "urn:cts:cwkb:479.1026  <class 'surf.resource.EfrbrooF1_Work'>  \n",
       "urn:cts:cwkb:480.1027  <class 'surf.resource.EfrbrooF1_Work'>  \n",
       "urn:cts:cwkb:480.1028  <class 'surf.resource.EfrbrooF1_Work'>  \n",
       "urn:cts:cwkb:482.1030  <class 'surf.resource.EfrbrooF1_Work'>  \n",
       "...                                                       ...  \n",
       "urn:cts:cwkb:457.969   <class 'surf.resource.EfrbrooF1_Work'>  \n",
       "urn:cts:cwkb:458.970   <class 'surf.resource.EfrbrooF1_Work'>  \n",
       "urn:cts:cwkb:459.971   <class 'surf.resource.EfrbrooF1_Work'>  \n",
       "urn:cts:cwkb:460.972   <class 'surf.resource.EfrbrooF1_Work'>  \n",
       "urn:cts:cwkb:461.973   <class 'surf.resource.EfrbrooF1_Work'>  \n",
       "urn:cts:cwkb:462.974   <class 'surf.resource.EfrbrooF1_Work'>  \n",
       "urn:cts:cwkb:462.975   <class 'surf.resource.EfrbrooF1_Work'>  \n",
       "urn:cts:cwkb:462.976   <class 'surf.resource.EfrbrooF1_Work'>  \n",
       "urn:cts:cwkb:462.977   <class 'surf.resource.EfrbrooF1_Work'>  \n",
       "urn:cts:cwkb:462.978   <class 'surf.resource.EfrbrooF1_Work'>  \n",
       "urn:cts:cwkb:462.979   <class 'surf.resource.EfrbrooF1_Work'>  \n",
       "urn:cts:cwkb:462.980   <class 'surf.resource.EfrbrooF1_Work'>  \n",
       "urn:cts:cwkb:463.981   <class 'surf.resource.EfrbrooF1_Work'>  \n",
       "urn:cts:cwkb:464.982   <class 'surf.resource.EfrbrooF1_Work'>  \n",
       "urn:cts:cwkb:465.983   <class 'surf.resource.EfrbrooF1_Work'>  \n",
       "urn:cts:cwkb:466.984   <class 'surf.resource.EfrbrooF1_Work'>  \n",
       "urn:cts:cwkb:467.985   <class 'surf.resource.EfrbrooF1_Work'>  \n",
       "urn:cts:cwkb:467.986   <class 'surf.resource.EfrbrooF1_Work'>  \n",
       "urn:cts:cwkb:468.987   <class 'surf.resource.EfrbrooF1_Work'>  \n",
       "urn:cts:cwkb:468.988   <class 'surf.resource.EfrbrooF1_Work'>  \n",
       "urn:cts:cwkb:469.989   <class 'surf.resource.EfrbrooF1_Work'>  \n",
       "urn:cts:cwkb:470.990   <class 'surf.resource.EfrbrooF1_Work'>  \n",
       "urn:cts:cwkb:472.992   <class 'surf.resource.EfrbrooF1_Work'>  \n",
       "urn:cts:cwkb:472.993   <class 'surf.resource.EfrbrooF1_Work'>  \n",
       "urn:cts:cwkb:472.994   <class 'surf.resource.EfrbrooF1_Work'>  \n",
       "urn:cts:cwkb:472.995   <class 'surf.resource.EfrbrooF1_Work'>  \n",
       "urn:cts:cwkb:472.996   <class 'surf.resource.EfrbrooF1_Work'>  \n",
       "urn:cts:cwkb:473.997   <class 'surf.resource.EfrbrooF1_Work'>  \n",
       "urn:cts:cwkb:474.998   <class 'surf.resource.EfrbrooF1_Work'>  \n",
       "urn:cts:cwkb:474.999   <class 'surf.resource.EfrbrooF1_Work'>  \n",
       "\n",
       "[5199 rows x 6 columns]"
      ]
     },
     "execution_count": 68,
     "metadata": {},
     "output_type": "execute_result"
    }
   ],
   "source": [
    "df_works"
   ]
  },
  {
   "cell_type": "code",
   "execution_count": 69,
   "metadata": {},
   "outputs": [
    {
     "data": {
      "text/plain": [
       "{False: 0.98873573440047424, True: 0.011264265599525715}"
      ]
     },
     "execution_count": 69,
     "metadata": {},
     "output_type": "execute_result"
    }
   ],
   "source": [
    "dict(df['has_catalog_link'].value_counts(normalize=True))"
   ]
  },
  {
   "cell_type": "code",
   "execution_count": 21,
   "metadata": {},
   "outputs": [
    {
     "name": "stdout",
     "output_type": "stream",
     "text": [
      "(u'has_catalog_link', 1.1264265599525713)\n",
      "(u'has_cwkb_link', 100.0)\n",
      "(u'has_viaf_link', 1.3487475915221581)\n",
      "(u'has_wikidata_link', 1.1264265599525713)\n"
     ]
    }
   ],
   "source": [
    "columns = [column for column in df.columns if 'has' in column]\n",
    "for column in columns:\n",
    "    stats = dict(df[column].value_counts(normalize=True))\n",
    "    print(column,stats[True]*100)"
   ]
  },
  {
   "cell_type": "code",
   "execution_count": 87,
   "metadata": {},
   "outputs": [],
   "source": [
    "df.to_csv(\"./kb_lod_stats.csv\", encoding=\"utf-8\")"
   ]
  },
  {
   "cell_type": "markdown",
   "metadata": {},
   "source": [
    "TODO: create table with tabulate"
   ]
  },
  {
   "cell_type": "markdown",
   "metadata": {},
   "source": [
    "## Example of interaction with the KB"
   ]
  },
  {
   "cell_type": "code",
   "execution_count": 34,
   "metadata": {
    "collapsed": true
   },
   "outputs": [],
   "source": [
    "import pprint\n",
    "import pkg_resources\n",
    "from knowledge_base import KnowledgeBase"
   ]
  },
  {
   "cell_type": "code",
   "execution_count": 45,
   "metadata": {
    "collapsed": true
   },
   "outputs": [],
   "source": [
    "virtuoso_cfg_file = pkg_resources.resource_filename('knowledge_base','config/virtuoso.ini')"
   ]
  },
  {
   "cell_type": "code",
   "execution_count": 46,
   "metadata": {},
   "outputs": [],
   "source": [
    "kb = KnowledgeBase(virtuoso_cfg_file)"
   ]
  },
  {
   "cell_type": "code",
   "execution_count": 40,
   "metadata": {},
   "outputs": [],
   "source": [
    "search_results = kb.search('Omero')"
   ]
  },
  {
   "cell_type": "code",
   "execution_count": 44,
   "metadata": {},
   "outputs": [
    {
     "name": "stdout",
     "output_type": "stream",
     "text": [
      "Omero urn:cts:greekLit:tlg0012\n",
      "[(u'fr', u'Hom\\xe8re'),\n",
      " (u'la', u'Homerus'),\n",
      " (None, u'Homeros'),\n",
      " (u'en', u'Homer'),\n",
      " (u'it', u'Omero')]\n"
     ]
    }
   ],
   "source": [
    "for search_query, result in search_results:\n",
    "    print search_query, result.get_urn()\n",
    "    pprint.pprint(result.get_names())"
   ]
  },
  {
   "cell_type": "code",
   "execution_count": 49,
   "metadata": {},
   "outputs": [
    {
     "name": "stdout",
     "output_type": "stream",
     "text": [
      "{\n",
      "  \"name_abbreviations\": [\n",
      "    \"Hom.\"\n",
      "  ], \n",
      "  \"urn\": \"urn:cts:greekLit:tlg0012\", \n",
      "  \"works\": [\n",
      "    {\n",
      "      \"urn\": \"urn:cts:cwkb:927.2814\", \n",
      "      \"titles\": [\n",
      "        {\n",
      "          \"language\": \"la\", \n",
      "          \"label\": \"Epigrammata\"\n",
      "        }\n",
      "      ], \n",
      "      \"uri\": \"http://purl.org/hucit/kb/works/2814\", \n",
      "      \"title_abbreviations\": [\n",
      "        \"epigr.\"\n",
      "      ]\n",
      "    }, \n",
      "    {\n",
      "      \"urn\": \"urn:cts:greekLit:tlg0012.tlg001\", \n",
      "      \"titles\": [\n",
      "        {\n",
      "          \"language\": \"it\", \n",
      "          \"label\": \"Iliade\"\n",
      "        }, \n",
      "        {\n",
      "          \"language\": \"la\", \n",
      "          \"label\": \"Ilias\"\n",
      "        }, \n",
      "        {\n",
      "          \"language\": \"en\", \n",
      "          \"label\": \"Iliad\"\n",
      "        }, \n",
      "        {\n",
      "          \"language\": \"de\", \n",
      "          \"label\": \"Ilias\"\n",
      "        }, \n",
      "        {\n",
      "          \"language\": \"fr\", \n",
      "          \"label\": \"L'Iliade\"\n",
      "        }\n",
      "      ], \n",
      "      \"uri\": \"http://purl.org/hucit/kb/works/2815\", \n",
      "      \"title_abbreviations\": [\n",
      "        \"Il.\"\n",
      "      ]\n",
      "    }, \n",
      "    {\n",
      "      \"urn\": \"urn:cts:greekLit:tlg0012.tlg002\", \n",
      "      \"titles\": [\n",
      "        {\n",
      "          \"language\": \"en\", \n",
      "          \"label\": \"Odyssey\"\n",
      "        }, \n",
      "        {\n",
      "          \"language\": \"de\", \n",
      "          \"label\": \"Odyssee\"\n",
      "        }, \n",
      "        {\n",
      "          \"language\": \"la\", \n",
      "          \"label\": \"Odyssea\"\n",
      "        }, \n",
      "        {\n",
      "          \"language\": \"fr\", \n",
      "          \"label\": \"l'Odyss\\u00e9e\"\n",
      "        }, \n",
      "        {\n",
      "          \"language\": \"it\", \n",
      "          \"label\": \"Odissea\"\n",
      "        }\n",
      "      ], \n",
      "      \"uri\": \"http://purl.org/hucit/kb/works/2816\", \n",
      "      \"title_abbreviations\": [\n",
      "        \"Od.\", \n",
      "        \"Odyss.\"\n",
      "      ]\n",
      "    }\n",
      "  ], \n",
      "  \"uri\": \"http://purl.org/hucit/kb/authors/927\", \n",
      "  \"names\": [\n",
      "    {\n",
      "      \"language\": \"fr\", \n",
      "      \"label\": \"Hom\\u00e8re\"\n",
      "    }, \n",
      "    {\n",
      "      \"language\": \"la\", \n",
      "      \"label\": \"Homerus\"\n",
      "    }, \n",
      "    {\n",
      "      \"language\": null, \n",
      "      \"label\": \"Homeros\"\n",
      "    }, \n",
      "    {\n",
      "      \"language\": \"en\", \n",
      "      \"label\": \"Homer\"\n",
      "    }, \n",
      "    {\n",
      "      \"language\": \"it\", \n",
      "      \"label\": \"Omero\"\n",
      "    }\n",
      "  ]\n",
      "}\n"
     ]
    }
   ],
   "source": [
    "print result.to_json()"
   ]
  },
  {
   "cell_type": "markdown",
   "metadata": {
    "collapsed": true
   },
   "source": [
    "## Playing around with dask"
   ]
  },
  {
   "cell_type": "code",
   "execution_count": 57,
   "metadata": {
    "collapsed": true
   },
   "outputs": [],
   "source": [
    "kb = KnowledgeBase(\"/Users/rromanello/Documents/ClassicsCitations/hucit_kb/knowledge_base/config/virtuoso_local.ini\")"
   ]
  },
  {
   "cell_type": "code",
   "execution_count": 59,
   "metadata": {},
   "outputs": [
    {
     "data": {
      "text/plain": [
       "HucitAuthor (names=[Nicias Epigrammaticus (@la),Nikias (@None),Nicias (@None)],urn=urn:cts:cwkb:999)"
      ]
     },
     "execution_count": 59,
     "metadata": {},
     "output_type": "execute_result"
    }
   ],
   "source": [
    "kb.get_authors()[-1]"
   ]
  },
  {
   "cell_type": "markdown",
   "metadata": {},
   "source": [
    "### Authors"
   ]
  },
  {
   "cell_type": "code",
   "execution_count": 60,
   "metadata": {
    "collapsed": true
   },
   "outputs": [],
   "source": [
    "def get_author_info(urn, kb):\n",
    "    author = kb.get_resource_by_urn(urn)\n",
    "    return {\n",
    "        \"urn\": author.get_urn(),\n",
    "        \"names\": [name for lang, name in author.get_names()]\n",
    "    }\n",
    "    "
   ]
  },
  {
   "cell_type": "code",
   "execution_count": 62,
   "metadata": {},
   "outputs": [
    {
     "name": "stdout",
     "output_type": "stream",
     "text": [
      "CPU times: user 5.73 s, sys: 1.88 s, total: 7.61 s\n",
      "Wall time: 36.3 s\n"
     ]
    }
   ],
   "source": [
    "%%time\n",
    "tasks = [\n",
    "        delayed(get_author_info)(urn, kb)\n",
    "        for urn in [a.get_urn() for a in kb.get_authors()]\n",
    "        if urn is not None\n",
    "]"
   ]
  },
  {
   "cell_type": "code",
   "execution_count": 63,
   "metadata": {},
   "outputs": [
    {
     "name": "stdout",
     "output_type": "stream",
     "text": [
      "[########################################] | 100% Completed |  1min 25.9s\n"
     ]
    }
   ],
   "source": [
    " with ProgressBar():\n",
    "        result = compute(*tasks, get=mp_get)"
   ]
  },
  {
   "cell_type": "code",
   "execution_count": 64,
   "metadata": {},
   "outputs": [],
   "source": [
    "df = pd.DataFrame(list(result))"
   ]
  },
  {
   "cell_type": "code",
   "execution_count": 67,
   "metadata": {},
   "outputs": [
    {
     "data": {
      "text/html": [
       "<div>\n",
       "<style>\n",
       "    .dataframe thead tr:only-child th {\n",
       "        text-align: right;\n",
       "    }\n",
       "\n",
       "    .dataframe thead th {\n",
       "        text-align: left;\n",
       "    }\n",
       "\n",
       "    .dataframe tbody tr th {\n",
       "        vertical-align: top;\n",
       "    }\n",
       "</style>\n",
       "<table border=\"1\" class=\"dataframe\">\n",
       "  <thead>\n",
       "    <tr style=\"text-align: right;\">\n",
       "      <th></th>\n",
       "      <th>names</th>\n",
       "      <th>urn</th>\n",
       "    </tr>\n",
       "  </thead>\n",
       "  <tbody>\n",
       "    <tr>\n",
       "      <th>0</th>\n",
       "      <td>[Nikomachos, Nicomaco, Nicomachus, Nicomachus ...</td>\n",
       "      <td>urn:cts:cwkb:1000</td>\n",
       "    </tr>\n",
       "    <tr>\n",
       "      <th>1</th>\n",
       "      <td>[Nilus Ancyranus, Nil, Nilo, Nilus]</td>\n",
       "      <td>urn:cts:cwkb:1001</td>\n",
       "    </tr>\n",
       "    <tr>\n",
       "      <th>2</th>\n",
       "      <td>[Nonnus Panapolitanus, Nonnus Of Panopolis, No...</td>\n",
       "      <td>urn:cts:greekLit:tlg2045</td>\n",
       "    </tr>\n",
       "    <tr>\n",
       "      <th>3</th>\n",
       "      <td>[Nostoi]</td>\n",
       "      <td>urn:cts:cwkb:1003</td>\n",
       "    </tr>\n",
       "    <tr>\n",
       "      <th>4</th>\n",
       "      <td>[Occelus, Ocellus Lucanus, Ocellus, Okellos, E...</td>\n",
       "      <td>urn:cts:cwkb:1004</td>\n",
       "    </tr>\n",
       "  </tbody>\n",
       "</table>\n",
       "</div>"
      ],
      "text/plain": [
       "                                               names                       urn\n",
       "0  [Nikomachos, Nicomaco, Nicomachus, Nicomachus ...         urn:cts:cwkb:1000\n",
       "1                [Nilus Ancyranus, Nil, Nilo, Nilus]         urn:cts:cwkb:1001\n",
       "2  [Nonnus Panapolitanus, Nonnus Of Panopolis, No...  urn:cts:greekLit:tlg2045\n",
       "3                                           [Nostoi]         urn:cts:cwkb:1003\n",
       "4  [Occelus, Ocellus Lucanus, Ocellus, Okellos, E...         urn:cts:cwkb:1004"
      ]
     },
     "execution_count": 67,
     "metadata": {},
     "output_type": "execute_result"
    }
   ],
   "source": [
    "df.head(5)"
   ]
  },
  {
   "cell_type": "code",
   "execution_count": 69,
   "metadata": {},
   "outputs": [],
   "source": [
    "df.to_csv(\"/Users/rromanello/Downloads/kb_authors.csv\", encoding=\"utf-8\")"
   ]
  },
  {
   "cell_type": "markdown",
   "metadata": {},
   "source": [
    "### Works"
   ]
  },
  {
   "cell_type": "code",
   "execution_count": 82,
   "metadata": {
    "code_folding": []
   },
   "outputs": [],
   "source": [
    "def get_work_info(urn, kb):\n",
    "    work = kb.get_resource_by_urn(urn)\n",
    "    author_urn = work.author.get_urn()\n",
    "    return {\n",
    "        \"urn\": urn,\n",
    "        \"titles\": [title for lang, title in work.get_titles()],\n",
    "        \"author_urn\": author_urn,\n",
    "        \"author_label\": kb.get_author_label(author_urn)\n",
    "    }\n",
    "    "
   ]
  },
  {
   "cell_type": "code",
   "execution_count": 83,
   "metadata": {},
   "outputs": [
    {
     "name": "stdout",
     "output_type": "stream",
     "text": [
      "CPU times: user 30.2 s, sys: 10.3 s, total: 40.4 s\n",
      "Wall time: 2min 58s\n"
     ]
    }
   ],
   "source": [
    "%%time\n",
    "\n",
    "tasks = [\n",
    "        delayed(get_work_info)(urn, kb)\n",
    "        for urn in [w.get_urn() for a in kb.get_authors() for w in a.get_works()]\n",
    "        if urn is not None\n",
    "]"
   ]
  },
  {
   "cell_type": "code",
   "execution_count": 85,
   "metadata": {},
   "outputs": [
    {
     "name": "stdout",
     "output_type": "stream",
     "text": [
      "[########################################] | 100% Completed |  7min 36.5s\n"
     ]
    }
   ],
   "source": [
    " with ProgressBar():\n",
    "        result = compute(*tasks, get=mp_get)\n",
    "\n",
    "df = pd.DataFrame(list(result))"
   ]
  },
  {
   "cell_type": "code",
   "execution_count": 89,
   "metadata": {},
   "outputs": [
    {
     "data": {
      "text/html": [
       "<div>\n",
       "<style>\n",
       "    .dataframe thead tr:only-child th {\n",
       "        text-align: right;\n",
       "    }\n",
       "\n",
       "    .dataframe thead th {\n",
       "        text-align: left;\n",
       "    }\n",
       "\n",
       "    .dataframe tbody tr th {\n",
       "        vertical-align: top;\n",
       "    }\n",
       "</style>\n",
       "<table border=\"1\" class=\"dataframe\">\n",
       "  <thead>\n",
       "    <tr style=\"text-align: right;\">\n",
       "      <th></th>\n",
       "      <th>author_label</th>\n",
       "      <th>author_urn</th>\n",
       "      <th>titles</th>\n",
       "      <th>urn</th>\n",
       "    </tr>\n",
       "  </thead>\n",
       "  <tbody>\n",
       "    <tr>\n",
       "      <th>0</th>\n",
       "      <td>Nikomachos</td>\n",
       "      <td>urn:cts:cwkb:1000</td>\n",
       "      <td>[Introductio arithmetica]</td>\n",
       "      <td>urn:cts:cwkb:1000.3425</td>\n",
       "    </tr>\n",
       "    <tr>\n",
       "      <th>1</th>\n",
       "      <td>Nikomachos</td>\n",
       "      <td>urn:cts:cwkb:1000</td>\n",
       "      <td>[Theologoumena arithmeticae]</td>\n",
       "      <td>urn:cts:cwkb:1000.3426</td>\n",
       "    </tr>\n",
       "    <tr>\n",
       "      <th>2</th>\n",
       "      <td>Nikomachos</td>\n",
       "      <td>urn:cts:cwkb:1000</td>\n",
       "      <td>[Excerpta]</td>\n",
       "      <td>urn:cts:cwkb:1000.3423</td>\n",
       "    </tr>\n",
       "    <tr>\n",
       "      <th>3</th>\n",
       "      <td>Nikomachos</td>\n",
       "      <td>urn:cts:cwkb:1000</td>\n",
       "      <td>[Harmonicum enchiridion]</td>\n",
       "      <td>urn:cts:cwkb:1000.3424</td>\n",
       "    </tr>\n",
       "    <tr>\n",
       "      <th>4</th>\n",
       "      <td>Nilus</td>\n",
       "      <td>urn:cts:cwkb:1001</td>\n",
       "      <td>[Commentarii in Canticum Canticorum]</td>\n",
       "      <td>urn:cts:cwkb:1001.3427</td>\n",
       "    </tr>\n",
       "    <tr>\n",
       "      <th>5</th>\n",
       "      <td>Nilus</td>\n",
       "      <td>urn:cts:cwkb:1001</td>\n",
       "      <td>[Narrationes septem de monachis in Sina]</td>\n",
       "      <td>urn:cts:cwkb:1001.3428</td>\n",
       "    </tr>\n",
       "    <tr>\n",
       "      <th>6</th>\n",
       "      <td>Nilus</td>\n",
       "      <td>urn:cts:cwkb:1001</td>\n",
       "      <td>[De monastica exercitatione]</td>\n",
       "      <td>urn:cts:cwkb:1001.8226</td>\n",
       "    </tr>\n",
       "    <tr>\n",
       "      <th>7</th>\n",
       "      <td>Nilus</td>\n",
       "      <td>urn:cts:cwkb:1001</td>\n",
       "      <td>[Epistulae]</td>\n",
       "      <td>urn:cts:cwkb:1001.9143</td>\n",
       "    </tr>\n",
       "    <tr>\n",
       "      <th>8</th>\n",
       "      <td>Nonnus Of Panopolis</td>\n",
       "      <td>urn:cts:greekLit:tlg2045</td>\n",
       "      <td>[Dionysiaka, Dionisiache, Dionysiaca, Les Dion...</td>\n",
       "      <td>urn:cts:greekLit:tlg2045.tlg001</td>\n",
       "    </tr>\n",
       "    <tr>\n",
       "      <th>9</th>\n",
       "      <td>Nonnus Of Panopolis</td>\n",
       "      <td>urn:cts:greekLit:tlg2045</td>\n",
       "      <td>[Paraphrase of the Gospel of John, Paraphrase ...</td>\n",
       "      <td>urn:cts:cwkb:1002.3431</td>\n",
       "    </tr>\n",
       "  </tbody>\n",
       "</table>\n",
       "</div>"
      ],
      "text/plain": [
       "          author_label                author_urn  \\\n",
       "0           Nikomachos         urn:cts:cwkb:1000   \n",
       "1           Nikomachos         urn:cts:cwkb:1000   \n",
       "2           Nikomachos         urn:cts:cwkb:1000   \n",
       "3           Nikomachos         urn:cts:cwkb:1000   \n",
       "4                Nilus         urn:cts:cwkb:1001   \n",
       "5                Nilus         urn:cts:cwkb:1001   \n",
       "6                Nilus         urn:cts:cwkb:1001   \n",
       "7                Nilus         urn:cts:cwkb:1001   \n",
       "8  Nonnus Of Panopolis  urn:cts:greekLit:tlg2045   \n",
       "9  Nonnus Of Panopolis  urn:cts:greekLit:tlg2045   \n",
       "\n",
       "                                              titles  \\\n",
       "0                          [Introductio arithmetica]   \n",
       "1                       [Theologoumena arithmeticae]   \n",
       "2                                         [Excerpta]   \n",
       "3                           [Harmonicum enchiridion]   \n",
       "4               [Commentarii in Canticum Canticorum]   \n",
       "5           [Narrationes septem de monachis in Sina]   \n",
       "6                       [De monastica exercitatione]   \n",
       "7                                        [Epistulae]   \n",
       "8  [Dionysiaka, Dionisiache, Dionysiaca, Les Dion...   \n",
       "9  [Paraphrase of the Gospel of John, Paraphrase ...   \n",
       "\n",
       "                               urn  \n",
       "0           urn:cts:cwkb:1000.3425  \n",
       "1           urn:cts:cwkb:1000.3426  \n",
       "2           urn:cts:cwkb:1000.3423  \n",
       "3           urn:cts:cwkb:1000.3424  \n",
       "4           urn:cts:cwkb:1001.3427  \n",
       "5           urn:cts:cwkb:1001.3428  \n",
       "6           urn:cts:cwkb:1001.8226  \n",
       "7           urn:cts:cwkb:1001.9143  \n",
       "8  urn:cts:greekLit:tlg2045.tlg001  \n",
       "9           urn:cts:cwkb:1002.3431  "
      ]
     },
     "execution_count": 89,
     "metadata": {},
     "output_type": "execute_result"
    }
   ],
   "source": [
    "df.head(10)"
   ]
  },
  {
   "cell_type": "code",
   "execution_count": 90,
   "metadata": {
    "collapsed": true
   },
   "outputs": [],
   "source": [
    "df.to_csv(\"/Users/rromanello/Downloads/kb_works.csv\", encoding=\"utf-8\")"
   ]
  },
  {
   "cell_type": "code",
   "execution_count": 96,
   "metadata": {},
   "outputs": [],
   "source": [
    "a = kb.get_resource_by_urn(\"urn:cts:cwkb:630.1310\")"
   ]
  },
  {
   "cell_type": "code",
   "execution_count": 98,
   "metadata": {},
   "outputs": [],
   "source": [
    "cwb_uri = a.owl_sameAs[0]"
   ]
  },
  {
   "cell_type": "code",
   "execution_count": 99,
   "metadata": {},
   "outputs": [
    {
     "data": {
      "text/plain": [
       "rdflib.term.URIRef(u'http://cwkb.org/work/id/1310/turtle')"
      ]
     },
     "execution_count": 99,
     "metadata": {},
     "output_type": "execute_result"
    }
   ],
   "source": [
    "cwb_uri"
   ]
  },
  {
   "cell_type": "code",
   "execution_count": null,
   "metadata": {
    "collapsed": true
   },
   "outputs": [],
   "source": []
  }
 ],
 "metadata": {
  "kernelspec": {
   "display_name": "Python 2",
   "language": "python",
   "name": "python2"
  },
  "language_info": {
   "codemirror_mode": {
    "name": "ipython",
    "version": 2
   },
   "file_extension": ".py",
   "mimetype": "text/x-python",
   "name": "python",
   "nbconvert_exporter": "python",
   "pygments_lexer": "ipython2",
   "version": "2.7.13"
  },
  "toc": {
   "colors": {
    "hover_highlight": "#DAA520",
    "navigate_num": "#000000",
    "navigate_text": "#333333",
    "running_highlight": "#FF0000",
    "selected_highlight": "#FFD700",
    "sidebar_border": "#EEEEEE",
    "wrapper_background": "#FFFFFF"
   },
   "moveMenuLeft": true,
   "nav_menu": {
    "height": "192px",
    "width": "252px"
   },
   "navigate_menu": true,
   "number_sections": true,
   "sideBar": true,
   "threshold": 4,
   "toc_cell": false,
   "toc_position": {
    "height": "693px",
    "left": "0px",
    "right": "1222px",
    "top": "106px",
    "width": "212px"
   },
   "toc_section_display": "block",
   "toc_window_display": true,
   "widenNotebook": false
  }
 },
 "nbformat": 4,
 "nbformat_minor": 2
}
