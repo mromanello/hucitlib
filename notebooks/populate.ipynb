{
 "cells": [
  {
   "cell_type": "code",
   "execution_count": 4,
   "metadata": {},
   "outputs": [],
   "source": [
    "%load_ext autoreload"
   ]
  },
  {
   "cell_type": "code",
   "execution_count": 5,
   "metadata": {},
   "outputs": [],
   "source": [
    "%autoreload 2"
   ]
  },
  {
   "cell_type": "code",
   "execution_count": 6,
   "metadata": {},
   "outputs": [],
   "source": [
    "from pyCTS import CTS_URN"
   ]
  },
  {
   "cell_type": "code",
   "execution_count": 7,
   "metadata": {},
   "outputs": [],
   "source": [
    "from hucitlib import KnowledgeBase\n",
    "from hucitlib.surfext import *"
   ]
  },
  {
   "cell_type": "code",
   "execution_count": 8,
   "metadata": {},
   "outputs": [],
   "source": [
    "kb = KnowledgeBase('../hucitlib/config/virtuoso_pc6.ini')"
   ]
  },
  {
   "cell_type": "code",
   "execution_count": 8,
   "metadata": {},
   "outputs": [
    {
     "name": "stdout",
     "output_type": "stream",
     "text": [
      "[surf]\r\n",
      "reader=sparql_protocol\r\n",
      "writer=sparql_protocol\r\n",
      "server=localhost\r\n",
      "endpoint=http://cdh-dhlabpc6.epfl.ch:8890/sparql\r\n",
      "port=8890\r\n",
      "default_context=http://purl.org/hucit/kb\r\n"
     ]
    }
   ],
   "source": [
    "!cat ../hucitlib/config/virtuoso_pc6.ini "
   ]
  },
  {
   "cell_type": "markdown",
   "metadata": {},
   "source": [
    "## business"
   ]
  },
  {
   "cell_type": "code",
   "execution_count": 9,
   "metadata": {},
   "outputs": [],
   "source": [
    "from hucitlib.populate import load_text_structure_JSON, populate_text_structure"
   ]
  },
  {
   "cell_type": "code",
   "execution_count": 10,
   "metadata": {},
   "outputs": [],
   "source": [
    "urn = \"urn:cts:greekLit:tlg0011.tlg003\"\n",
    "#urn = \"urn:cts:greekLit:tlg0012.tlg002\"\n",
    "basedir = \"../hucitlib/data/text_structures/\""
   ]
  },
  {
   "cell_type": "code",
   "execution_count": 25,
   "metadata": {},
   "outputs": [],
   "source": [
    "work_obj = kb.get_resource_by_urn(urn)"
   ]
  },
  {
   "cell_type": "code",
   "execution_count": 26,
   "metadata": {},
   "outputs": [],
   "source": [
    "work_obj.structure"
   ]
  },
  {
   "cell_type": "code",
   "execution_count": 505,
   "metadata": {},
   "outputs": [],
   "source": [
    "text_structure_dict = load_text_structure_JSON(urn, basedir)"
   ]
  },
  {
   "cell_type": "code",
   "execution_count": 287,
   "metadata": {},
   "outputs": [],
   "source": [
    "#text_structure_dict"
   ]
  },
  {
   "cell_type": "code",
   "execution_count": 506,
   "metadata": {},
   "outputs": [
    {
     "name": "stdout",
     "output_type": "stream",
     "text": [
      "Identifier not created!\n",
      "http://purl.org/hucit/kb/works/3896/1 already has a CTS URN identifier: http://purl.org/hucit/kb/works/3896/1/cts_urn\n",
      "Created {http://purl.org/hucit/kb/works/3896/1 : http://purl.org/net/hucit#TextElement}\n",
      "Identifier not created!\n",
      "http://purl.org/hucit/kb/works/3896/2 already has a CTS URN identifier: http://purl.org/hucit/kb/works/3896/2/cts_urn\n",
      "Created {http://purl.org/hucit/kb/works/3896/2 : http://purl.org/net/hucit#TextElement}\n",
      "Identifier not created!\n",
      "http://purl.org/hucit/kb/works/3896/3 already has a CTS URN identifier: http://purl.org/hucit/kb/works/3896/3/cts_urn\n",
      "Created {http://purl.org/hucit/kb/works/3896/3 : http://purl.org/net/hucit#TextElement}\n",
      "Identifier not created!\n",
      "http://purl.org/hucit/kb/works/3896/4 already has a CTS URN identifier: http://purl.org/hucit/kb/works/3896/4/cts_urn\n",
      "Created {http://purl.org/hucit/kb/works/3896/4 : http://purl.org/net/hucit#TextElement}\n",
      "Identifier not created!\n",
      "http://purl.org/hucit/kb/works/3896/5 already has a CTS URN identifier: http://purl.org/hucit/kb/works/3896/5/cts_urn\n",
      "Created {http://purl.org/hucit/kb/works/3896/5 : http://purl.org/net/hucit#TextElement}\n",
      "Identifier not created!\n",
      "http://purl.org/hucit/kb/works/3896/6 already has a CTS URN identifier: http://purl.org/hucit/kb/works/3896/6/cts_urn\n",
      "Created {http://purl.org/hucit/kb/works/3896/6 : http://purl.org/net/hucit#TextElement}\n",
      "Identifier not created!\n",
      "http://purl.org/hucit/kb/works/3896/7 already has a CTS URN identifier: http://purl.org/hucit/kb/works/3896/7/cts_urn\n",
      "Created {http://purl.org/hucit/kb/works/3896/7 : http://purl.org/net/hucit#TextElement}\n",
      "Identifier not created!\n",
      "http://purl.org/hucit/kb/works/3896/8 already has a CTS URN identifier: http://purl.org/hucit/kb/works/3896/8/cts_urn\n",
      "Created {http://purl.org/hucit/kb/works/3896/8 : http://purl.org/net/hucit#TextElement}\n",
      "Identifier not created!\n",
      "http://purl.org/hucit/kb/works/3896/9 already has a CTS URN identifier: http://purl.org/hucit/kb/works/3896/9/cts_urn\n",
      "Created {http://purl.org/hucit/kb/works/3896/9 : http://purl.org/net/hucit#TextElement}\n",
      "Identifier not created!\n",
      "http://purl.org/hucit/kb/works/3896/10 already has a CTS URN identifier: http://purl.org/hucit/kb/works/3896/10/cts_urn\n",
      "Created {http://purl.org/hucit/kb/works/3896/10 : http://purl.org/net/hucit#TextElement}\n",
      "Identifier not created!\n",
      "http://purl.org/hucit/kb/works/3896/11 already has a CTS URN identifier: http://purl.org/hucit/kb/works/3896/11/cts_urn\n",
      "Created {http://purl.org/hucit/kb/works/3896/11 : http://purl.org/net/hucit#TextElement}\n",
      "Identifier not created!\n",
      "http://purl.org/hucit/kb/works/3896/12 already has a CTS URN identifier: http://purl.org/hucit/kb/works/3896/12/cts_urn\n",
      "Created {http://purl.org/hucit/kb/works/3896/12 : http://purl.org/net/hucit#TextElement}\n",
      "Identifier not created!\n",
      "http://purl.org/hucit/kb/works/3896/13 already has a CTS URN identifier: http://purl.org/hucit/kb/works/3896/13/cts_urn\n",
      "Created {http://purl.org/hucit/kb/works/3896/13 : http://purl.org/net/hucit#TextElement}\n",
      "Identifier not created!\n",
      "http://purl.org/hucit/kb/works/3896/14 already has a CTS URN identifier: http://purl.org/hucit/kb/works/3896/14/cts_urn\n",
      "Created {http://purl.org/hucit/kb/works/3896/14 : http://purl.org/net/hucit#TextElement}\n",
      "Identifier not created!\n",
      "http://purl.org/hucit/kb/works/3896/15 already has a CTS URN identifier: http://purl.org/hucit/kb/works/3896/15/cts_urn\n",
      "Created {http://purl.org/hucit/kb/works/3896/15 : http://purl.org/net/hucit#TextElement}\n",
      "Identifier not created!\n",
      "http://purl.org/hucit/kb/works/3896/16 already has a CTS URN identifier: http://purl.org/hucit/kb/works/3896/16/cts_urn\n",
      "Created {http://purl.org/hucit/kb/works/3896/16 : http://purl.org/net/hucit#TextElement}\n",
      "Identifier not created!\n",
      "http://purl.org/hucit/kb/works/3896/17 already has a CTS URN identifier: http://purl.org/hucit/kb/works/3896/17/cts_urn\n",
      "Created {http://purl.org/hucit/kb/works/3896/17 : http://purl.org/net/hucit#TextElement}\n",
      "Identifier not created!\n",
      "http://purl.org/hucit/kb/works/3896/18 already has a CTS URN identifier: http://purl.org/hucit/kb/works/3896/18/cts_urn\n",
      "Created {http://purl.org/hucit/kb/works/3896/18 : http://purl.org/net/hucit#TextElement}\n",
      "Identifier not created!\n",
      "http://purl.org/hucit/kb/works/3896/19 already has a CTS URN identifier: http://purl.org/hucit/kb/works/3896/19/cts_urn\n",
      "Created {http://purl.org/hucit/kb/works/3896/19 : http://purl.org/net/hucit#TextElement}\n",
      "Identifier not created!\n",
      "http://purl.org/hucit/kb/works/3896/20 already has a CTS URN identifier: http://purl.org/hucit/kb/works/3896/20/cts_urn\n",
      "Created {http://purl.org/hucit/kb/works/3896/20 : http://purl.org/net/hucit#TextElement}\n",
      "Identifier not created!\n",
      "http://purl.org/hucit/kb/works/3896/21 already has a CTS URN identifier: http://purl.org/hucit/kb/works/3896/21/cts_urn\n",
      "Created {http://purl.org/hucit/kb/works/3896/21 : http://purl.org/net/hucit#TextElement}\n",
      "Identifier not created!\n",
      "http://purl.org/hucit/kb/works/3896/22 already has a CTS URN identifier: http://purl.org/hucit/kb/works/3896/22/cts_urn\n",
      "Created {http://purl.org/hucit/kb/works/3896/22 : http://purl.org/net/hucit#TextElement}\n",
      "Identifier not created!\n",
      "http://purl.org/hucit/kb/works/3896/23 already has a CTS URN identifier: http://purl.org/hucit/kb/works/3896/23/cts_urn\n",
      "Created {http://purl.org/hucit/kb/works/3896/23 : http://purl.org/net/hucit#TextElement}\n",
      "Identifier not created!\n",
      "http://purl.org/hucit/kb/works/3896/24 already has a CTS URN identifier: http://purl.org/hucit/kb/works/3896/24/cts_urn\n",
      "Created {http://purl.org/hucit/kb/works/3896/24 : http://purl.org/net/hucit#TextElement}\n",
      "Identifier not created!\n",
      "http://purl.org/hucit/kb/works/3896/25 already has a CTS URN identifier: http://purl.org/hucit/kb/works/3896/25/cts_urn\n",
      "Created {http://purl.org/hucit/kb/works/3896/25 : http://purl.org/net/hucit#TextElement}\n",
      "Identifier not created!\n",
      "http://purl.org/hucit/kb/works/3896/26 already has a CTS URN identifier: http://purl.org/hucit/kb/works/3896/26/cts_urn\n",
      "Created {http://purl.org/hucit/kb/works/3896/26 : http://purl.org/net/hucit#TextElement}\n",
      "Identifier not created!\n",
      "http://purl.org/hucit/kb/works/3896/27 already has a CTS URN identifier: http://purl.org/hucit/kb/works/3896/27/cts_urn\n",
      "Created {http://purl.org/hucit/kb/works/3896/27 : http://purl.org/net/hucit#TextElement}\n",
      "Identifier not created!\n",
      "http://purl.org/hucit/kb/works/3896/28 already has a CTS URN identifier: http://purl.org/hucit/kb/works/3896/28/cts_urn\n",
      "Created {http://purl.org/hucit/kb/works/3896/28 : http://purl.org/net/hucit#TextElement}\n",
      "Identifier not created!\n",
      "http://purl.org/hucit/kb/works/3896/29 already has a CTS URN identifier: http://purl.org/hucit/kb/works/3896/29/cts_urn\n",
      "Created {http://purl.org/hucit/kb/works/3896/29 : http://purl.org/net/hucit#TextElement}\n",
      "Identifier not created!\n",
      "http://purl.org/hucit/kb/works/3896/30 already has a CTS URN identifier: http://purl.org/hucit/kb/works/3896/30/cts_urn\n",
      "Created {http://purl.org/hucit/kb/works/3896/30 : http://purl.org/net/hucit#TextElement}\n",
      "Identifier not created!\n",
      "http://purl.org/hucit/kb/works/3896/31 already has a CTS URN identifier: http://purl.org/hucit/kb/works/3896/31/cts_urn\n",
      "Created {http://purl.org/hucit/kb/works/3896/31 : http://purl.org/net/hucit#TextElement}\n",
      "Identifier not created!\n",
      "http://purl.org/hucit/kb/works/3896/32 already has a CTS URN identifier: http://purl.org/hucit/kb/works/3896/32/cts_urn\n",
      "Created {http://purl.org/hucit/kb/works/3896/32 : http://purl.org/net/hucit#TextElement}\n",
      "Identifier not created!\n",
      "http://purl.org/hucit/kb/works/3896/33 already has a CTS URN identifier: http://purl.org/hucit/kb/works/3896/33/cts_urn\n",
      "Created {http://purl.org/hucit/kb/works/3896/33 : http://purl.org/net/hucit#TextElement}\n",
      "Identifier not created!\n",
      "http://purl.org/hucit/kb/works/3896/34 already has a CTS URN identifier: http://purl.org/hucit/kb/works/3896/34/cts_urn\n",
      "Created {http://purl.org/hucit/kb/works/3896/34 : http://purl.org/net/hucit#TextElement}\n",
      "Identifier not created!\n",
      "http://purl.org/hucit/kb/works/3896/35 already has a CTS URN identifier: http://purl.org/hucit/kb/works/3896/35/cts_urn\n",
      "Created {http://purl.org/hucit/kb/works/3896/35 : http://purl.org/net/hucit#TextElement}\n",
      "Identifier not created!\n",
      "http://purl.org/hucit/kb/works/3896/36 already has a CTS URN identifier: http://purl.org/hucit/kb/works/3896/36/cts_urn\n",
      "Created {http://purl.org/hucit/kb/works/3896/36 : http://purl.org/net/hucit#TextElement}\n"
     ]
    },
    {
     "name": "stdout",
     "output_type": "stream",
     "text": [
      "Identifier not created!\n",
      "http://purl.org/hucit/kb/works/3896/37 already has a CTS URN identifier: http://purl.org/hucit/kb/works/3896/37/cts_urn\n",
      "Created {http://purl.org/hucit/kb/works/3896/37 : http://purl.org/net/hucit#TextElement}\n",
      "Identifier not created!\n",
      "http://purl.org/hucit/kb/works/3896/38 already has a CTS URN identifier: http://purl.org/hucit/kb/works/3896/38/cts_urn\n",
      "Created {http://purl.org/hucit/kb/works/3896/38 : http://purl.org/net/hucit#TextElement}\n",
      "Identifier not created!\n",
      "http://purl.org/hucit/kb/works/3896/39 already has a CTS URN identifier: http://purl.org/hucit/kb/works/3896/39/cts_urn\n",
      "Created {http://purl.org/hucit/kb/works/3896/39 : http://purl.org/net/hucit#TextElement}\n",
      "Identifier not created!\n",
      "http://purl.org/hucit/kb/works/3896/40 already has a CTS URN identifier: http://purl.org/hucit/kb/works/3896/40/cts_urn\n",
      "Created {http://purl.org/hucit/kb/works/3896/40 : http://purl.org/net/hucit#TextElement}\n",
      "Identifier not created!\n",
      "http://purl.org/hucit/kb/works/3896/41 already has a CTS URN identifier: http://purl.org/hucit/kb/works/3896/41/cts_urn\n",
      "Created {http://purl.org/hucit/kb/works/3896/41 : http://purl.org/net/hucit#TextElement}\n",
      "Identifier not created!\n",
      "http://purl.org/hucit/kb/works/3896/42 already has a CTS URN identifier: http://purl.org/hucit/kb/works/3896/42/cts_urn\n",
      "Created {http://purl.org/hucit/kb/works/3896/42 : http://purl.org/net/hucit#TextElement}\n",
      "Identifier not created!\n",
      "http://purl.org/hucit/kb/works/3896/43 already has a CTS URN identifier: http://purl.org/hucit/kb/works/3896/43/cts_urn\n",
      "Created {http://purl.org/hucit/kb/works/3896/43 : http://purl.org/net/hucit#TextElement}\n",
      "Identifier not created!\n",
      "http://purl.org/hucit/kb/works/3896/44 already has a CTS URN identifier: http://purl.org/hucit/kb/works/3896/44/cts_urn\n",
      "Created {http://purl.org/hucit/kb/works/3896/44 : http://purl.org/net/hucit#TextElement}\n",
      "Identifier not created!\n",
      "http://purl.org/hucit/kb/works/3896/45 already has a CTS URN identifier: http://purl.org/hucit/kb/works/3896/45/cts_urn\n",
      "Created {http://purl.org/hucit/kb/works/3896/45 : http://purl.org/net/hucit#TextElement}\n",
      "Identifier not created!\n",
      "http://purl.org/hucit/kb/works/3896/46 already has a CTS URN identifier: http://purl.org/hucit/kb/works/3896/46/cts_urn\n",
      "Created {http://purl.org/hucit/kb/works/3896/46 : http://purl.org/net/hucit#TextElement}\n",
      "Identifier not created!\n",
      "http://purl.org/hucit/kb/works/3896/47 already has a CTS URN identifier: http://purl.org/hucit/kb/works/3896/47/cts_urn\n",
      "Created {http://purl.org/hucit/kb/works/3896/47 : http://purl.org/net/hucit#TextElement}\n",
      "Identifier not created!\n",
      "http://purl.org/hucit/kb/works/3896/48 already has a CTS URN identifier: http://purl.org/hucit/kb/works/3896/48/cts_urn\n",
      "Created {http://purl.org/hucit/kb/works/3896/48 : http://purl.org/net/hucit#TextElement}\n",
      "Identifier not created!\n",
      "http://purl.org/hucit/kb/works/3896/49 already has a CTS URN identifier: http://purl.org/hucit/kb/works/3896/49/cts_urn\n",
      "Created {http://purl.org/hucit/kb/works/3896/49 : http://purl.org/net/hucit#TextElement}\n",
      "Identifier not created!\n",
      "http://purl.org/hucit/kb/works/3896/50 already has a CTS URN identifier: http://purl.org/hucit/kb/works/3896/50/cts_urn\n",
      "Created {http://purl.org/hucit/kb/works/3896/50 : http://purl.org/net/hucit#TextElement}\n",
      "Identifier not created!\n",
      "http://purl.org/hucit/kb/works/3896/51 already has a CTS URN identifier: http://purl.org/hucit/kb/works/3896/51/cts_urn\n",
      "Created {http://purl.org/hucit/kb/works/3896/51 : http://purl.org/net/hucit#TextElement}\n",
      "Identifier not created!\n",
      "http://purl.org/hucit/kb/works/3896/52 already has a CTS URN identifier: http://purl.org/hucit/kb/works/3896/52/cts_urn\n",
      "Created {http://purl.org/hucit/kb/works/3896/52 : http://purl.org/net/hucit#TextElement}\n",
      "Identifier not created!\n",
      "http://purl.org/hucit/kb/works/3896/53 already has a CTS URN identifier: http://purl.org/hucit/kb/works/3896/53/cts_urn\n",
      "Created {http://purl.org/hucit/kb/works/3896/53 : http://purl.org/net/hucit#TextElement}\n",
      "Identifier not created!\n",
      "http://purl.org/hucit/kb/works/3896/54 already has a CTS URN identifier: http://purl.org/hucit/kb/works/3896/54/cts_urn\n",
      "Created {http://purl.org/hucit/kb/works/3896/54 : http://purl.org/net/hucit#TextElement}\n",
      "Identifier not created!\n",
      "http://purl.org/hucit/kb/works/3896/55 already has a CTS URN identifier: http://purl.org/hucit/kb/works/3896/55/cts_urn\n",
      "Created {http://purl.org/hucit/kb/works/3896/55 : http://purl.org/net/hucit#TextElement}\n",
      "Identifier not created!\n",
      "http://purl.org/hucit/kb/works/3896/56 already has a CTS URN identifier: http://purl.org/hucit/kb/works/3896/56/cts_urn\n",
      "Created {http://purl.org/hucit/kb/works/3896/56 : http://purl.org/net/hucit#TextElement}\n",
      "Identifier not created!\n",
      "http://purl.org/hucit/kb/works/3896/57 already has a CTS URN identifier: http://purl.org/hucit/kb/works/3896/57/cts_urn\n",
      "Created {http://purl.org/hucit/kb/works/3896/57 : http://purl.org/net/hucit#TextElement}\n",
      "Identifier not created!\n",
      "http://purl.org/hucit/kb/works/3896/58 already has a CTS URN identifier: http://purl.org/hucit/kb/works/3896/58/cts_urn\n",
      "Created {http://purl.org/hucit/kb/works/3896/58 : http://purl.org/net/hucit#TextElement}\n",
      "Identifier not created!\n",
      "http://purl.org/hucit/kb/works/3896/59 already has a CTS URN identifier: http://purl.org/hucit/kb/works/3896/59/cts_urn\n",
      "Created {http://purl.org/hucit/kb/works/3896/59 : http://purl.org/net/hucit#TextElement}\n",
      "Identifier not created!\n",
      "http://purl.org/hucit/kb/works/3896/60 already has a CTS URN identifier: http://purl.org/hucit/kb/works/3896/60/cts_urn\n",
      "Created {http://purl.org/hucit/kb/works/3896/60 : http://purl.org/net/hucit#TextElement}\n"
     ]
    }
   ],
   "source": [
    "populate_text_structure(kb, work_obj, text_structure_dict)"
   ]
  },
  {
   "cell_type": "code",
   "execution_count": 275,
   "metadata": {},
   "outputs": [],
   "source": [
    "ts.load()"
   ]
  },
  {
   "cell_type": "code",
   "execution_count": 243,
   "metadata": {},
   "outputs": [
    {
     "data": {
      "text/plain": [
       "118"
      ]
     },
     "execution_count": 243,
     "metadata": {},
     "output_type": "execute_result"
    }
   ],
   "source": [
    "len(ts.hucit_has_element)"
   ]
  },
  {
   "cell_type": "code",
   "execution_count": 276,
   "metadata": {},
   "outputs": [
    {
     "name": "stdout",
     "output_type": "stream",
     "text": [
      "Text element http://purl.org/hucit/kb/works/3896/1 (urn:cts:greekLit:tlg0011.tlg003:1) urn:cts:greekLit:tlg0011.tlg003:1 Sophokles, Ajax line 1\n",
      "Text element http://purl.org/hucit/kb/works/3896/2 (urn:cts:greekLit:tlg0011.tlg003:2) urn:cts:greekLit:tlg0011.tlg003:2 Sophokles, Ajax line 2\n",
      "Text element http://purl.org/hucit/kb/works/3896/3 (urn:cts:greekLit:tlg0011.tlg003:3) urn:cts:greekLit:tlg0011.tlg003:3 Sophokles, Ajax line 3\n",
      "Text element http://purl.org/hucit/kb/works/3896/4 (urn:cts:greekLit:tlg0011.tlg003:4) urn:cts:greekLit:tlg0011.tlg003:4 Sophokles, Ajax line 4\n",
      "Text element http://purl.org/hucit/kb/works/3896/5 (urn:cts:greekLit:tlg0011.tlg003:5) urn:cts:greekLit:tlg0011.tlg003:5 Sophokles, Ajax line 5\n",
      "Text element http://purl.org/hucit/kb/works/3896/6 (urn:cts:greekLit:tlg0011.tlg003:6) urn:cts:greekLit:tlg0011.tlg003:6 Sophokles, Ajax line 6\n",
      "Text element http://purl.org/hucit/kb/works/3896/7 (urn:cts:greekLit:tlg0011.tlg003:7) urn:cts:greekLit:tlg0011.tlg003:7 Sophokles, Ajax line 7\n",
      "Text element http://purl.org/hucit/kb/works/3896/8 (urn:cts:greekLit:tlg0011.tlg003:8) urn:cts:greekLit:tlg0011.tlg003:8 Sophokles, Ajax line 8\n",
      "Text element http://purl.org/hucit/kb/works/3896/9 (urn:cts:greekLit:tlg0011.tlg003:9) urn:cts:greekLit:tlg0011.tlg003:9 Sophokles, Ajax line 9\n",
      "Text element http://purl.org/hucit/kb/works/3896/10 (urn:cts:greekLit:tlg0011.tlg003:10) urn:cts:greekLit:tlg0011.tlg003:10 Sophokles, Ajax line 10\n",
      "Text element http://purl.org/hucit/kb/works/3896/11 (urn:cts:greekLit:tlg0011.tlg003:11) urn:cts:greekLit:tlg0011.tlg003:11 Sophokles, Ajax line 11\n",
      "Text element http://purl.org/hucit/kb/works/3896/12 (urn:cts:greekLit:tlg0011.tlg003:12) urn:cts:greekLit:tlg0011.tlg003:12 Sophokles, Ajax line 12\n",
      "Text element http://purl.org/hucit/kb/works/3896/13 (urn:cts:greekLit:tlg0011.tlg003:13) urn:cts:greekLit:tlg0011.tlg003:13 Sophokles, Ajax line 13\n",
      "Text element http://purl.org/hucit/kb/works/3896/14 (urn:cts:greekLit:tlg0011.tlg003:14) urn:cts:greekLit:tlg0011.tlg003:14 Sophokles, Ajax line 14\n",
      "Text element http://purl.org/hucit/kb/works/3896/15 (urn:cts:greekLit:tlg0011.tlg003:15) urn:cts:greekLit:tlg0011.tlg003:15 Sophokles, Ajax line 15\n",
      "Text element http://purl.org/hucit/kb/works/3896/16 (urn:cts:greekLit:tlg0011.tlg003:16) urn:cts:greekLit:tlg0011.tlg003:16 Sophokles, Ajax line 16\n",
      "Text element http://purl.org/hucit/kb/works/3896/17 (urn:cts:greekLit:tlg0011.tlg003:17) urn:cts:greekLit:tlg0011.tlg003:17 Sophokles, Ajax line 17\n",
      "Text element http://purl.org/hucit/kb/works/3896/18 (urn:cts:greekLit:tlg0011.tlg003:18) urn:cts:greekLit:tlg0011.tlg003:18 Sophokles, Ajax line 18\n",
      "Text element http://purl.org/hucit/kb/works/3896/19 (urn:cts:greekLit:tlg0011.tlg003:19) urn:cts:greekLit:tlg0011.tlg003:19 Sophokles, Ajax line 19\n",
      "Text element http://purl.org/hucit/kb/works/3896/20 (urn:cts:greekLit:tlg0011.tlg003:20) urn:cts:greekLit:tlg0011.tlg003:20 Sophokles, Ajax line 20\n"
     ]
    }
   ],
   "source": [
    "for e in ts.hucit_has_element[:20]:\n",
    "    print(repr(e), e.get_urn(), e.rdfs_label.first)"
   ]
  },
  {
   "cell_type": "code",
   "execution_count": 277,
   "metadata": {},
   "outputs": [],
   "source": [
    "e = ts.hucit_has_element[0]"
   ]
  },
  {
   "cell_type": "code",
   "execution_count": 278,
   "metadata": {},
   "outputs": [
    {
     "data": {
      "text/plain": [
       "b'<?xml version=\"1.0\" encoding=\"UTF-8\"?>\\n<rdf:RDF\\n   xmlns:ECRM=\"http://erlangen-crm.org/current/\"\\n   xmlns:RDF=\"http://www.w3.org/1999/02/22-rdf-syntax-ns#\"\\n   xmlns:RDFS=\"http://www.w3.org/2000/01/rdf-schema#\"\\n   xmlns:rdf=\"http://www.w3.org/1999/02/22-rdf-syntax-ns#\"\\n>\\n  <rdf:Description rdf:about=\"http://purl.org/hucit/kb/works/3896/1\">\\n    <ECRM:P1_is_identified_by rdf:resource=\"http://purl.org/hucit/kb/works/3896/1/cts_urn\"/>\\n    <RDF:type rdf:resource=\"http://purl.org/net/hucit#TextElement\"/>\\n    <RDFS:label>Sophokles, Ajax line 1</RDFS:label>\\n  </rdf:Description>\\n</rdf:RDF>\\n'"
      ]
     },
     "execution_count": 278,
     "metadata": {},
     "output_type": "execute_result"
    }
   ],
   "source": [
    "e.serialize()"
   ]
  },
  {
   "cell_type": "code",
   "execution_count": 218,
   "metadata": {},
   "outputs": [
    {
     "data": {
      "text/plain": [
       "[]"
      ]
     },
     "execution_count": 218,
     "metadata": {},
     "output_type": "execute_result"
    }
   ],
   "source": [
    "e.hucit_precedes"
   ]
  },
  {
   "cell_type": "code",
   "execution_count": 143,
   "metadata": {},
   "outputs": [
    {
     "data": {
      "text/plain": [
       "rdflib.term.URIRef('http://purl.org/hucit/kb/works/3896/1')"
      ]
     },
     "execution_count": 143,
     "metadata": {},
     "output_type": "execute_result"
    }
   ],
   "source": [
    "e.subject"
   ]
  },
  {
   "cell_type": "code",
   "execution_count": 144,
   "metadata": {},
   "outputs": [
    {
     "data": {
      "text/plain": [
       "[<surf.resource.EcrmE42_Identifier object at 0x10baa1f70>]"
      ]
     },
     "execution_count": 144,
     "metadata": {},
     "output_type": "execute_result"
    }
   ],
   "source": [
    "e.ecrm_P1_is_identified_by"
   ]
  },
  {
   "cell_type": "code",
   "execution_count": 145,
   "metadata": {},
   "outputs": [
    {
     "data": {
      "text/plain": [
       "[rdflib.term.Literal('Sophokles, Ajax line 1')]"
      ]
     },
     "execution_count": 145,
     "metadata": {},
     "output_type": "execute_result"
    }
   ],
   "source": [
    "e.rdfs_label"
   ]
  },
  {
   "cell_type": "markdown",
   "metadata": {},
   "source": [
    "## Navigate hierachy of relations between TextElements"
   ]
  },
  {
   "cell_type": "code",
   "execution_count": 473,
   "metadata": {},
   "outputs": [],
   "source": [
    "citable_element = kb.get_resource_by_urn('urn:cts:greekLit:tlg0012.tlg002:1')"
   ]
  },
  {
   "cell_type": "code",
   "execution_count": 474,
   "metadata": {},
   "outputs": [
    {
     "data": {
      "text/plain": [
       "surf.resource.HucitTextElement"
      ]
     },
     "execution_count": 474,
     "metadata": {},
     "output_type": "execute_result"
    }
   ],
   "source": [
    "type(citable_element)"
   ]
  },
  {
   "cell_type": "code",
   "execution_count": 475,
   "metadata": {},
   "outputs": [
    {
     "data": {
      "text/plain": [
       "Homer, Odyssey book 1 (urn:cts:greekLit:tlg0012.tlg002:1)"
      ]
     },
     "execution_count": 475,
     "metadata": {},
     "output_type": "execute_result"
    }
   ],
   "source": [
    "citable_element"
   ]
  },
  {
   "cell_type": "code",
   "execution_count": 477,
   "metadata": {},
   "outputs": [
    {
     "data": {
      "text/plain": [
       "'book'"
      ]
     },
     "execution_count": 477,
     "metadata": {},
     "output_type": "execute_result"
    }
   ],
   "source": [
    "citable_element.get_type()"
   ]
  },
  {
   "cell_type": "code",
   "execution_count": 480,
   "metadata": {},
   "outputs": [
    {
     "data": {
      "text/plain": [
       "True"
      ]
     },
     "execution_count": 480,
     "metadata": {},
     "output_type": "execute_result"
    }
   ],
   "source": [
    "citable_element.is_first()"
   ]
  },
  {
   "cell_type": "code",
   "execution_count": 481,
   "metadata": {},
   "outputs": [
    {
     "data": {
      "text/plain": [
       "False"
      ]
     },
     "execution_count": 481,
     "metadata": {},
     "output_type": "execute_result"
    }
   ],
   "source": [
    "citable_element.is_last()"
   ]
  },
  {
   "cell_type": "code",
   "execution_count": 482,
   "metadata": {},
   "outputs": [],
   "source": [
    "citable_element_children = citable_element.children"
   ]
  },
  {
   "cell_type": "code",
   "execution_count": 483,
   "metadata": {},
   "outputs": [
    {
     "data": {
      "text/plain": [
       "35"
      ]
     },
     "execution_count": 483,
     "metadata": {},
     "output_type": "execute_result"
    }
   ],
   "source": [
    "len(citable_element_children)"
   ]
  },
  {
   "cell_type": "code",
   "execution_count": 487,
   "metadata": {},
   "outputs": [
    {
     "data": {
      "text/plain": [
       "Homer, Odyssey line 1.1 (urn:cts:greekLit:tlg0012.tlg002:1.1)"
      ]
     },
     "execution_count": 487,
     "metadata": {},
     "output_type": "execute_result"
    }
   ],
   "source": [
    "citable_element_children[0]"
   ]
  },
  {
   "cell_type": "code",
   "execution_count": 488,
   "metadata": {},
   "outputs": [],
   "source": [
    "citable_element_children[0].previous"
   ]
  },
  {
   "cell_type": "code",
   "execution_count": 489,
   "metadata": {},
   "outputs": [
    {
     "data": {
      "text/plain": [
       "Homer, Odyssey line 1.2 (urn:cts:greekLit:tlg0012.tlg002:1.2)"
      ]
     },
     "execution_count": 489,
     "metadata": {},
     "output_type": "execute_result"
    }
   ],
   "source": [
    "citable_element_children[0].next"
   ]
  },
  {
   "cell_type": "code",
   "execution_count": 491,
   "metadata": {},
   "outputs": [
    {
     "data": {
      "text/plain": [
       "'line'"
      ]
     },
     "execution_count": 491,
     "metadata": {},
     "output_type": "execute_result"
    }
   ],
   "source": [
    "citable_element_children[0].get_type()"
   ]
  },
  {
   "cell_type": "code",
   "execution_count": 492,
   "metadata": {},
   "outputs": [
    {
     "data": {
      "text/plain": [
       "<surf.resource.EcrmE55_Type at 0x10ac86190>"
      ]
     },
     "execution_count": 492,
     "metadata": {},
     "output_type": "execute_result"
    }
   ],
   "source": [
    "citable_element_children[0].get_type(as_string=False)"
   ]
  },
  {
   "cell_type": "code",
   "execution_count": 496,
   "metadata": {},
   "outputs": [
    {
     "data": {
      "text/plain": [
       "urn:cts:greekLit:tlg0012.tlg002:1.1"
      ]
     },
     "execution_count": 496,
     "metadata": {},
     "output_type": "execute_result"
    }
   ],
   "source": [
    "citable_element_children[0].get_urn()"
   ]
  },
  {
   "cell_type": "code",
   "execution_count": 493,
   "metadata": {},
   "outputs": [
    {
     "data": {
      "text/plain": [
       "[]"
      ]
     },
     "execution_count": 493,
     "metadata": {},
     "output_type": "execute_result"
    }
   ],
   "source": [
    "citable_element_children[0].hucit_resolves_to"
   ]
  },
  {
   "cell_type": "markdown",
   "metadata": {},
   "source": [
    "## debug"
   ]
  },
  {
   "cell_type": "code",
   "execution_count": 9,
   "metadata": {},
   "outputs": [],
   "source": [
    "import sys\n",
    "import surf\n",
    "import logging"
   ]
  },
  {
   "cell_type": "code",
   "execution_count": 10,
   "metadata": {},
   "outputs": [],
   "source": [
    "from hucitlib import KnowledgeBase"
   ]
  },
  {
   "cell_type": "code",
   "execution_count": 3,
   "metadata": {},
   "outputs": [],
   "source": [
    "from surf.log import setup_logger, set_logger_level\n",
    "logging.basicConfig(level=logging.INFO, stream=sys.stdout)\n",
    "logger = logging.getLogger()\n",
    "setup_logger()\n",
    "set_logger_level(logging.DEBUG)"
   ]
  },
  {
   "cell_type": "code",
   "execution_count": 4,
   "metadata": {},
   "outputs": [
    {
     "name": "stderr",
     "output_type": "stream",
     "text": [
      "2020-10-02 11:09:08,110 INFO     surf    initializing the store\n",
      "2020-10-02 11:09:08,111 INFO     surf    store initialized\n"
     ]
    }
   ],
   "source": [
    "kb = KnowledgeBase('../hucitlib/config/virtuoso_pc6.ini')"
   ]
  },
  {
   "cell_type": "code",
   "execution_count": 28,
   "metadata": {},
   "outputs": [
    {
     "name": "stdout",
     "output_type": "stream",
     "text": [
      "DEBUG:hucitlib.kb:Converted the input urn from string to <class 'type'>\n"
     ]
    },
    {
     "name": "stderr",
     "output_type": "stream",
     "text": [
      "2020-10-02 11:38:48,652 DEBUG    surf    \n",
      "            PREFIX frbroo: <http://erlangen-crm.org/efrbroo/>\n",
      "            PREFIX crm: <http://erlangen-crm.org/current/>\n",
      "            PREFIX rdfs: <http://www.w3.org/2000/01/rdf-schema#>\n",
      "\n",
      "            SELECT ?resource_URI\n",
      "\n",
      "            WHERE {\n",
      "                ?resource_URI crm:P1_is_identified_by ?urn .\n",
      "                ?urn a crm:E42_Identifier .\n",
      "                ?urn rdfs:label \"urn:cts:greekLit:tlg0019\"\n",
      "            }\n",
      "        \n"
     ]
    }
   ],
   "source": [
    "author_obj = kb.get_resource_by_urn('urn:cts:greekLit:tlg0019')"
   ]
  },
  {
   "cell_type": "code",
   "execution_count": 29,
   "metadata": {},
   "outputs": [
    {
     "name": "stderr",
     "output_type": "stream",
     "text": [
      "2020-10-02 11:38:49,786 DEBUG    surf    SELECT DISTINCT ?v ?c FROM <http://purl.org/hucit/kb>  WHERE {  <http://purl.org/hucit/kb/authors/765> <http://erlangen-crm.org/current/P1_is_identified_by> ?v .  OPTIONAL { ?v <http://www.w3.org/1999/02/22-rdf-syntax-ns#type> ?c }  }    \n",
      "2020-10-02 11:38:49,827 DEBUG    surf    SELECT DISTINCT ?v ?c FROM <http://purl.org/hucit/kb>  WHERE {  <http://purl.org/hucit/kb/authors/765/name> <http://www.w3.org/2000/01/rdf-schema#label> ?v .  OPTIONAL { ?v <http://www.w3.org/1999/02/22-rdf-syntax-ns#type> ?c }  }    \n"
     ]
    },
    {
     "data": {
      "text/plain": [
       "[('it', 'Aristofane'),\n",
       " ('de', 'Aristophan'),\n",
       " ('fr', 'Aristophane'),\n",
       " (None, 'Aristophanes'),\n",
       " ('la', 'Aristophanes Atheniensis'),\n",
       " ('la', 'Aristophanes Comicus'),\n",
       " ('es', 'Aristófanes')]"
      ]
     },
     "execution_count": 29,
     "metadata": {},
     "output_type": "execute_result"
    }
   ],
   "source": [
    "author_obj.get_names()"
   ]
  },
  {
   "cell_type": "code",
   "execution_count": 30,
   "metadata": {},
   "outputs": [
    {
     "name": "stderr",
     "output_type": "stream",
     "text": [
      "2020-10-02 11:38:51,843 DEBUG    surf    SELECT DISTINCT ?v ?c FROM <http://purl.org/hucit/kb>  WHERE {  <http://purl.org/hucit/kb/authors/765/cts_urn> <http://www.w3.org/2000/01/rdf-schema#label> ?v .  OPTIONAL { ?v <http://www.w3.org/1999/02/22-rdf-syntax-ns#type> ?c }  }    \n"
     ]
    },
    {
     "name": "stdout",
     "output_type": "stream",
     "text": [
      "http://purl.org/hucit/kb/authors/765/cts_urn urn:cts:greekLit:tlg0019 None\n",
      "http://purl.org/hucit/kb/authors/765/name Aristofane it\n",
      "http://purl.org/hucit/kb/authors/765/name Aristophan de\n",
      "http://purl.org/hucit/kb/authors/765/name Aristophane fr\n",
      "http://purl.org/hucit/kb/authors/765/name Aristophanes None\n",
      "http://purl.org/hucit/kb/authors/765/name Aristophanes Atheniensis la\n",
      "http://purl.org/hucit/kb/authors/765/name Aristophanes Comicus la\n",
      "http://purl.org/hucit/kb/authors/765/name Aristófanes es\n"
     ]
    }
   ],
   "source": [
    "for x in author_obj.ecrm_P1_is_identified_by:\n",
    "    for label in x.rdfs_label:\n",
    "        print(x.subject, label, label.language)"
   ]
  },
  {
   "cell_type": "code",
   "execution_count": 31,
   "metadata": {},
   "outputs": [],
   "source": [
    "name = author_obj.ecrm_P1_is_identified_by[-1]"
   ]
  },
  {
   "cell_type": "code",
   "execution_count": 32,
   "metadata": {},
   "outputs": [
    {
     "name": "stdout",
     "output_type": "stream",
     "text": [
      "b'<?xml version=\"1.0\" encoding=\"UTF-8\"?>\\n<rdf:RDF\\n   xmlns:RDF=\"http://www.w3.org/1999/02/22-rdf-syntax-ns#\"\\n   xmlns:RDFS=\"http://www.w3.org/2000/01/rdf-schema#\"\\n   xmlns:rdf=\"http://www.w3.org/1999/02/22-rdf-syntax-ns#\"\\n>\\n  <rdf:Description rdf:about=\"http://purl.org/hucit/kb/authors/765/name\">\\n    <RDFS:label xml:lang=\"es\">Arist\\xc3\\xb3fanes</RDFS:label>\\n    <RDF:type rdf:resource=\"http://erlangen-crm.org/efrbroo/F12_Name\"/>\\n    <RDFS:label>Aristophanes</RDFS:label>\\n    <RDFS:label xml:lang=\"fr\">Aristophane</RDFS:label>\\n    <RDFS:label xml:lang=\"de\">Aristophan</RDFS:label>\\n    <RDFS:label xml:lang=\"it\">Aristofane</RDFS:label>\\n    <RDFS:label xml:lang=\"la\">Aristophanes Comicus</RDFS:label>\\n    <RDFS:label xml:lang=\"la\">Aristophanes Atheniensis</RDFS:label>\\n  </rdf:Description>\\n</rdf:RDF>\\n'\n"
     ]
    }
   ],
   "source": [
    "print(name.serialize())"
   ]
  },
  {
   "cell_type": "code",
   "execution_count": 19,
   "metadata": {},
   "outputs": [
    {
     "name": "stderr",
     "output_type": "stream",
     "text": [
      "2020-10-02 11:18:55,119 DEBUG    surf    DELETE  FROM <http://purl.org/hucit/kb> {  ?s ?p ?o  } WHERE { {  {  ?s ?p ?o .  FILTER (?s = <http://purl.org/hucit/kb/authors/937/name> AND ?p = <http://www.w3.org/1999/02/22-rdf-syntax-ns#type>)  }  } UNION {  {  ?s ?p ?o .  FILTER (?s = <http://purl.org/hucit/kb/authors/937/name> AND ?p = <http://www.w3.org/2000/01/rdf-schema#label>)  }  } }\n",
      "2020-10-02 11:18:55,193 DEBUG    surf    INSERT  INTO <http://purl.org/hucit/kb> {  <http://purl.org/hucit/kb/authors/937/name> <http://www.w3.org/1999/02/22-rdf-syntax-ns#type> <http://erlangen-crm.org/efrbroo/F12_Name> .  <http://purl.org/hucit/kb/authors/937/name> <http://www.w3.org/2000/01/rdf-schema#label> \"Isaios\" .  <http://purl.org/hucit/kb/authors/937/name> <http://www.w3.org/2000/01/rdf-schema#label> \"Isaeus\" .  <http://purl.org/hucit/kb/authors/937/name> <http://www.w3.org/2000/01/rdf-schema#label> \"Iseo\" .  <http://purl.org/hucit/kb/authors/937/name> <http://www.w3.org/2000/01/rdf-schema#label> \"Isée\"  } \n"
     ]
    }
   ],
   "source": [
    "name.update()"
   ]
  },
  {
   "cell_type": "code",
   "execution_count": 12,
   "metadata": {},
   "outputs": [
    {
     "name": "stderr",
     "output_type": "stream",
     "text": [
      "2020-10-02 11:09:52,440 DEBUG    surf    DELETE  FROM <http://purl.org/hucit/kb> {  ?s ?p ?o  } WHERE { {  {  ?s ?p ?o .  FILTER (?s = <http://purl.org/hucit/kb/authors/937/name> AND ?p = <http://www.w3.org/1999/02/22-rdf-syntax-ns#type>)  }  } UNION {  {  ?s ?p ?o .  FILTER (?s = <http://purl.org/hucit/kb/authors/937/name> AND ?p = <http://www.w3.org/2000/01/rdf-schema#label>)  }  } }\n",
      "2020-10-02 11:09:52,477 DEBUG    surf    INSERT  INTO <http://purl.org/hucit/kb> {  <http://purl.org/hucit/kb/authors/937/name> <http://www.w3.org/1999/02/22-rdf-syntax-ns#type> <http://erlangen-crm.org/efrbroo/F12_Name> .  <http://purl.org/hucit/kb/authors/937/name> <http://www.w3.org/2000/01/rdf-schema#label> \"Isaeus\" .  <http://purl.org/hucit/kb/authors/937/name> <http://www.w3.org/2000/01/rdf-schema#label> \"Isaios\" .  <http://purl.org/hucit/kb/authors/937/name> <http://www.w3.org/2000/01/rdf-schema#label> \"Iseo\" .  <http://purl.org/hucit/kb/authors/937/name> <http://www.w3.org/2000/01/rdf-schema#label> \"Isée\"  } \n"
     ]
    }
   ],
   "source": [
    "name.update()"
   ]
  },
  {
   "cell_type": "code",
   "execution_count": 13,
   "metadata": {},
   "outputs": [
    {
     "name": "stdout",
     "output_type": "stream",
     "text": [
      "b'<?xml version=\"1.0\" encoding=\"UTF-8\"?>\\n<rdf:RDF\\n   xmlns:RDF=\"http://www.w3.org/1999/02/22-rdf-syntax-ns#\"\\n   xmlns:RDFS=\"http://www.w3.org/2000/01/rdf-schema#\"\\n   xmlns:rdf=\"http://www.w3.org/1999/02/22-rdf-syntax-ns#\"\\n>\\n  <rdf:Description rdf:about=\"http://purl.org/hucit/kb/authors/937/name\">\\n    <RDF:type rdf:resource=\"http://erlangen-crm.org/efrbroo/F12_Name\"/>\\n    <RDFS:label xml:lang=\"fr\">Is\\xc3\\xa9e</RDFS:label>\\n    <RDFS:label xml:lang=\"it\">Iseo</RDFS:label>\\n    <RDFS:label>Isaios</RDFS:label>\\n    <RDFS:label xml:lang=\"la\">Isaeus</RDFS:label>\\n  </rdf:Description>\\n</rdf:RDF>\\n'\n"
     ]
    }
   ],
   "source": [
    "print(name.serialize())"
   ]
  },
  {
   "cell_type": "code",
   "execution_count": 212,
   "metadata": {},
   "outputs": [
    {
     "data": {
      "text/plain": [
       "dict_items([(rdflib.term.URIRef('http://www.w3.org/1999/02/22-rdf-syntax-ns#type'), [rdflib.term.URIRef('http://erlangen-crm.org/efrbroo/F12_Name')]), (rdflib.term.URIRef('http://www.w3.org/2000/01/rdf-schema#label'), [rdflib.term.Literal('Erodoto', lang='it'), rdflib.term.Literal('Herodot', lang='de'), rdflib.term.Literal('Herodotus', lang='la'), rdflib.term.Literal('Herodotus Historicus', lang='la'), rdflib.term.Literal('Hérodote', lang='fr')]), (0, [])])"
      ]
     },
     "execution_count": 212,
     "metadata": {},
     "output_type": "execute_result"
    }
   ],
   "source": [
    "name.rdf_direct.items()"
   ]
  },
  {
   "cell_type": "code",
   "execution_count": 219,
   "metadata": {},
   "outputs": [
    {
     "name": "stdout",
     "output_type": "stream",
     "text": [
      "http://purl.org/hucit/kb/authors/915/name http://www.w3.org/1999/02/22-rdf-syntax-ns#type http://erlangen-crm.org/efrbroo/F12_Name\n",
      "<class 'rdflib.term.URIRef'>\n",
      "['__add__', '__class__', '__contains__', '__delattr__', '__dir__', '__doc__', '__eq__', '__format__', '__ge__', '__getattribute__', '__getitem__', '__getnewargs__', '__gt__', '__hash__', '__init__', '__init_subclass__', '__invert__', '__iter__', '__le__', '__len__', '__lt__', '__mod__', '__module__', '__mul__', '__ne__', '__neg__', '__new__', '__or__', '__radd__', '__reduce__', '__reduce_ex__', '__repr__', '__rmod__', '__rmul__', '__setattr__', '__sizeof__', '__slots__', '__str__', '__subclasshook__', '__truediv__', 'capitalize', 'casefold', 'center', 'count', 'de_skolemize', 'defrag', 'encode', 'endswith', 'eq', 'expandtabs', 'find', 'format', 'format_map', 'index', 'isalnum', 'isalpha', 'isascii', 'isdecimal', 'isdigit', 'isidentifier', 'islower', 'isnumeric', 'isprintable', 'isspace', 'istitle', 'isupper', 'join', 'ljust', 'lower', 'lstrip', 'maketrans', 'n3', 'neq', 'partition', 'replace', 'rfind', 'rindex', 'rjust', 'rpartition', 'rsplit', 'rstrip', 'split', 'splitlines', 'startswith', 'strip', 'swapcase', 'title', 'toPython', 'translate', 'upper', 'zfill']\n",
      "http://purl.org/hucit/kb/authors/915/name http://www.w3.org/2000/01/rdf-schema#label Erodoto\n",
      "<class 'rdflib.term.Literal'>\n",
      "['__abs__', '__add__', '__bool__', '__class__', '__contains__', '__delattr__', '__dir__', '__doc__', '__eq__', '__format__', '__ge__', '__getattribute__', '__getitem__', '__getnewargs__', '__getstate__', '__gt__', '__hash__', '__init__', '__init_subclass__', '__invert__', '__iter__', '__le__', '__len__', '__lt__', '__mod__', '__module__', '__mul__', '__ne__', '__neg__', '__new__', '__pos__', '__reduce__', '__reduce_ex__', '__repr__', '__rmod__', '__rmul__', '__setattr__', '__setstate__', '__sizeof__', '__slots__', '__str__', '__subclasshook__', '_comparable_to', '_datatype', '_language', '_literal_n3', '_quote_encode', '_value', 'capitalize', 'casefold', 'center', 'count', 'datatype', 'encode', 'endswith', 'eq', 'expandtabs', 'find', 'format', 'format_map', 'index', 'isalnum', 'isalpha', 'isascii', 'isdecimal', 'isdigit', 'isidentifier', 'islower', 'isnumeric', 'isprintable', 'isspace', 'istitle', 'isupper', 'join', 'language', 'ljust', 'lower', 'lstrip', 'maketrans', 'n3', 'neq', 'normalize', 'partition', 'replace', 'rfind', 'rindex', 'rjust', 'rpartition', 'rsplit', 'rstrip', 'split', 'splitlines', 'startswith', 'strip', 'swapcase', 'title', 'toPython', 'translate', 'upper', 'value', 'zfill']\n",
      "http://purl.org/hucit/kb/authors/915/name http://www.w3.org/2000/01/rdf-schema#label Herodot\n",
      "<class 'rdflib.term.Literal'>\n",
      "['__abs__', '__add__', '__bool__', '__class__', '__contains__', '__delattr__', '__dir__', '__doc__', '__eq__', '__format__', '__ge__', '__getattribute__', '__getitem__', '__getnewargs__', '__getstate__', '__gt__', '__hash__', '__init__', '__init_subclass__', '__invert__', '__iter__', '__le__', '__len__', '__lt__', '__mod__', '__module__', '__mul__', '__ne__', '__neg__', '__new__', '__pos__', '__reduce__', '__reduce_ex__', '__repr__', '__rmod__', '__rmul__', '__setattr__', '__setstate__', '__sizeof__', '__slots__', '__str__', '__subclasshook__', '_comparable_to', '_datatype', '_language', '_literal_n3', '_quote_encode', '_value', 'capitalize', 'casefold', 'center', 'count', 'datatype', 'encode', 'endswith', 'eq', 'expandtabs', 'find', 'format', 'format_map', 'index', 'isalnum', 'isalpha', 'isascii', 'isdecimal', 'isdigit', 'isidentifier', 'islower', 'isnumeric', 'isprintable', 'isspace', 'istitle', 'isupper', 'join', 'language', 'ljust', 'lower', 'lstrip', 'maketrans', 'n3', 'neq', 'normalize', 'partition', 'replace', 'rfind', 'rindex', 'rjust', 'rpartition', 'rsplit', 'rstrip', 'split', 'splitlines', 'startswith', 'strip', 'swapcase', 'title', 'toPython', 'translate', 'upper', 'value', 'zfill']\n",
      "http://purl.org/hucit/kb/authors/915/name http://www.w3.org/2000/01/rdf-schema#label Herodotus\n",
      "<class 'rdflib.term.Literal'>\n",
      "['__abs__', '__add__', '__bool__', '__class__', '__contains__', '__delattr__', '__dir__', '__doc__', '__eq__', '__format__', '__ge__', '__getattribute__', '__getitem__', '__getnewargs__', '__getstate__', '__gt__', '__hash__', '__init__', '__init_subclass__', '__invert__', '__iter__', '__le__', '__len__', '__lt__', '__mod__', '__module__', '__mul__', '__ne__', '__neg__', '__new__', '__pos__', '__reduce__', '__reduce_ex__', '__repr__', '__rmod__', '__rmul__', '__setattr__', '__setstate__', '__sizeof__', '__slots__', '__str__', '__subclasshook__', '_comparable_to', '_datatype', '_language', '_literal_n3', '_quote_encode', '_value', 'capitalize', 'casefold', 'center', 'count', 'datatype', 'encode', 'endswith', 'eq', 'expandtabs', 'find', 'format', 'format_map', 'index', 'isalnum', 'isalpha', 'isascii', 'isdecimal', 'isdigit', 'isidentifier', 'islower', 'isnumeric', 'isprintable', 'isspace', 'istitle', 'isupper', 'join', 'language', 'ljust', 'lower', 'lstrip', 'maketrans', 'n3', 'neq', 'normalize', 'partition', 'replace', 'rfind', 'rindex', 'rjust', 'rpartition', 'rsplit', 'rstrip', 'split', 'splitlines', 'startswith', 'strip', 'swapcase', 'title', 'toPython', 'translate', 'upper', 'value', 'zfill']\n",
      "http://purl.org/hucit/kb/authors/915/name http://www.w3.org/2000/01/rdf-schema#label Herodotus Historicus\n",
      "<class 'rdflib.term.Literal'>\n",
      "['__abs__', '__add__', '__bool__', '__class__', '__contains__', '__delattr__', '__dir__', '__doc__', '__eq__', '__format__', '__ge__', '__getattribute__', '__getitem__', '__getnewargs__', '__getstate__', '__gt__', '__hash__', '__init__', '__init_subclass__', '__invert__', '__iter__', '__le__', '__len__', '__lt__', '__mod__', '__module__', '__mul__', '__ne__', '__neg__', '__new__', '__pos__', '__reduce__', '__reduce_ex__', '__repr__', '__rmod__', '__rmul__', '__setattr__', '__setstate__', '__sizeof__', '__slots__', '__str__', '__subclasshook__', '_comparable_to', '_datatype', '_language', '_literal_n3', '_quote_encode', '_value', 'capitalize', 'casefold', 'center', 'count', 'datatype', 'encode', 'endswith', 'eq', 'expandtabs', 'find', 'format', 'format_map', 'index', 'isalnum', 'isalpha', 'isascii', 'isdecimal', 'isdigit', 'isidentifier', 'islower', 'isnumeric', 'isprintable', 'isspace', 'istitle', 'isupper', 'join', 'language', 'ljust', 'lower', 'lstrip', 'maketrans', 'n3', 'neq', 'normalize', 'partition', 'replace', 'rfind', 'rindex', 'rjust', 'rpartition', 'rsplit', 'rstrip', 'split', 'splitlines', 'startswith', 'strip', 'swapcase', 'title', 'toPython', 'translate', 'upper', 'value', 'zfill']\n",
      "http://purl.org/hucit/kb/authors/915/name http://www.w3.org/2000/01/rdf-schema#label Hérodote\n",
      "<class 'rdflib.term.Literal'>\n",
      "['__abs__', '__add__', '__bool__', '__class__', '__contains__', '__delattr__', '__dir__', '__doc__', '__eq__', '__format__', '__ge__', '__getattribute__', '__getitem__', '__getnewargs__', '__getstate__', '__gt__', '__hash__', '__init__', '__init_subclass__', '__invert__', '__iter__', '__le__', '__len__', '__lt__', '__mod__', '__module__', '__mul__', '__ne__', '__neg__', '__new__', '__pos__', '__reduce__', '__reduce_ex__', '__repr__', '__rmod__', '__rmul__', '__setattr__', '__setstate__', '__sizeof__', '__slots__', '__str__', '__subclasshook__', '_comparable_to', '_datatype', '_language', '_literal_n3', '_quote_encode', '_value', 'capitalize', 'casefold', 'center', 'count', 'datatype', 'encode', 'endswith', 'eq', 'expandtabs', 'find', 'format', 'format_map', 'index', 'isalnum', 'isalpha', 'isascii', 'isdecimal', 'isdigit', 'isidentifier', 'islower', 'isnumeric', 'isprintable', 'isspace', 'istitle', 'isupper', 'join', 'language', 'ljust', 'lower', 'lstrip', 'maketrans', 'n3', 'neq', 'normalize', 'partition', 'replace', 'rfind', 'rindex', 'rjust', 'rpartition', 'rsplit', 'rstrip', 'split', 'splitlines', 'startswith', 'strip', 'swapcase', 'title', 'toPython', 'translate', 'upper', 'value', 'zfill']\n"
     ]
    }
   ],
   "source": [
    "s = name.subject\n",
    "for p, objs in list(name.rdf_direct.items()):\n",
    "                for o in objs:\n",
    "                    print(s, p, o)\n",
    "                    print(type(o))\n",
    "                    print(dir(o))"
   ]
  },
  {
   "cell_type": "code",
   "execution_count": 207,
   "metadata": {},
   "outputs": [
    {
     "data": {
      "text/plain": [
       "defaultdict(list,\n",
       "            {rdflib.term.URIRef('http://www.w3.org/1999/02/22-rdf-syntax-ns#type'): [rdflib.term.URIRef('http://erlangen-crm.org/efrbroo/F12_Name')],\n",
       "             rdflib.term.URIRef('http://www.w3.org/2000/01/rdf-schema#label'): [rdflib.term.Literal('Erodoto', lang='it'),\n",
       "              rdflib.term.Literal('Herodot', lang='de'),\n",
       "              rdflib.term.Literal('Herodotus', lang='la'),\n",
       "              rdflib.term.Literal('Herodotus Historicus', lang='la'),\n",
       "              rdflib.term.Literal('Hérodote', lang='fr')],\n",
       "             0: []})"
      ]
     },
     "execution_count": 207,
     "metadata": {},
     "output_type": "execute_result"
    }
   ],
   "source": [
    "name.rdf_direct"
   ]
  },
  {
   "cell_type": "code",
   "execution_count": 204,
   "metadata": {},
   "outputs": [
    {
     "name": "stdout",
     "output_type": "stream",
     "text": [
      "b'<?xml version=\"1.0\" encoding=\"UTF-8\"?>\\n<rdf:RDF\\n   xmlns:RDF=\"http://www.w3.org/1999/02/22-rdf-syntax-ns#\"\\n   xmlns:RDFS=\"http://www.w3.org/2000/01/rdf-schema#\"\\n   xmlns:rdf=\"http://www.w3.org/1999/02/22-rdf-syntax-ns#\"\\n>\\n  <rdf:Description rdf:about=\"http://purl.org/hucit/kb/authors/915/name\">\\n    <RDF:type rdf:resource=\"http://erlangen-crm.org/efrbroo/F12_Name\"/>\\n    <RDFS:label xml:lang=\"la\">Herodotus</RDFS:label>\\n    <RDFS:label xml:lang=\"fr\">H\\xc3\\xa9rodote</RDFS:label>\\n    <RDFS:label xml:lang=\"it\">Erodoto</RDFS:label>\\n    <RDFS:label xml:lang=\"de\">Herodot</RDFS:label>\\n    <RDFS:label xml:lang=\"la\">Herodotus Historicus</RDFS:label>\\n  </rdf:Description>\\n</rdf:RDF>\\n'\n"
     ]
    }
   ],
   "source": [
    "print(name.serialize())"
   ]
  },
  {
   "cell_type": "code",
   "execution_count": 186,
   "metadata": {},
   "outputs": [],
   "source": [
    "names = name.rdfs_label"
   ]
  },
  {
   "cell_type": "code",
   "execution_count": 187,
   "metadata": {},
   "outputs": [],
   "source": [
    "new_name = names.pop()"
   ]
  },
  {
   "cell_type": "code",
   "execution_count": 188,
   "metadata": {},
   "outputs": [
    {
     "data": {
      "text/plain": [
       "rdflib.term.Literal('Démosthène', lang='fr')"
      ]
     },
     "execution_count": 188,
     "metadata": {},
     "output_type": "execute_result"
    }
   ],
   "source": [
    "new_name"
   ]
  },
  {
   "cell_type": "code",
   "execution_count": 190,
   "metadata": {},
   "outputs": [],
   "source": [
    "name.rdfs_label = []\n",
    "\n",
    "for label in names:\n",
    "    name.rdfs_label.append(label)"
   ]
  },
  {
   "cell_type": "code",
   "execution_count": 36,
   "metadata": {},
   "outputs": [
    {
     "name": "stderr",
     "output_type": "stream",
     "text": [
      "2020-10-02 11:40:48,025 DEBUG    surf    DELETE  FROM <http://purl.org/hucit/kb> {  ?s ?p ?o  } WHERE { {  {  ?s ?p ?o .  FILTER (?s = <http://purl.org/hucit/kb/authors/765/name> AND ?p = <http://www.w3.org/1999/02/22-rdf-syntax-ns#type>)  }  } UNION {  {  ?s ?p ?o .  FILTER (?s = <http://purl.org/hucit/kb/authors/765/name> AND ?p = <http://www.w3.org/2000/01/rdf-schema#label>)  }  } }\n",
      "2020-10-02 11:40:48,082 DEBUG    surf    INSERT  INTO <http://purl.org/hucit/kb> {  <http://purl.org/hucit/kb/authors/765/name> <http://www.w3.org/1999/02/22-rdf-syntax-ns#type> <http://erlangen-crm.org/efrbroo/F12_Name> .  <http://purl.org/hucit/kb/authors/765/name> <http://www.w3.org/2000/01/rdf-schema#label> \"Aristofane\" .  <http://purl.org/hucit/kb/authors/765/name> <http://www.w3.org/2000/01/rdf-schema#label> \"Aristophan\" .  <http://purl.org/hucit/kb/authors/765/name> <http://www.w3.org/2000/01/rdf-schema#label> \"Aristophane\" .  <http://purl.org/hucit/kb/authors/765/name> <http://www.w3.org/2000/01/rdf-schema#label> \"Aristophanes\" .  <http://purl.org/hucit/kb/authors/765/name> <http://www.w3.org/2000/01/rdf-schema#label> \"Aristophanes Atheniensis\" .  <http://purl.org/hucit/kb/authors/765/name> <http://www.w3.org/2000/01/rdf-schema#label> \"Aristophanes Comicus\" .  <http://purl.org/hucit/kb/authors/765/name> <http://www.w3.org/2000/01/rdf-schema#label> \"Aristófanes\"  } \n",
      "2020-10-02 11:40:48,122 DEBUG    surf    SELECT DISTINCT ?p ?v ?c FROM <http://purl.org/hucit/kb>  WHERE {  <http://purl.org/hucit/kb/authors/765/name> ?p ?v .  OPTIONAL { ?v <http://www.w3.org/1999/02/22-rdf-syntax-ns#type> ?c }  }    \n",
      "2020-10-02 11:40:48,181 DEBUG    surf    SELECT DISTINCT ?p ?v ?c FROM <http://purl.org/hucit/kb>  WHERE {  ?v ?p <http://purl.org/hucit/kb/authors/765/name> .  OPTIONAL { ?v <http://www.w3.org/1999/02/22-rdf-syntax-ns#type> ?c }  }    \n"
     ]
    }
   ],
   "source": [
    "name.update()\n",
    "name.load()"
   ]
  },
  {
   "cell_type": "code",
   "execution_count": 194,
   "metadata": {},
   "outputs": [
    {
     "data": {
      "text/plain": [
       "[rdflib.term.Literal('Demostene'), rdflib.term.Literal('Demosthenes'), rdflib.term.Literal('Demosthenes Atheniensis'), rdflib.term.Literal('Demóstenes')]"
      ]
     },
     "execution_count": 194,
     "metadata": {},
     "output_type": "execute_result"
    }
   ],
   "source": [
    "name.rdfs_label"
   ]
  },
  {
   "cell_type": "code",
   "execution_count": 37,
   "metadata": {},
   "outputs": [
    {
     "data": {
      "text/plain": [
       "True"
      ]
     },
     "execution_count": 37,
     "metadata": {},
     "output_type": "execute_result"
    }
   ],
   "source": [
    "isinstance(name.rdfs_label.first, str)"
   ]
  },
  {
   "cell_type": "code",
   "execution_count": 35,
   "metadata": {},
   "outputs": [
    {
     "data": {
      "text/plain": [
       "'\"Aristofane\"@it'"
      ]
     },
     "execution_count": 35,
     "metadata": {},
     "output_type": "execute_result"
    }
   ],
   "source": [
    "name.rdfs_label.first.n3()"
   ]
  },
  {
   "cell_type": "code",
   "execution_count": 133,
   "metadata": {},
   "outputs": [],
   "source": [
    "from rdflib import Literal"
   ]
  },
  {
   "cell_type": "code",
   "execution_count": 134,
   "metadata": {},
   "outputs": [],
   "source": [
    "newname = Literal(\"هوميروس\", \"ar\")"
   ]
  },
  {
   "cell_type": "code",
   "execution_count": 135,
   "metadata": {},
   "outputs": [
    {
     "data": {
      "text/plain": [
       "rdflib.term.Literal('هوميروس', lang='ar')"
      ]
     },
     "execution_count": 135,
     "metadata": {},
     "output_type": "execute_result"
    }
   ],
   "source": [
    "newname"
   ]
  },
  {
   "cell_type": "code",
   "execution_count": 171,
   "metadata": {},
   "outputs": [],
   "source": [
    "names.append(newname)"
   ]
  },
  {
   "cell_type": "code",
   "execution_count": 172,
   "metadata": {},
   "outputs": [
    {
     "data": {
      "text/plain": [
       "[rdflib.term.Literal('Homeric Hymns', lang='en'), rdflib.term.Literal('Homerische Hymnen', lang='de'), rdflib.term.Literal('Hymnes homériques', lang='fr'), rdflib.term.Literal('Hymni Homerici', lang='la'), rdflib.term.Literal('هوميروس', lang='ar')]"
      ]
     },
     "execution_count": 172,
     "metadata": {},
     "output_type": "execute_result"
    }
   ],
   "source": [
    "names"
   ]
  },
  {
   "cell_type": "code",
   "execution_count": 173,
   "metadata": {},
   "outputs": [],
   "source": [
    "name.rdfs_label = names"
   ]
  },
  {
   "cell_type": "code",
   "execution_count": 174,
   "metadata": {},
   "outputs": [
    {
     "data": {
      "text/plain": [
       "[rdflib.term.Literal('Homeric Hymns', lang='en'), rdflib.term.Literal('Homerische Hymnen', lang='de'), rdflib.term.Literal('Hymnes homériques', lang='fr'), rdflib.term.Literal('Hymni Homerici', lang='la'), rdflib.term.Literal('هوميروس', lang='ar')]"
      ]
     },
     "execution_count": 174,
     "metadata": {},
     "output_type": "execute_result"
    }
   ],
   "source": [
    "name.rdfs_label"
   ]
  },
  {
   "cell_type": "code",
   "execution_count": 175,
   "metadata": {},
   "outputs": [],
   "source": [
    "name.update()\n",
    "name.load()"
   ]
  },
  {
   "cell_type": "code",
   "execution_count": 176,
   "metadata": {},
   "outputs": [
    {
     "data": {
      "text/plain": [
       "[rdflib.term.Literal('هوميروس'), rdflib.term.Literal('Homeric Hymns'), rdflib.term.Literal('Homerische Hymnen'), rdflib.term.Literal('Hymnes homériques'), rdflib.term.Literal('Hymni Homerici')]"
      ]
     },
     "execution_count": 176,
     "metadata": {},
     "output_type": "execute_result"
    }
   ],
   "source": [
    "name.rdfs_label"
   ]
  },
  {
   "cell_type": "code",
   "execution_count": 181,
   "metadata": {},
   "outputs": [
    {
     "data": {
      "text/plain": [
       "b'<?xml version=\"1.0\" encoding=\"UTF-8\"?>\\n<rdf:RDF\\n   xmlns:ECRM=\"http://erlangen-crm.org/current/\"\\n   xmlns:RDF=\"http://www.w3.org/1999/02/22-rdf-syntax-ns#\"\\n   xmlns:RDFS=\"http://www.w3.org/2000/01/rdf-schema#\"\\n   xmlns:rdf=\"http://www.w3.org/1999/02/22-rdf-syntax-ns#\"\\n>\\n  <rdf:Description rdf:about=\"http://purl.org/hucit/kb/authors/929/name\">\\n    <RDF:type rdf:resource=\"http://erlangen-crm.org/efrbroo/F12_Name\"/>\\n    <RDFS:label>Homeric Hymns</RDFS:label>\\n    <RDFS:label>\\xd9\\x87\\xd9\\x88\\xd9\\x85\\xd9\\x8a\\xd8\\xb1\\xd9\\x88\\xd8\\xb3</RDFS:label>\\n    <RDFS:label>Hymni Homerici</RDFS:label>\\n    <ECRM:P139_has_alternative_form rdf:resource=\"http://purl.org/hucit/kb/authors/929/abbr\"/>\\n    <RDFS:label>Homerische Hymnen</RDFS:label>\\n    <RDFS:label>Hymnes hom\\xc3\\xa9riques</RDFS:label>\\n  </rdf:Description>\\n  <rdf:Description rdf:about=\"http://purl.org/hucit/kb/authors/929\">\\n    <ECRM:P1_identified_by rdf:resource=\"http://purl.org/hucit/kb/authors/929/name\"/>\\n  </rdf:Description>\\n</rdf:RDF>\\n'"
      ]
     },
     "execution_count": 181,
     "metadata": {},
     "output_type": "execute_result"
    }
   ],
   "source": [
    "name.serialize()"
   ]
  },
  {
   "cell_type": "code",
   "execution_count": 145,
   "metadata": {},
   "outputs": [
    {
     "data": {
      "text/plain": [
       "rdflib.term.Literal('هوميروس', lang='ar')"
      ]
     },
     "execution_count": 145,
     "metadata": {},
     "output_type": "execute_result"
    }
   ],
   "source": [
    "names.pop()"
   ]
  },
  {
   "cell_type": "code",
   "execution_count": 146,
   "metadata": {},
   "outputs": [
    {
     "data": {
      "text/plain": [
       "[rdflib.term.Literal('Homer', lang='en'), rdflib.term.Literal('Homeros'), rdflib.term.Literal('Homerus', lang='la'), rdflib.term.Literal('Homère', lang='fr'), rdflib.term.Literal('Omero', lang='it')]"
      ]
     },
     "execution_count": 146,
     "metadata": {},
     "output_type": "execute_result"
    }
   ],
   "source": [
    "names"
   ]
  },
  {
   "cell_type": "code",
   "execution_count": 20,
   "metadata": {},
   "outputs": [],
   "source": [
    "from surf.query.update import insert, delete, clear, load"
   ]
  },
  {
   "cell_type": "code",
   "execution_count": 22,
   "metadata": {},
   "outputs": [],
   "source": [
    "query = insert()"
   ]
  },
  {
   "cell_type": "code",
   "execution_count": 23,
   "metadata": {},
   "outputs": [
    {
     "data": {
      "text/plain": [
       "<surf.query.update.QueryUpdate at 0x112ccaee0>"
      ]
     },
     "execution_count": 23,
     "metadata": {},
     "output_type": "execute_result"
    }
   ],
   "source": [
    "query"
   ]
  },
  {
   "cell_type": "code",
   "execution_count": 24,
   "metadata": {},
   "outputs": [
    {
     "data": {
      "text/plain": [
       "'INSERT   {  } '"
      ]
     },
     "execution_count": 24,
     "metadata": {},
     "output_type": "execute_result"
    }
   ],
   "source": [
    "str(query)"
   ]
  },
  {
   "cell_type": "code",
   "execution_count": null,
   "metadata": {},
   "outputs": [],
   "source": []
  }
 ],
 "metadata": {
  "kernelspec": {
   "display_name": "Python 3",
   "language": "python",
   "name": "python3"
  },
  "language_info": {
   "codemirror_mode": {
    "name": "ipython",
    "version": 3
   },
   "file_extension": ".py",
   "mimetype": "text/x-python",
   "name": "python",
   "nbconvert_exporter": "python",
   "pygments_lexer": "ipython3",
   "version": "3.8.0"
  }
 },
 "nbformat": 4,
 "nbformat_minor": 4
}
